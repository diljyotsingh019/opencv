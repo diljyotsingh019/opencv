{
 "cells": [
  {
   "cell_type": "markdown",
   "metadata": {},
   "source": [
    "## Translations\n",
    "\n",
    "This an affine transform that simply shifts the position of an image.\n",
    "\n",
    "We use cv2.warpAffine to implement these transformations.\n"
   ]
  },
  {
   "cell_type": "markdown",
   "metadata": {},
   "source": [
    "- Translation is the shifting of an image along the x and y axis \n",
    "- using translation, we can shift an image up, down left, or right, along with any combination"
   ]
  },
  {
   "cell_type": "code",
   "execution_count": 1,
   "metadata": {
    "ExecuteTime": {
     "end_time": "2022-05-22T15:09:01.414718Z",
     "start_time": "2022-05-22T15:09:01.221201Z"
    }
   },
   "outputs": [],
   "source": [
    "import cv2\n",
    "import numpy as np"
   ]
  },
  {
   "cell_type": "code",
   "execution_count": 11,
   "metadata": {
    "ExecuteTime": {
     "end_time": "2022-05-22T15:10:37.485103Z",
     "start_time": "2022-05-22T15:10:37.423244Z"
    },
    "collapsed": true
   },
   "outputs": [
    {
     "data": {
      "text/plain": [
       "array([[[ 10,  22,   4],\n",
       "        [ 10,  22,   4],\n",
       "        [ 10,  21,   5],\n",
       "        ...,\n",
       "        [  8,  30,   6],\n",
       "        [  6,  30,   6],\n",
       "        [  5,  29,   5]],\n",
       "\n",
       "       [[  7,  19,   1],\n",
       "        [  7,  19,   1],\n",
       "        [  8,  19,   3],\n",
       "        ...,\n",
       "        [  6,  28,   4],\n",
       "        [  7,  29,   5],\n",
       "        [  5,  29,   5]],\n",
       "\n",
       "       [[  5,  20,   0],\n",
       "        [  5,  20,   0],\n",
       "        [  5,  19,   1],\n",
       "        ...,\n",
       "        [  4,  25,   3],\n",
       "        [  5,  26,   4],\n",
       "        [  5,  26,   4]],\n",
       "\n",
       "       ...,\n",
       "\n",
       "       [[ 50, 172, 242],\n",
       "        [ 50, 171, 240],\n",
       "        [ 45, 166, 235],\n",
       "        ...,\n",
       "        [ 75,  96, 128],\n",
       "        [ 69,  90, 122],\n",
       "        [ 72,  93, 125]],\n",
       "\n",
       "       [[ 47, 182, 255],\n",
       "        [ 46, 181, 255],\n",
       "        [ 42, 175, 249],\n",
       "        ...,\n",
       "        [ 68,  89, 121],\n",
       "        [ 67,  88, 120],\n",
       "        [ 62,  83, 115]],\n",
       "\n",
       "       [[ 29, 171, 248],\n",
       "        [ 34, 176, 253],\n",
       "        [ 37, 179, 255],\n",
       "        ...,\n",
       "        [ 66,  88, 123],\n",
       "        [ 73,  93, 128],\n",
       "        [ 65,  85, 120]]], dtype=uint8)"
      ]
     },
     "execution_count": 11,
     "metadata": {},
     "output_type": "execute_result"
    }
   ],
   "source": [
    "image = cv2.imread('DATA/DOGS.jpeg')\n",
    "image"
   ]
  },
  {
   "cell_type": "code",
   "execution_count": 12,
   "metadata": {
    "ExecuteTime": {
     "end_time": "2022-05-22T15:10:44.250369Z",
     "start_time": "2022-05-22T15:10:44.240396Z"
    }
   },
   "outputs": [],
   "source": [
    "a = (2,3,4,5,6)"
   ]
  },
  {
   "cell_type": "code",
   "execution_count": 13,
   "metadata": {
    "ExecuteTime": {
     "end_time": "2022-05-22T15:10:44.594486Z",
     "start_time": "2022-05-22T15:10:44.577505Z"
    }
   },
   "outputs": [
    {
     "ename": "ValueError",
     "evalue": "too many values to unpack (expected 4)",
     "output_type": "error",
     "traceback": [
      "\u001b[1;31m---------------------------------------------------------------------------\u001b[0m",
      "\u001b[1;31mValueError\u001b[0m                                Traceback (most recent call last)",
      "\u001b[1;32m<ipython-input-13-a0056b8fcd9a>\u001b[0m in \u001b[0;36m<module>\u001b[1;34m\u001b[0m\n\u001b[1;32m----> 1\u001b[1;33m \u001b[0mb\u001b[0m\u001b[1;33m,\u001b[0m\u001b[0mc\u001b[0m\u001b[1;33m,\u001b[0m\u001b[0md\u001b[0m\u001b[1;33m,\u001b[0m\u001b[0me\u001b[0m \u001b[1;33m=\u001b[0m \u001b[0ma\u001b[0m\u001b[1;33m[\u001b[0m\u001b[1;33m:\u001b[0m\u001b[1;33m]\u001b[0m\u001b[1;33m\u001b[0m\u001b[1;33m\u001b[0m\u001b[0m\n\u001b[0m",
      "\u001b[1;31mValueError\u001b[0m: too many values to unpack (expected 4)"
     ]
    }
   ],
   "source": [
    "b,c,d,e = a[:]"
   ]
  },
  {
   "cell_type": "code",
   "execution_count": 14,
   "metadata": {
    "ExecuteTime": {
     "end_time": "2022-05-22T15:10:45.122609Z",
     "start_time": "2022-05-22T15:10:45.111638Z"
    }
   },
   "outputs": [
    {
     "data": {
      "text/plain": [
       "(733, 1100, 3)"
      ]
     },
     "execution_count": 14,
     "metadata": {},
     "output_type": "execute_result"
    }
   ],
   "source": [
    "image.shape"
   ]
  },
  {
   "cell_type": "code",
   "execution_count": 17,
   "metadata": {
    "ExecuteTime": {
     "end_time": "2022-05-22T15:12:09.574216Z",
     "start_time": "2022-05-22T15:12:09.559256Z"
    }
   },
   "outputs": [],
   "source": [
    "# Store height and width of the image\n",
    "height, width = image.shape[:2]"
   ]
  },
  {
   "cell_type": "code",
   "execution_count": 18,
   "metadata": {
    "ExecuteTime": {
     "end_time": "2022-05-22T15:12:11.062037Z",
     "start_time": "2022-05-22T15:12:11.055051Z"
    }
   },
   "outputs": [
    {
     "data": {
      "text/plain": [
       "(733, 1100, 3)"
      ]
     },
     "execution_count": 18,
     "metadata": {},
     "output_type": "execute_result"
    }
   ],
   "source": [
    "image.shape"
   ]
  },
  {
   "cell_type": "code",
   "execution_count": 19,
   "metadata": {
    "ExecuteTime": {
     "end_time": "2022-05-22T15:12:12.068838Z",
     "start_time": "2022-05-22T15:12:12.054842Z"
    },
    "scrolled": true
   },
   "outputs": [
    {
     "data": {
      "text/plain": [
       "(733, 1100, 3)"
      ]
     },
     "execution_count": 19,
     "metadata": {},
     "output_type": "execute_result"
    }
   ],
   "source": [
    "image.shape"
   ]
  },
  {
   "cell_type": "code",
   "execution_count": 20,
   "metadata": {
    "ExecuteTime": {
     "end_time": "2022-05-22T15:12:13.065567Z",
     "start_time": "2022-05-22T15:12:13.055567Z"
    }
   },
   "outputs": [],
   "source": [
    "q_h, q_w = height/4, width/4\n",
    "\n",
    "# create a transaltion matrix \n",
    "#       | 1 0 Tx |\n",
    "#  T  = | 0 1 Ty |"
   ]
  },
  {
   "cell_type": "markdown",
   "metadata": {},
   "source": [
    "- NOTE\n",
    "    - Tx: shift image from x axis, +ve number will shift the image to right side and -ve number will shift the image to left side\n",
    "    - Ty: shift the image up and down from y axis +ve for down and -ve for up"
   ]
  },
  {
   "cell_type": "code",
   "execution_count": 25,
   "metadata": {
    "ExecuteTime": {
     "end_time": "2022-05-22T15:13:08.921248Z",
     "start_time": "2022-05-22T15:13:08.902265Z"
    }
   },
   "outputs": [],
   "source": [
    "# T is our translation matrix\n",
    "T = np.float32([[1, 0, q_h], [0, 1, 0]])"
   ]
  },
  {
   "cell_type": "code",
   "execution_count": 26,
   "metadata": {
    "ExecuteTime": {
     "end_time": "2022-05-22T15:13:09.774687Z",
     "start_time": "2022-05-22T15:13:09.760722Z"
    }
   },
   "outputs": [
    {
     "data": {
      "text/plain": [
       "array([[  1.  ,   0.  , 183.25],\n",
       "       [  0.  ,   1.  ,   0.  ]], dtype=float32)"
      ]
     },
     "execution_count": 26,
     "metadata": {},
     "output_type": "execute_result"
    }
   ],
   "source": [
    "T"
   ]
  },
  {
   "cell_type": "code",
   "execution_count": 27,
   "metadata": {
    "ExecuteTime": {
     "end_time": "2022-05-22T15:13:12.256700Z",
     "start_time": "2022-05-22T15:13:12.238746Z"
    }
   },
   "outputs": [],
   "source": [
    "# We use warpAffine to transform the image using the matrix, T\n",
    "img_translation = cv2.warpAffine(image, T, (width, height))"
   ]
  },
  {
   "cell_type": "code",
   "execution_count": 28,
   "metadata": {
    "ExecuteTime": {
     "end_time": "2022-05-22T15:13:18.116900Z",
     "start_time": "2022-05-22T15:13:13.079270Z"
    }
   },
   "outputs": [],
   "source": [
    "cv2.imshow(\"orignal\", image )\n",
    "cv2.imshow('Translation', img_translation)\n",
    "cv2.waitKey()\n",
    "cv2.destroyAllWindows()"
   ]
  },
  {
   "cell_type": "markdown",
   "metadata": {},
   "source": [
    "### Create functions"
   ]
  },
  {
   "cell_type": "code",
   "execution_count": 20,
   "metadata": {},
   "outputs": [],
   "source": [
    "def show(img):\n",
    "    cv2.imshow('output', img)\n",
    "    cv2.waitKey()\n",
    "    cv2.destroyAllWindows()"
   ]
  },
  {
   "cell_type": "code",
   "execution_count": 34,
   "metadata": {},
   "outputs": [],
   "source": [
    "def translate(image, x, y):\n",
    "\n",
    "    M = np.float32([[1, 0, x], [0, 1, y]])\n",
    "    shifted = cv2.warpAffine(image, M, (image.shape[1], image.shape[0]))\n",
    "    return shifted"
   ]
  },
  {
   "cell_type": "code",
   "execution_count": 35,
   "metadata": {},
   "outputs": [],
   "source": [
    "#shift image down\n",
    "shifted = translate(image, 0, 100)\n",
    "show(shifted)\n",
    "# cv2.imshow(\"Shifted down image\", shifted)\n",
    "# cv2.waitKey(0)\n",
    "# cv2.destroyAllWindows()"
   ]
  },
  {
   "cell_type": "code",
   "execution_count": 32,
   "metadata": {},
   "outputs": [],
   "source": [
    "#shift image up\n",
    "shifted = translate(image, 0, -100)\n",
    "cv2.imshow(\"Shifted up image\", shifted)\n",
    "cv2.waitKey(0)\n",
    "cv2.destroyAllWindows()"
   ]
  },
  {
   "cell_type": "code",
   "execution_count": 33,
   "metadata": {},
   "outputs": [],
   "source": [
    "#shift image left\n",
    "shifted = translate(image, -100, 0)\n",
    "cv2.imshow(\"Shifted left image\", shifted)\n",
    "cv2.waitKey(0)\n",
    "cv2.destroyAllWindows()"
   ]
  },
  {
   "cell_type": "code",
   "execution_count": 29,
   "metadata": {},
   "outputs": [],
   "source": [
    "#shift image right\n",
    "shifted = translate(image, -100, 0)\n",
    "cv2.imshow(\"Shifted right image\", shifted)\n",
    "cv2.waitKey(0)\n",
    "cv2.destroyAllWindows()"
   ]
  },
  {
   "cell_type": "code",
   "execution_count": 25,
   "metadata": {},
   "outputs": [],
   "source": [
    "#shift image right and down\n",
    "shifted = translate(image, 100, 50)\n",
    "cv2.imshow(\"Shifted right down image\", shifted)\n",
    "cv2.waitKey(0)\n",
    "cv2.destroyAllWindows()"
   ]
  },
  {
   "cell_type": "code",
   "execution_count": null,
   "metadata": {},
   "outputs": [],
   "source": []
  }
 ],
 "metadata": {
  "kernelspec": {
   "display_name": "Python 3",
   "language": "python",
   "name": "python3"
  },
  "language_info": {
   "codemirror_mode": {
    "name": "ipython",
    "version": 3
   },
   "file_extension": ".py",
   "mimetype": "text/x-python",
   "name": "python",
   "nbconvert_exporter": "python",
   "pygments_lexer": "ipython3",
   "version": "3.7.6"
  }
 },
 "nbformat": 4,
 "nbformat_minor": 1
}
