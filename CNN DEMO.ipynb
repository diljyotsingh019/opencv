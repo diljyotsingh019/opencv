{
 "cells": [
  {
   "cell_type": "code",
   "execution_count": 1,
   "metadata": {
    "ExecuteTime": {
     "end_time": "2022-10-26T01:18:04.588574Z",
     "start_time": "2022-10-26T01:18:01.626518Z"
    },
    "collapsed": true,
    "id": "R7SFGGnkFoj1"
   },
   "outputs": [
    {
     "name": "stdout",
     "output_type": "stream",
     "text": [
      "Requirement already satisfied: tensorflow-gpu==2.0.0 in c:\\users\\diljyot\\anaconda3\\lib\\site-packages (2.0.0)\n",
      "Requirement already satisfied: wrapt>=1.11.1 in c:\\users\\diljyot\\anaconda3\\lib\\site-packages (from tensorflow-gpu==2.0.0) (1.13.3)\n",
      "Requirement already satisfied: google-pasta>=0.1.6 in c:\\users\\diljyot\\anaconda3\\lib\\site-packages (from tensorflow-gpu==2.0.0) (0.2.0)\n",
      "Requirement already satisfied: keras-applications>=1.0.8 in c:\\users\\diljyot\\anaconda3\\lib\\site-packages (from tensorflow-gpu==2.0.0) (1.0.8)\n"
     ]
    },
    {
     "name": "stderr",
     "output_type": "stream",
     "text": [
      "WARNING: There was an error checking the latest version of pip.\n"
     ]
    },
    {
     "name": "stdout",
     "output_type": "stream",
     "text": [
      "Requirement already satisfied: six>=1.10.0 in c:\\users\\diljyot\\anaconda3\\lib\\site-packages (from tensorflow-gpu==2.0.0) (1.15.0)\n",
      "Requirement already satisfied: gast==0.2.2 in c:\\users\\diljyot\\anaconda3\\lib\\site-packages (from tensorflow-gpu==2.0.0) (0.2.2)\n",
      "Requirement already satisfied: numpy<2.0,>=1.16.0 in c:\\users\\diljyot\\anaconda3\\lib\\site-packages (from tensorflow-gpu==2.0.0) (1.21.6)\n",
      "Requirement already satisfied: tensorflow-estimator<2.1.0,>=2.0.0 in c:\\users\\diljyot\\anaconda3\\lib\\site-packages (from tensorflow-gpu==2.0.0) (2.0.1)\n",
      "Requirement already satisfied: termcolor>=1.1.0 in c:\\users\\diljyot\\anaconda3\\lib\\site-packages (from tensorflow-gpu==2.0.0) (1.1.0)\n",
      "Requirement already satisfied: tensorboard<2.1.0,>=2.0.0 in c:\\users\\diljyot\\anaconda3\\lib\\site-packages (from tensorflow-gpu==2.0.0) (2.0.2)\n",
      "Requirement already satisfied: grpcio>=1.8.6 in c:\\users\\diljyot\\anaconda3\\lib\\site-packages (from tensorflow-gpu==2.0.0) (1.43.0)\n",
      "Requirement already satisfied: wheel>=0.26 in c:\\users\\diljyot\\anaconda3\\lib\\site-packages (from tensorflow-gpu==2.0.0) (0.37.1)\n",
      "Requirement already satisfied: astor>=0.6.0 in c:\\users\\diljyot\\anaconda3\\lib\\site-packages (from tensorflow-gpu==2.0.0) (0.8.1)\n",
      "Requirement already satisfied: absl-py>=0.7.0 in c:\\users\\diljyot\\anaconda3\\lib\\site-packages (from tensorflow-gpu==2.0.0) (1.0.0)\n",
      "Requirement already satisfied: opt-einsum>=2.3.2 in c:\\users\\diljyot\\anaconda3\\lib\\site-packages (from tensorflow-gpu==2.0.0) (3.3.0)\n",
      "Requirement already satisfied: protobuf>=3.6.1 in c:\\users\\diljyot\\anaconda3\\lib\\site-packages (from tensorflow-gpu==2.0.0) (3.19.3)\n",
      "Requirement already satisfied: keras-preprocessing>=1.0.5 in c:\\users\\diljyot\\anaconda3\\lib\\site-packages (from tensorflow-gpu==2.0.0) (1.1.2)\n",
      "Requirement already satisfied: h5py in c:\\users\\diljyot\\anaconda3\\lib\\site-packages (from keras-applications>=1.0.8->tensorflow-gpu==2.0.0) (3.6.0)\n",
      "Requirement already satisfied: requests<3,>=2.21.0 in c:\\users\\diljyot\\anaconda3\\lib\\site-packages (from tensorboard<2.1.0,>=2.0.0->tensorflow-gpu==2.0.0) (2.24.0)\n",
      "Requirement already satisfied: google-auth<2,>=1.6.3 in c:\\users\\diljyot\\anaconda3\\lib\\site-packages (from tensorboard<2.1.0,>=2.0.0->tensorflow-gpu==2.0.0) (1.35.0)\n",
      "Requirement already satisfied: werkzeug>=0.11.15 in c:\\users\\diljyot\\anaconda3\\lib\\site-packages (from tensorboard<2.1.0,>=2.0.0->tensorflow-gpu==2.0.0) (2.0.2)\n",
      "Requirement already satisfied: google-auth-oauthlib<0.5,>=0.4.1 in c:\\users\\diljyot\\anaconda3\\lib\\site-packages (from tensorboard<2.1.0,>=2.0.0->tensorflow-gpu==2.0.0) (0.4.6)\n",
      "Requirement already satisfied: markdown>=2.6.8 in c:\\users\\diljyot\\anaconda3\\lib\\site-packages (from tensorboard<2.1.0,>=2.0.0->tensorflow-gpu==2.0.0) (3.3.6)\n",
      "Requirement already satisfied: setuptools>=41.0.0 in c:\\users\\diljyot\\anaconda3\\lib\\site-packages (from tensorboard<2.1.0,>=2.0.0->tensorflow-gpu==2.0.0) (62.1.0)\n",
      "Requirement already satisfied: cachetools<5.0,>=2.0.0 in c:\\users\\diljyot\\anaconda3\\lib\\site-packages (from google-auth<2,>=1.6.3->tensorboard<2.1.0,>=2.0.0->tensorflow-gpu==2.0.0) (4.2.4)\n",
      "Requirement already satisfied: pyasn1-modules>=0.2.1 in c:\\users\\diljyot\\anaconda3\\lib\\site-packages (from google-auth<2,>=1.6.3->tensorboard<2.1.0,>=2.0.0->tensorflow-gpu==2.0.0) (0.2.8)\n",
      "Requirement already satisfied: rsa<5,>=3.1.4 in c:\\users\\diljyot\\anaconda3\\lib\\site-packages (from google-auth<2,>=1.6.3->tensorboard<2.1.0,>=2.0.0->tensorflow-gpu==2.0.0) (4.8)\n",
      "Requirement already satisfied: requests-oauthlib>=0.7.0 in c:\\users\\diljyot\\anaconda3\\lib\\site-packages (from google-auth-oauthlib<0.5,>=0.4.1->tensorboard<2.1.0,>=2.0.0->tensorflow-gpu==2.0.0) (1.3.0)\n",
      "Requirement already satisfied: importlib-metadata>=4.4 in c:\\users\\diljyot\\anaconda3\\lib\\site-packages (from markdown>=2.6.8->tensorboard<2.1.0,>=2.0.0->tensorflow-gpu==2.0.0) (4.10.1)\n",
      "Requirement already satisfied: chardet<4,>=3.0.2 in c:\\users\\diljyot\\anaconda3\\lib\\site-packages (from requests<3,>=2.21.0->tensorboard<2.1.0,>=2.0.0->tensorflow-gpu==2.0.0) (3.0.4)\n",
      "Requirement already satisfied: idna<3,>=2.5 in c:\\users\\diljyot\\anaconda3\\lib\\site-packages (from requests<3,>=2.21.0->tensorboard<2.1.0,>=2.0.0->tensorflow-gpu==2.0.0) (2.10)\n",
      "Requirement already satisfied: certifi>=2017.4.17 in c:\\users\\diljyot\\anaconda3\\lib\\site-packages (from requests<3,>=2.21.0->tensorboard<2.1.0,>=2.0.0->tensorflow-gpu==2.0.0) (2021.5.30)\n",
      "Requirement already satisfied: urllib3!=1.25.0,!=1.25.1,<1.26,>=1.21.1 in c:\\users\\diljyot\\anaconda3\\lib\\site-packages (from requests<3,>=2.21.0->tensorboard<2.1.0,>=2.0.0->tensorflow-gpu==2.0.0) (1.25.11)\n",
      "Requirement already satisfied: cached-property in c:\\users\\diljyot\\anaconda3\\lib\\site-packages (from h5py->keras-applications>=1.0.8->tensorflow-gpu==2.0.0) (1.5.2)\n",
      "Requirement already satisfied: zipp>=0.5 in c:\\users\\diljyot\\anaconda3\\lib\\site-packages (from importlib-metadata>=4.4->markdown>=2.6.8->tensorboard<2.1.0,>=2.0.0->tensorflow-gpu==2.0.0) (3.1.0)\n",
      "Requirement already satisfied: typing-extensions>=3.6.4 in c:\\users\\diljyot\\anaconda3\\lib\\site-packages (from importlib-metadata>=4.4->markdown>=2.6.8->tensorboard<2.1.0,>=2.0.0->tensorflow-gpu==2.0.0) (3.10.0.2)\n",
      "Requirement already satisfied: pyasn1<0.5.0,>=0.4.6 in c:\\users\\diljyot\\anaconda3\\lib\\site-packages (from pyasn1-modules>=0.2.1->google-auth<2,>=1.6.3->tensorboard<2.1.0,>=2.0.0->tensorflow-gpu==2.0.0) (0.4.8)\n",
      "Requirement already satisfied: oauthlib>=3.0.0 in c:\\users\\diljyot\\anaconda3\\lib\\site-packages (from requests-oauthlib>=0.7.0->google-auth-oauthlib<0.5,>=0.4.1->tensorboard<2.1.0,>=2.0.0->tensorflow-gpu==2.0.0) (3.1.1)\n"
     ]
    }
   ],
   "source": [
    "!pip install tensorflow-gpu==2.0.0"
   ]
  },
  {
   "cell_type": "code",
   "execution_count": 2,
   "metadata": {
    "ExecuteTime": {
     "end_time": "2022-10-26T01:18:18.514674Z",
     "start_time": "2022-10-26T01:18:12.664695Z"
    },
    "colab": {
     "base_uri": "https://localhost:8080/"
    },
    "executionInfo": {
     "elapsed": 386,
     "status": "ok",
     "timestamp": 1643448283859,
     "user": {
      "displayName": "devdatta trainings",
      "photoUrl": "https://lh3.googleusercontent.com/a/default-user=s64",
      "userId": "16964738642897968134"
     },
     "user_tz": -330
    },
    "id": "a078fbc1",
    "outputId": "2d4ed6cb-6764-45a5-a5f5-3cdbc170b50c"
   },
   "outputs": [
    {
     "name": "stdout",
     "output_type": "stream",
     "text": [
      "2.0.0\n"
     ]
    }
   ],
   "source": [
    "# import the necessary packages\n",
    "from tensorflow.keras.models import Sequential\n",
    "from tensorflow.keras.layers import Conv2D\n",
    "from tensorflow.keras.layers import MaxPooling2D\n",
    "from tensorflow.keras.layers import Activation\n",
    "from tensorflow.keras.layers import Flatten\n",
    "from tensorflow.keras.layers import Dense\n",
    "from tensorflow.keras import backend as K\n",
    "from tensorflow.keras.preprocessing.image import ImageDataGenerator\n",
    "from tensorflow.keras.optimizers import Adam\n",
    "from tensorflow.keras.preprocessing.image import img_to_array\n",
    "from tensorflow.keras.utils import to_categorical\n",
    "\n",
    "from sklearn.model_selection import train_test_split\n",
    "\n",
    "from imutils import paths\n",
    "import matplotlib.pyplot as plt\n",
    "import numpy as np\n",
    "import argparse\n",
    "import random\n",
    "import cv2\n",
    "import os\n",
    "\n",
    "import warnings\n",
    "from tqdm import tqdm_notebook as tqdm\n",
    "import itertools\n",
    "\n",
    "import tensorflow as tf \n",
    "print(tf.__version__)\n",
    "warnings.filterwarnings(\"ignore\")\n",
    "SEED = 42   # set random seed"
   ]
  },
  {
   "cell_type": "code",
   "execution_count": null,
   "metadata": {
    "id": "b0c24e9e"
   },
   "outputs": [],
   "source": []
  },
  {
   "cell_type": "code",
   "execution_count": 3,
   "metadata": {
    "ExecuteTime": {
     "end_time": "2022-10-26T01:18:47.551132Z",
     "start_time": "2022-10-26T01:18:47.529158Z"
    },
    "executionInfo": {
     "elapsed": 561,
     "status": "ok",
     "timestamp": 1643449300586,
     "user": {
      "displayName": "devdatta trainings",
      "photoUrl": "https://lh3.googleusercontent.com/a/default-user=s64",
      "userId": "16964738642897968134"
     },
     "user_tz": -330
    },
    "id": "037834f1"
   },
   "outputs": [],
   "source": [
    "# create CNN Model\n",
    "\n",
    "class LeNet:\n",
    "    @staticmethod\n",
    "    def build(width, height, depth, classes):\n",
    "        # initialize the model\n",
    "        model = Sequential()\n",
    "        inputShape = (height, width, depth) # (h, h, chanel)\n",
    "\n",
    "        # if we are using \"channels first\", update the input shape\n",
    "        if K.image_data_format() == \"channels_first\":\n",
    "            inputShape = (depth, height, width)\n",
    "\n",
    "        # first set of CONV => RELU => POOL layers\n",
    "        model.add(Conv2D(20, (5, 5), padding=\"same\",input_shape=inputShape))\n",
    "        model.add(Activation(\"relu\"))\n",
    "        model.add(MaxPooling2D(pool_size=(2, 2), strides=(2, 2)))\n",
    "\n",
    "        # second set of CONV => RELU => POOL layers\n",
    "        model.add(Conv2D(50, (5, 5), padding=\"same\"))\n",
    "        model.add(Activation(\"relu\"))\n",
    "        model.add(MaxPooling2D(pool_size=(2, 2), strides=(2, 2)))\n",
    "\n",
    "        # first (and only) set of FC => RELU layers\n",
    "        model.add(Flatten())\n",
    "        model.add(Dense(500))\n",
    "        model.add(Activation(\"relu\"))\n",
    "\n",
    "        # softmax classifier\n",
    "        model.add(Dense(classes))\n",
    "        model.add(Activation(\"softmax\"))\n",
    "\n",
    "        # return the constructed network architecture\n",
    "        return model\n"
   ]
  },
  {
   "cell_type": "code",
   "execution_count": 5,
   "metadata": {
    "ExecuteTime": {
     "end_time": "2022-10-26T01:19:09.415504Z",
     "start_time": "2022-10-26T01:19:09.401657Z"
    },
    "executionInfo": {
     "elapsed": 391,
     "status": "ok",
     "timestamp": 1643448295302,
     "user": {
      "displayName": "devdatta trainings",
      "photoUrl": "https://lh3.googleusercontent.com/a/default-user=s64",
      "userId": "16964738642897968134"
     },
     "user_tz": -330
    },
    "id": "5a6e9a15"
   },
   "outputs": [],
   "source": [
    "DATASET = \"dataset\"  # this folde must contain three subfolder with images\n",
    "MODEL = \"Scene.model\" # name to store the model on disk\n",
    "PLOT = \"plot.png\" # plot name"
   ]
  },
  {
   "cell_type": "code",
   "execution_count": 6,
   "metadata": {
    "ExecuteTime": {
     "end_time": "2022-10-26T01:19:10.263141Z",
     "start_time": "2022-10-26T01:19:10.248146Z"
    },
    "executionInfo": {
     "elapsed": 354,
     "status": "ok",
     "timestamp": 1643448298994,
     "user": {
      "displayName": "devdatta trainings",
      "photoUrl": "https://lh3.googleusercontent.com/a/default-user=s64",
      "userId": "16964738642897968134"
     },
     "user_tz": -330
    },
    "id": "3cdfe24a"
   },
   "outputs": [],
   "source": [
    "EPOCHS = 25\n",
    "INIT_LR = 1e-3\n",
    "BS = 32"
   ]
  },
  {
   "cell_type": "code",
   "execution_count": 5,
   "metadata": {
    "colab": {
     "base_uri": "https://localhost:8080/"
    },
    "executionInfo": {
     "elapsed": 22432,
     "status": "ok",
     "timestamp": 1643448341864,
     "user": {
      "displayName": "devdatta trainings",
      "photoUrl": "https://lh3.googleusercontent.com/a/default-user=s64",
      "userId": "16964738642897968134"
     },
     "user_tz": -330
    },
    "id": "n30-Nh3qJxxZ",
    "outputId": "91f62a09-7021-4baa-d864-727e8941988b"
   },
   "outputs": [
    {
     "name": "stdout",
     "output_type": "stream",
     "text": [
      "Mounted at /content/drive\n"
     ]
    }
   ],
   "source": [
    "from google.colab import drive\n",
    "drive.mount('/content/drive')"
   ]
  },
  {
   "cell_type": "code",
   "execution_count": 7,
   "metadata": {
    "executionInfo": {
     "elapsed": 371,
     "status": "ok",
     "timestamp": 1643448401143,
     "user": {
      "displayName": "devdatta trainings",
      "photoUrl": "https://lh3.googleusercontent.com/a/default-user=s64",
      "userId": "16964738642897968134"
     },
     "user_tz": -330
    },
    "id": "__vfKhSNJ-eP"
   },
   "outputs": [],
   "source": [
    "import os\n",
    "os.chdir(\"/content/drive/MyDrive/PGAA08_Deep_Learning/Code Files/5. CNN Project\")"
   ]
  },
  {
   "cell_type": "code",
   "execution_count": 8,
   "metadata": {
    "colab": {
     "base_uri": "https://localhost:8080/"
    },
    "executionInfo": {
     "elapsed": 565,
     "status": "ok",
     "timestamp": 1643448417919,
     "user": {
      "displayName": "devdatta trainings",
      "photoUrl": "https://lh3.googleusercontent.com/a/default-user=s64",
      "userId": "16964738642897968134"
     },
     "user_tz": -330
    },
    "id": "gHcD8VzHKI8_",
    "outputId": "113962ae-7cbc-45fb-ca8b-b751dbaeb6a2"
   },
   "outputs": [
    {
     "name": "stdout",
     "output_type": "stream",
     "text": [
      "ann_local_requirements.txt  dataset.rar     test_examples.rar\n",
      "CNN\\ DEMO.ipynb\t\t    FINAL_CNN.html\n"
     ]
    }
   ],
   "source": [
    "!dir"
   ]
  },
  {
   "cell_type": "code",
   "execution_count": null,
   "metadata": {
    "id": "K2pT0ulqKYSI"
   },
   "outputs": [],
   "source": [
    "!pip install patool"
   ]
  },
  {
   "cell_type": "code",
   "execution_count": 10,
   "metadata": {
    "colab": {
     "base_uri": "https://localhost:8080/",
     "height": 105
    },
    "executionInfo": {
     "elapsed": 13686,
     "status": "ok",
     "timestamp": 1643448537744,
     "user": {
      "displayName": "devdatta trainings",
      "photoUrl": "https://lh3.googleusercontent.com/a/default-user=s64",
      "userId": "16964738642897968134"
     },
     "user_tz": -330
    },
    "id": "eXMiSs2hKhvw",
    "outputId": "67e932f7-e161-4576-f7da-de59021f085f"
   },
   "outputs": [
    {
     "name": "stdout",
     "output_type": "stream",
     "text": [
      "patool: Extracting dataset.rar ...\n",
      "patool: running /usr/bin/unrar x -- \"/content/drive/MyDrive/PGAA08_Deep_Learning/Code Files/5. CNN Project/dataset.rar\"\n",
      "patool:     with cwd='./Unpack_px5qkw_e'\n",
      "patool: ... dataset.rar extracted to `dataset'.\n"
     ]
    },
    {
     "data": {
      "application/vnd.google.colaboratory.intrinsic+json": {
       "type": "string"
      },
      "text/plain": [
       "'dataset'"
      ]
     },
     "execution_count": 10,
     "metadata": {},
     "output_type": "execute_result"
    }
   ],
   "source": [
    "import patoolib\n",
    "patoolib.extract_archive(\"dataset.rar\")"
   ]
  },
  {
   "cell_type": "code",
   "execution_count": 11,
   "metadata": {
    "colab": {
     "base_uri": "https://localhost:8080/",
     "height": 105
    },
    "executionInfo": {
     "elapsed": 1100,
     "status": "ok",
     "timestamp": 1643448551982,
     "user": {
      "displayName": "devdatta trainings",
      "photoUrl": "https://lh3.googleusercontent.com/a/default-user=s64",
      "userId": "16964738642897968134"
     },
     "user_tz": -330
    },
    "id": "b8PqT23_Kmqm",
    "outputId": "a64a6789-b3a5-42e9-de9c-99129cb1e6b6"
   },
   "outputs": [
    {
     "name": "stdout",
     "output_type": "stream",
     "text": [
      "patool: Extracting test_examples.rar ...\n",
      "patool: running /usr/bin/unrar x -- \"/content/drive/MyDrive/PGAA08_Deep_Learning/Code Files/5. CNN Project/test_examples.rar\"\n",
      "patool:     with cwd='./Unpack_aybep6qc'\n",
      "patool: ... test_examples.rar extracted to `test_examples'.\n"
     ]
    },
    {
     "data": {
      "application/vnd.google.colaboratory.intrinsic+json": {
       "type": "string"
      },
      "text/plain": [
       "'test_examples'"
      ]
     },
     "execution_count": 11,
     "metadata": {},
     "output_type": "execute_result"
    }
   ],
   "source": [
    "patoolib.extract_archive(\"test_examples.rar\")"
   ]
  },
  {
   "cell_type": "code",
   "execution_count": 7,
   "metadata": {
    "ExecuteTime": {
     "end_time": "2022-10-26T01:19:20.590337Z",
     "start_time": "2022-10-26T01:19:19.553171Z"
    },
    "colab": {
     "base_uri": "https://localhost:8080/",
     "height": 66,
     "referenced_widgets": [
      "e52ad6169792498a9a61670f0a778eb8",
      "27156caebfef43b4b62ac54e97571fea",
      "49426bcab1b24963b5853d8e59e33686",
      "a549e63755d44ea488147b8b47566e99",
      "6006f4d43fa946b5945cab7fda3d69e9",
      "1a9f62c6470b4b8ea4b448b85519971c",
      "ec0ce834bce142c1ab990fcf14b249f7",
      "4360322ee2b14af0a45da9f82c97257c",
      "5ab6cf3e25564371a397f04e379812ce",
      "604e7b963a90472b942c0ec33f941fa4",
      "53f2c2b6cde247d2a1b3f5512c38f9ec"
     ]
    },
    "executionInfo": {
     "elapsed": 4839,
     "status": "ok",
     "timestamp": 1643448940667,
     "user": {
      "displayName": "devdatta trainings",
      "photoUrl": "https://lh3.googleusercontent.com/a/default-user=s64",
      "userId": "16964738642897968134"
     },
     "user_tz": -330
    },
    "id": "ed17e3d0",
    "outputId": "5bc2add0-9428-4ede-9715-0695ae60b1ab"
   },
   "outputs": [
    {
     "name": "stdout",
     "output_type": "stream",
     "text": [
      "[INFO] loading images...\n"
     ]
    },
    {
     "data": {
      "application/vnd.jupyter.widget-view+json": {
       "model_id": "7e66f533f7c74c83a2238de3a34f2188",
       "version_major": 2,
       "version_minor": 0
      },
      "text/plain": [
       "HBox(children=(FloatProgress(value=0.0, max=1326.0), HTML(value='')))"
      ]
     },
     "metadata": {},
     "output_type": "display_data"
    },
    {
     "name": "stdout",
     "output_type": "stream",
     "text": [
      "\n"
     ]
    }
   ],
   "source": [
    "# initialize the data and labels\n",
    "print(\"[INFO] loading images...\")\n",
    "data = []\n",
    "labels = []\n",
    "\n",
    "# grab the image paths and randomly shuffle them\n",
    "imagePaths = sorted(list(paths.list_images(DATASET)))\n",
    "random.seed(42)\n",
    "random.shuffle(imagePaths)\n",
    "\n",
    "# progress bar \n",
    "with tqdm(total=len(imagePaths)) as pbar:\n",
    "    \n",
    "    # loop over the input images\n",
    "    for idx, imagePath in enumerate(imagePaths):\n",
    "        # load the image, pre-process it, and store it in the data list\n",
    "        image = cv2.imread(imagePath)\n",
    "        image = cv2.resize(image, (28, 28))\n",
    "        image = img_to_array(image)\n",
    "        data.append(image)\n",
    "\n",
    "        # extract the class label from the image path and update the\n",
    "        # labels list\n",
    "        label = imagePath.split(os.path.sep)[-2]\n",
    "\n",
    "        \n",
    "\n",
    "        if label == \"Buildings\":\n",
    "            label = 0\n",
    "        elif label == \"Forest\":\n",
    "            label = 1\n",
    "        elif label == \"Sea\":\n",
    "            label = 2\n",
    "\n",
    "        # print(\"pr: \", label)\t\n",
    "\n",
    "        labels.append(label)\n",
    "        \n",
    "        # update the progressbar\n",
    "        pbar.update(1)"
   ]
  },
  {
   "cell_type": "code",
   "execution_count": 8,
   "metadata": {
    "ExecuteTime": {
     "end_time": "2022-10-26T01:19:22.960358Z",
     "start_time": "2022-10-26T01:19:22.945397Z"
    },
    "collapsed": true,
    "id": "ixPGSJn7MgRF"
   },
   "outputs": [
    {
     "data": {
      "text/plain": [
       "array([[[237., 209., 198.],\n",
       "        [240., 215., 205.],\n",
       "        [237., 215., 204.],\n",
       "        ...,\n",
       "        [188., 143., 116.],\n",
       "        [200., 156., 125.],\n",
       "        [195., 138., 106.]],\n",
       "\n",
       "       [[235., 207., 192.],\n",
       "        [232., 210., 198.],\n",
       "        [236., 217., 209.],\n",
       "        ...,\n",
       "        [214., 169., 145.],\n",
       "        [182., 117.,  80.],\n",
       "        [174., 113.,  77.]],\n",
       "\n",
       "       [[228., 199., 184.],\n",
       "        [243., 219., 206.],\n",
       "        [245., 225., 214.],\n",
       "        ...,\n",
       "        [206., 154., 123.],\n",
       "        [209., 156., 120.],\n",
       "        [181., 118.,  81.]],\n",
       "\n",
       "       ...,\n",
       "\n",
       "       [[155., 164., 172.],\n",
       "        [143., 152., 165.],\n",
       "        [137., 149., 155.],\n",
       "        ...,\n",
       "        [ 66.,  57.,  54.],\n",
       "        [ 17.,   9.,   7.],\n",
       "        [ 14.,   6.,   6.]],\n",
       "\n",
       "       [[ 97., 113., 129.],\n",
       "        [113., 129., 141.],\n",
       "        [119., 130., 140.],\n",
       "        ...,\n",
       "        [ 19.,  15.,  16.],\n",
       "        [ 27.,  25.,  23.],\n",
       "        [ 15.,  12.,  12.]],\n",
       "\n",
       "       [[147., 159., 169.],\n",
       "        [138., 149., 158.],\n",
       "        [127., 136., 145.],\n",
       "        ...,\n",
       "        [108., 114., 112.],\n",
       "        [100., 100., 100.],\n",
       "        [ 96.,  98.,  98.]]], dtype=float32)"
      ]
     },
     "execution_count": 8,
     "metadata": {},
     "output_type": "execute_result"
    }
   ],
   "source": [
    "data[0]"
   ]
  },
  {
   "cell_type": "code",
   "execution_count": 9,
   "metadata": {
    "ExecuteTime": {
     "end_time": "2022-10-26T01:19:29.820428Z",
     "start_time": "2022-10-26T01:19:29.809487Z"
    },
    "colab": {
     "base_uri": "https://localhost:8080/"
    },
    "executionInfo": {
     "elapsed": 389,
     "status": "ok",
     "timestamp": 1643448991896,
     "user": {
      "displayName": "devdatta trainings",
      "photoUrl": "https://lh3.googleusercontent.com/a/default-user=s64",
      "userId": "16964738642897968134"
     },
     "user_tz": -330
    },
    "id": "o9Py7_E3MTY-",
    "outputId": "2ab2d0bf-43fd-4848-f0d5-34ccd97c6032"
   },
   "outputs": [
    {
     "data": {
      "text/plain": [
       "(28, 28, 3)"
      ]
     },
     "execution_count": 9,
     "metadata": {},
     "output_type": "execute_result"
    }
   ],
   "source": [
    "data[0].shape"
   ]
  },
  {
   "cell_type": "code",
   "execution_count": 10,
   "metadata": {
    "ExecuteTime": {
     "end_time": "2022-10-26T01:19:39.514478Z",
     "start_time": "2022-10-26T01:19:39.473135Z"
    },
    "executionInfo": {
     "elapsed": 567,
     "status": "ok",
     "timestamp": 1643449056217,
     "user": {
      "displayName": "devdatta trainings",
      "photoUrl": "https://lh3.googleusercontent.com/a/default-user=s64",
      "userId": "16964738642897968134"
     },
     "user_tz": -330
    },
    "id": "4202481c"
   },
   "outputs": [],
   "source": [
    "data = np.array(data, dtype=\"float\") / 255.0\n",
    "labels = np.array(labels)"
   ]
  },
  {
   "cell_type": "code",
   "execution_count": 11,
   "metadata": {
    "ExecuteTime": {
     "end_time": "2022-10-26T01:19:41.070587Z",
     "start_time": "2022-10-26T01:19:41.064512Z"
    },
    "colab": {
     "base_uri": "https://localhost:8080/"
    },
    "executionInfo": {
     "elapsed": 476,
     "status": "ok",
     "timestamp": 1643449059475,
     "user": {
      "displayName": "devdatta trainings",
      "photoUrl": "https://lh3.googleusercontent.com/a/default-user=s64",
      "userId": "16964738642897968134"
     },
     "user_tz": -330
    },
    "id": "6cefd307",
    "outputId": "58e32ba6-5114-42d0-af61-5b3c40b3fe06"
   },
   "outputs": [
    {
     "data": {
      "text/plain": [
       "array([0, 1, 0, ..., 0, 0, 2])"
      ]
     },
     "execution_count": 11,
     "metadata": {},
     "output_type": "execute_result"
    }
   ],
   "source": [
    "labels"
   ]
  },
  {
   "cell_type": "code",
   "execution_count": 12,
   "metadata": {
    "ExecuteTime": {
     "end_time": "2022-10-26T01:19:45.071704Z",
     "start_time": "2022-10-26T01:19:45.048751Z"
    },
    "executionInfo": {
     "elapsed": 508,
     "status": "ok",
     "timestamp": 1643449066410,
     "user": {
      "displayName": "devdatta trainings",
      "photoUrl": "https://lh3.googleusercontent.com/a/default-user=s64",
      "userId": "16964738642897968134"
     },
     "user_tz": -330
    },
    "id": "a4152df6"
   },
   "outputs": [],
   "source": [
    "(trainX, testX, trainY, testY) = train_test_split(data, labels, test_size=0.25, random_state=42)"
   ]
  },
  {
   "cell_type": "code",
   "execution_count": 13,
   "metadata": {
    "ExecuteTime": {
     "end_time": "2022-10-26T01:19:45.619558Z",
     "start_time": "2022-10-26T01:19:45.600403Z"
    },
    "colab": {
     "base_uri": "https://localhost:8080/"
    },
    "executionInfo": {
     "elapsed": 9,
     "status": "ok",
     "timestamp": 1643449067047,
     "user": {
      "displayName": "devdatta trainings",
      "photoUrl": "https://lh3.googleusercontent.com/a/default-user=s64",
      "userId": "16964738642897968134"
     },
     "user_tz": -330
    },
    "id": "19ba84a9",
    "outputId": "baf383f7-abc2-4718-c278-8d415d9f3b37"
   },
   "outputs": [
    {
     "data": {
      "text/plain": [
       "(994, 28, 28, 3)"
      ]
     },
     "execution_count": 13,
     "metadata": {},
     "output_type": "execute_result"
    }
   ],
   "source": [
    "trainX.shape"
   ]
  },
  {
   "cell_type": "code",
   "execution_count": 14,
   "metadata": {
    "ExecuteTime": {
     "end_time": "2022-10-26T01:19:46.473430Z",
     "start_time": "2022-10-26T01:19:46.464419Z"
    },
    "colab": {
     "base_uri": "https://localhost:8080/"
    },
    "executionInfo": {
     "elapsed": 7,
     "status": "ok",
     "timestamp": 1643449068168,
     "user": {
      "displayName": "devdatta trainings",
      "photoUrl": "https://lh3.googleusercontent.com/a/default-user=s64",
      "userId": "16964738642897968134"
     },
     "user_tz": -330
    },
    "id": "9c360c71",
    "outputId": "0552439c-0867-4b2d-fb36-8e9b0a40181a"
   },
   "outputs": [
    {
     "data": {
      "text/plain": [
       "(994,)"
      ]
     },
     "execution_count": 14,
     "metadata": {},
     "output_type": "execute_result"
    }
   ],
   "source": [
    "trainY.shape"
   ]
  },
  {
   "cell_type": "code",
   "execution_count": 15,
   "metadata": {
    "ExecuteTime": {
     "end_time": "2022-10-26T01:19:47.811412Z",
     "start_time": "2022-10-26T01:19:47.801190Z"
    },
    "executionInfo": {
     "elapsed": 479,
     "status": "ok",
     "timestamp": 1643449092517,
     "user": {
      "displayName": "devdatta trainings",
      "photoUrl": "https://lh3.googleusercontent.com/a/default-user=s64",
      "userId": "16964738642897968134"
     },
     "user_tz": -330
    },
    "id": "23f2f5b6"
   },
   "outputs": [],
   "source": [
    "trainY = to_categorical(trainY, num_classes=3)\n",
    "testY = to_categorical(testY, num_classes=3)"
   ]
  },
  {
   "cell_type": "code",
   "execution_count": 23,
   "metadata": {
    "colab": {
     "base_uri": "https://localhost:8080/"
    },
    "executionInfo": {
     "elapsed": 384,
     "status": "ok",
     "timestamp": 1643449129827,
     "user": {
      "displayName": "devdatta trainings",
      "photoUrl": "https://lh3.googleusercontent.com/a/default-user=s64",
      "userId": "16964738642897968134"
     },
     "user_tz": -330
    },
    "id": "8202a103",
    "outputId": "85b22881-c42a-479e-c3ed-eb4ba3a8a361"
   },
   "outputs": [
    {
     "data": {
      "text/plain": [
       "array([1., 0., 0.], dtype=float32)"
      ]
     },
     "execution_count": 23,
     "metadata": {},
     "output_type": "execute_result"
    }
   ],
   "source": [
    "trainY[0]"
   ]
  },
  {
   "cell_type": "markdown",
   "metadata": {
    "id": "049804c1"
   },
   "source": [
    "# Data Preprocessing (Augumentation)"
   ]
  },
  {
   "cell_type": "code",
   "execution_count": 24,
   "metadata": {
    "executionInfo": {
     "elapsed": 517,
     "status": "ok",
     "timestamp": 1643449193676,
     "user": {
      "displayName": "devdatta trainings",
      "photoUrl": "https://lh3.googleusercontent.com/a/default-user=s64",
      "userId": "16964738642897968134"
     },
     "user_tz": -330
    },
    "id": "88fa0ac7"
   },
   "outputs": [],
   "source": [
    "# construct the image generator for data augmentation\n",
    "aug = ImageDataGenerator(rotation_range=30, \n",
    "                         width_shift_range=0.1, \n",
    "                         height_shift_range=0.1, \n",
    "                         shear_range=0.2, \n",
    "                         zoom_range=0.2, \n",
    "                         horizontal_flip=True, \n",
    "                         fill_mode=\"nearest\")"
   ]
  },
  {
   "cell_type": "code",
   "execution_count": 27,
   "metadata": {
    "colab": {
     "base_uri": "https://localhost:8080/"
    },
    "executionInfo": {
     "elapsed": 1676,
     "status": "ok",
     "timestamp": 1643449308515,
     "user": {
      "displayName": "devdatta trainings",
      "photoUrl": "https://lh3.googleusercontent.com/a/default-user=s64",
      "userId": "16964738642897968134"
     },
     "user_tz": -330
    },
    "id": "55e13cc5",
    "outputId": "cb0314cb-7992-46c0-fb8a-e638e3449d2d"
   },
   "outputs": [
    {
     "name": "stdout",
     "output_type": "stream",
     "text": [
      "[INFO] compiling model...\n",
      "[INFO] model complied...\n"
     ]
    }
   ],
   "source": [
    "# initialize the model\n",
    "print(\"[INFO] compiling model...\")\n",
    "model = LeNet.build(width=28, height=28, depth=3, classes=3)\n",
    "opt = Adam(lr=INIT_LR, decay=INIT_LR / EPOCHS)\n",
    "model.compile(loss=\"categorical_crossentropy\", optimizer=opt, metrics=[\"accuracy\"])\n",
    "\n",
    "print(\"[INFO] model complied...\")"
   ]
  },
  {
   "cell_type": "code",
   "execution_count": 28,
   "metadata": {
    "colab": {
     "base_uri": "https://localhost:8080/"
    },
    "executionInfo": {
     "elapsed": 384,
     "status": "ok",
     "timestamp": 1643449354543,
     "user": {
      "displayName": "devdatta trainings",
      "photoUrl": "https://lh3.googleusercontent.com/a/default-user=s64",
      "userId": "16964738642897968134"
     },
     "user_tz": -330
    },
    "id": "8a591ab2",
    "outputId": "b979ee2e-fe4b-4899-e8b0-91eaa07bad1f"
   },
   "outputs": [
    {
     "name": "stdout",
     "output_type": "stream",
     "text": [
      "Model: \"sequential\"\n",
      "_________________________________________________________________\n",
      "Layer (type)                 Output Shape              Param #   \n",
      "=================================================================\n",
      "conv2d (Conv2D)              (None, 28, 28, 20)        1520      \n",
      "_________________________________________________________________\n",
      "activation (Activation)      (None, 28, 28, 20)        0         \n",
      "_________________________________________________________________\n",
      "max_pooling2d (MaxPooling2D) (None, 14, 14, 20)        0         \n",
      "_________________________________________________________________\n",
      "conv2d_1 (Conv2D)            (None, 14, 14, 50)        25050     \n",
      "_________________________________________________________________\n",
      "activation_1 (Activation)    (None, 14, 14, 50)        0         \n",
      "_________________________________________________________________\n",
      "max_pooling2d_1 (MaxPooling2 (None, 7, 7, 50)          0         \n",
      "_________________________________________________________________\n",
      "flatten (Flatten)            (None, 2450)              0         \n",
      "_________________________________________________________________\n",
      "dense (Dense)                (None, 500)               1225500   \n",
      "_________________________________________________________________\n",
      "activation_2 (Activation)    (None, 500)               0         \n",
      "_________________________________________________________________\n",
      "dense_1 (Dense)              (None, 3)                 1503      \n",
      "_________________________________________________________________\n",
      "activation_3 (Activation)    (None, 3)                 0         \n",
      "=================================================================\n",
      "Total params: 1,253,573\n",
      "Trainable params: 1,253,573\n",
      "Non-trainable params: 0\n",
      "_________________________________________________________________\n",
      "None\n"
     ]
    }
   ],
   "source": [
    "print(model.summary())"
   ]
  },
  {
   "cell_type": "code",
   "execution_count": 29,
   "metadata": {
    "colab": {
     "base_uri": "https://localhost:8080/"
    },
    "executionInfo": {
     "elapsed": 19009,
     "status": "ok",
     "timestamp": 1643450113523,
     "user": {
      "displayName": "devdatta trainings",
      "photoUrl": "https://lh3.googleusercontent.com/a/default-user=s64",
      "userId": "16964738642897968134"
     },
     "user_tz": -330
    },
    "id": "086da59d",
    "outputId": "468c830e-afd3-4827-853f-1eb64705b697"
   },
   "outputs": [
    {
     "name": "stdout",
     "output_type": "stream",
     "text": [
      "[INFO] training network...\n",
      "Train for 31 steps, validate on 332 samples\n",
      "Epoch 1/25\n",
      "31/31 [==============================] - 5s 151ms/step - loss: 0.9827 - accuracy: 0.5114 - val_loss: 0.8398 - val_accuracy: 0.5090\n",
      "Epoch 2/25\n",
      "31/31 [==============================] - 1s 18ms/step - loss: 0.8029 - accuracy: 0.6102 - val_loss: 0.7689 - val_accuracy: 0.5873\n",
      "Epoch 3/25\n",
      "31/31 [==============================] - 1s 18ms/step - loss: 0.6803 - accuracy: 0.7141 - val_loss: 0.8635 - val_accuracy: 0.6536\n",
      "Epoch 4/25\n",
      "31/31 [==============================] - 1s 18ms/step - loss: 0.7263 - accuracy: 0.6798 - val_loss: 0.5829 - val_accuracy: 0.7590\n",
      "Epoch 5/25\n",
      "31/31 [==============================] - 1s 18ms/step - loss: 0.6178 - accuracy: 0.7370 - val_loss: 0.6036 - val_accuracy: 0.7470\n",
      "Epoch 6/25\n",
      "31/31 [==============================] - 1s 18ms/step - loss: 0.5565 - accuracy: 0.7827 - val_loss: 0.5184 - val_accuracy: 0.7801\n",
      "Epoch 7/25\n",
      "31/31 [==============================] - 1s 18ms/step - loss: 0.4929 - accuracy: 0.8067 - val_loss: 0.5527 - val_accuracy: 0.7771\n",
      "Epoch 8/25\n",
      "31/31 [==============================] - 1s 18ms/step - loss: 0.5147 - accuracy: 0.7942 - val_loss: 0.4339 - val_accuracy: 0.8283\n",
      "Epoch 9/25\n",
      "31/31 [==============================] - 1s 18ms/step - loss: 0.4619 - accuracy: 0.8243 - val_loss: 0.3972 - val_accuracy: 0.8735\n",
      "Epoch 10/25\n",
      "31/31 [==============================] - 1s 18ms/step - loss: 0.4761 - accuracy: 0.8243 - val_loss: 0.5025 - val_accuracy: 0.7771\n",
      "Epoch 11/25\n",
      "31/31 [==============================] - 1s 18ms/step - loss: 0.4351 - accuracy: 0.8212 - val_loss: 0.5141 - val_accuracy: 0.7771\n",
      "Epoch 12/25\n",
      "31/31 [==============================] - 1s 18ms/step - loss: 0.4676 - accuracy: 0.8035 - val_loss: 0.3737 - val_accuracy: 0.8735\n",
      "Epoch 13/25\n",
      "31/31 [==============================] - 1s 18ms/step - loss: 0.4210 - accuracy: 0.8337 - val_loss: 0.4282 - val_accuracy: 0.8072\n",
      "Epoch 14/25\n",
      "31/31 [==============================] - 1s 18ms/step - loss: 0.4296 - accuracy: 0.8316 - val_loss: 0.4458 - val_accuracy: 0.8042\n",
      "Epoch 15/25\n",
      "31/31 [==============================] - 1s 18ms/step - loss: 0.3866 - accuracy: 0.8576 - val_loss: 0.5128 - val_accuracy: 0.8072\n",
      "Epoch 16/25\n",
      "31/31 [==============================] - 1s 18ms/step - loss: 0.3869 - accuracy: 0.8378 - val_loss: 0.4343 - val_accuracy: 0.8373\n",
      "Epoch 17/25\n",
      "31/31 [==============================] - 1s 18ms/step - loss: 0.3760 - accuracy: 0.8545 - val_loss: 0.5739 - val_accuracy: 0.7560\n",
      "Epoch 18/25\n",
      "31/31 [==============================] - 1s 18ms/step - loss: 0.3956 - accuracy: 0.8430 - val_loss: 0.4155 - val_accuracy: 0.8253\n",
      "Epoch 19/25\n",
      "31/31 [==============================] - 1s 18ms/step - loss: 0.3276 - accuracy: 0.8773 - val_loss: 0.4194 - val_accuracy: 0.8434\n",
      "Epoch 20/25\n",
      "31/31 [==============================] - 1s 19ms/step - loss: 0.3324 - accuracy: 0.8742 - val_loss: 0.5062 - val_accuracy: 0.7982\n",
      "Epoch 21/25\n",
      "31/31 [==============================] - 1s 18ms/step - loss: 0.3477 - accuracy: 0.8607 - val_loss: 0.5732 - val_accuracy: 0.7861\n",
      "Epoch 22/25\n",
      "31/31 [==============================] - 1s 18ms/step - loss: 0.3194 - accuracy: 0.8690 - val_loss: 0.5069 - val_accuracy: 0.7952\n",
      "Epoch 23/25\n",
      "31/31 [==============================] - 1s 18ms/step - loss: 0.3416 - accuracy: 0.8617 - val_loss: 0.3711 - val_accuracy: 0.8434\n",
      "Epoch 24/25\n",
      "31/31 [==============================] - 1s 18ms/step - loss: 0.2971 - accuracy: 0.8846 - val_loss: 0.5429 - val_accuracy: 0.7801\n",
      "Epoch 25/25\n",
      "31/31 [==============================] - 1s 18ms/step - loss: 0.3290 - accuracy: 0.8720 - val_loss: 0.4681 - val_accuracy: 0.8223\n"
     ]
    }
   ],
   "source": [
    "# train the network\n",
    "print(\"[INFO] training network...\")\n",
    "H = model.fit(x=aug.flow(trainX, trainY, batch_size=BS),\n",
    "              validation_data=(testX, testY), \n",
    "              steps_per_epoch=len(trainX) // BS,\n",
    "              epochs=EPOCHS, \n",
    "              verbose=1)"
   ]
  },
  {
   "cell_type": "code",
   "execution_count": 31,
   "metadata": {
    "colab": {
     "base_uri": "https://localhost:8080/",
     "height": 517
    },
    "executionInfo": {
     "elapsed": 715,
     "status": "ok",
     "timestamp": 1643450286260,
     "user": {
      "displayName": "devdatta trainings",
      "photoUrl": "https://lh3.googleusercontent.com/a/default-user=s64",
      "userId": "16964738642897968134"
     },
     "user_tz": -330
    },
    "id": "ea5072b3",
    "outputId": "e01fa42e-2419-47a4-ce02-90fd6662b086"
   },
   "outputs": [
    {
     "data": {
      "image/png": "[encoded data removed]",
      "text/plain": [
       "<Figure size 720x576 with 1 Axes>"
      ]
     },
     "metadata": {},
     "output_type": "display_data"
    }
   ],
   "source": [
    "# plot the training and validation accuracy\n",
    "N = np.arange(0, EPOCHS)\n",
    "plt.style.use(\"ggplot\")\n",
    "plt.figure(figsize = [10,8])\n",
    "plt.plot(N, H.history[\"accuracy\"], label=\"train_acc\")\n",
    "plt.plot(N, H.history[\"val_accuracy\"], label=\"val_acc\")\n",
    "plt.title(\"CNN: Training and Validation Accuracy\")\n",
    "plt.xlabel(\"Epoch #\", weight=\"bold\")\n",
    "plt.ylabel(\"Accuracy\", weight=\"bold\")\n",
    "plt.legend()\n",
    "plt.show()"
   ]
  },
  {
   "cell_type": "code",
   "execution_count": 32,
   "metadata": {
    "colab": {
     "base_uri": "https://localhost:8080/",
     "height": 517
    },
    "executionInfo": {
     "elapsed": 761,
     "status": "ok",
     "timestamp": 1643450411407,
     "user": {
      "displayName": "devdatta trainings",
      "photoUrl": "https://lh3.googleusercontent.com/a/default-user=s64",
      "userId": "16964738642897968134"
     },
     "user_tz": -330
    },
    "id": "dbf9350f",
    "outputId": "e7d7daa2-8ba6-4c80-aff1-581aff5c45c7"
   },
   "outputs": [
    {
     "data": {
      "image/png": "[encoded data removed]",
      "text/plain": [
       "<Figure size 720x576 with 1 Axes>"
      ]
     },
     "metadata": {},
     "output_type": "display_data"
    }
   ],
   "source": [
    "# plot the training and validation loss\n",
    "N = np.arange(0, EPOCHS)\n",
    "plt.style.use(\"ggplot\")\n",
    "plt.figure(figsize = [10,8])\n",
    "plt.plot(N, H.history[\"loss\"], label=\"train_loss\")\n",
    "plt.plot(N, H.history[\"val_loss\"], label=\"val_loss\")\n",
    "plt.title(\"CNN: Training & Validation Loss\")\n",
    "plt.xlabel(\"Epoch #\", weight=\"bold\")\n",
    "plt.ylabel(\"Loss\", weight=\"bold\")\n",
    "plt.legend()\n",
    "plt.show()"
   ]
  },
  {
   "cell_type": "code",
   "execution_count": 33,
   "metadata": {
    "executionInfo": {
     "elapsed": 430,
     "status": "ok",
     "timestamp": 1643450620463,
     "user": {
      "displayName": "devdatta trainings",
      "photoUrl": "https://lh3.googleusercontent.com/a/default-user=s64",
      "userId": "16964738642897968134"
     },
     "user_tz": -330
    },
    "id": "d9798fb1"
   },
   "outputs": [],
   "source": [
    "from tensorflow.keras.preprocessing.image import img_to_array\n",
    "from tensorflow.keras.models import load_model\n",
    "import numpy as np\n",
    "import argparse\n",
    "import imutils\n",
    "import cv2\n",
    "import matplotlib.pyplot as plt\n",
    "%matplotlib inline"
   ]
  },
  {
   "cell_type": "code",
   "execution_count": 34,
   "metadata": {
    "executionInfo": {
     "elapsed": 459,
     "status": "ok",
     "timestamp": 1643450633154,
     "user": {
      "displayName": "devdatta trainings",
      "photoUrl": "https://lh3.googleusercontent.com/a/default-user=s64",
      "userId": "16964738642897968134"
     },
     "user_tz": -330
    },
    "id": "4e18e799"
   },
   "outputs": [],
   "source": [
    "def display_img(img):\n",
    "    fig = plt.figure(figsize=(12,10))\n",
    "    plt.grid(b=None)\n",
    "    ax = fig.add_subplot(111)\n",
    "    ax.imshow(img)"
   ]
  },
  {
   "cell_type": "code",
   "execution_count": 35,
   "metadata": {
    "colab": {
     "base_uri": "https://localhost:8080/",
     "height": 1000,
     "output_embedded_package_id": "1jbCmD6JdIs4E8qvikUcQ8RBUt3xB_yNq",
     "referenced_widgets": [
      "8b24b703b3e14cd1b806b3d6697505de",
      "8a458b0677314a67ad1e41da489a5e16",
      "b328b79ea4a04f1a8ac1abef9567d18f",
      "62f6786c6c984cc2933ba5b03bbc8fda",
      "5b61a5d49a2b41e6b6ba85cfb238d70d",
      "44f6d30ad14c494c97b1ef43d32a93ce",
      "13a60a6301094c438767022b014699d6",
      "2cbf2c37f78b4eb181856412ed192387",
      "9f0a584bf3d84eef9c160d77abbcf43d",
      "7fa46a72b9ff440aa615efde5661d032",
      "e2895695d2a24ac5ae28077b4029d99e"
     ]
    },
    "executionInfo": {
     "elapsed": 20043,
     "status": "ok",
     "timestamp": 1643450768290,
     "user": {
      "displayName": "devdatta trainings",
      "photoUrl": "https://lh3.googleusercontent.com/a/default-user=s64",
      "userId": "16964738642897968134"
     },
     "user_tz": -330
    },
    "id": "cb1add6f",
    "outputId": "0a168efb-905d-47e2-a524-ba6f92f6e294"
   },
   "outputs": [
    {
     "data": {
      "text/plain": [
       "Output hidden; open in https://colab.research.google.com to view."
      ]
     },
     "metadata": {},
     "output_type": "display_data"
    }
   ],
   "source": [
    "# import the necessary packages\n",
    "from tensorflow.keras.models import load_model\n",
    "import pickle\n",
    "import cv2\n",
    "\n",
    "# # load the model \n",
    "print(\"[INFO] loading network and...\")\n",
    "# model = load_model(MODEL)\n",
    "\n",
    "# grab the image paths and randomly shuffle themt\n",
    "testImagePaths = sorted(list(paths.list_images('test_examples')))   # data folder with 2 categorical folders\n",
    "\n",
    "all_class = [\"Buildings\", \"Forest\", \"Sea\"]\n",
    "\n",
    "\n",
    "# progress bar \n",
    "with tqdm(total=len(testImagePaths)) as pbar:\n",
    "    \n",
    "    for imagePath in testImagePaths:\n",
    "        \n",
    "        # load the image\n",
    "        image = cv2.imread(imagePath)\n",
    "        orig = image.copy()\n",
    "\n",
    "        # pre-process the image for classification\n",
    "        image = cv2.resize(image, (28, 28))\n",
    "        image = image.astype(\"float\") / 255.0\n",
    "        image = img_to_array(image)\n",
    "        image = np.expand_dims(image, axis=0)\n",
    "\n",
    "        # classify the input image\n",
    "        prd_conf = model.predict(image)[0]\n",
    "\n",
    "        # build the label\n",
    "        label = all_class[np.argmax(prd_conf)]\n",
    "        proba = prd_conf[np.argmax(prd_conf)]\n",
    "\n",
    "        label = \"{}: {:.2f}%\".format(label, proba * 100)\n",
    "\n",
    "        # draw the label on the image\n",
    "        output = imutils.resize(orig, width=400)\n",
    "        cv2.putText(output, label, (10, 25),  cv2.FONT_HERSHEY_SIMPLEX,\n",
    "            0.7, (255, 0, 0), 2)\n",
    "        \n",
    "        # convert img to rgb format and display in notebook\n",
    "        img = cv2.cvtColor(output, cv2.COLOR_BGR2RGB)\n",
    "        display_img(img)\n",
    "        \n",
    "        pbar.update(1)\n"
   ]
  },
  {
   "cell_type": "code",
   "execution_count": null,
   "metadata": {
    "id": "H85Gfu1tTpue"
   },
   "outputs": [],
   "source": [
    "!pip install gradio"
   ]
  },
  {
   "cell_type": "code",
   "execution_count": 37,
   "metadata": {
    "executionInfo": {
     "elapsed": 2659,
     "status": "ok",
     "timestamp": 1643450938475,
     "user": {
      "displayName": "devdatta trainings",
      "photoUrl": "https://lh3.googleusercontent.com/a/default-user=s64",
      "userId": "16964738642897968134"
     },
     "user_tz": -330
    },
    "id": "e325ed9a"
   },
   "outputs": [],
   "source": [
    "import gradio as gr"
   ]
  },
  {
   "cell_type": "code",
   "execution_count": 38,
   "metadata": {
    "executionInfo": {
     "elapsed": 370,
     "status": "ok",
     "timestamp": 1643450971912,
     "user": {
      "displayName": "devdatta trainings",
      "photoUrl": "https://lh3.googleusercontent.com/a/default-user=s64",
      "userId": "16964738642897968134"
     },
     "user_tz": -330
    },
    "id": "9fb6a66d"
   },
   "outputs": [],
   "source": [
    "def predict_image(image):\n",
    "    # load the image\n",
    "    \n",
    "    # pre-process the image for classification\n",
    "    image = cv2.resize(image, (28, 28))\n",
    "    image = image.astype(\"float\") / 255.0\n",
    "    image = img_to_array(image)\n",
    "    image = np.expand_dims(image, axis=0)\n",
    "\n",
    "        \n",
    "    preds = model.predict(image)[0]\n",
    "    result = dict()\n",
    "    result[\"Buildings\"] = round(float(list(preds)[0]), 3)\n",
    "    result[\"Forest\"] = round(float(list(preds)[1]), 3)\n",
    "    result[\"Sea\"] = round(float(list(preds)[2]), 3)\n",
    "    \n",
    "    print(result)\n",
    "    \n",
    "    return result"
   ]
  },
  {
   "cell_type": "code",
   "execution_count": 39,
   "metadata": {
    "colab": {
     "base_uri": "https://localhost:8080/",
     "height": 643
    },
    "executionInfo": {
     "elapsed": 4075,
     "status": "ok",
     "timestamp": 1643450988218,
     "user": {
      "displayName": "devdatta trainings",
      "photoUrl": "https://lh3.googleusercontent.com/a/default-user=s64",
      "userId": "16964738642897968134"
     },
     "user_tz": -330
    },
    "id": "7c25f140",
    "outputId": "26a38fe7-2e9f-4b8c-c79c-2be69e9465bb"
   },
   "outputs": [
    {
     "name": "stdout",
     "output_type": "stream",
     "text": [
      "Colab notebook detected. To show errors in colab notebook, set `debug=True` in `launch()`\n",
      "Running on public URL: https://13520.gradio.app\n",
      "\n",
      "This share link expires in 72 hours. For free permanent hosting, check out Spaces (https://huggingface.co/spaces)\n"
     ]
    },
    {
     "data": {
      "text/html": [
       "\n",
       "        <iframe\n",
       "            width=\"900\"\n",
       "            height=\"500\"\n",
       "            src=\"https://13520.gradio.app\"\n",
       "            frameborder=\"0\"\n",
       "            allowfullscreen\n",
       "        ></iframe>\n",
       "        "
      ],
      "text/plain": [
       "<IPython.lib.display.IFrame at 0x7fd47b8b0910>"
      ]
     },
     "metadata": {},
     "output_type": "display_data"
    },
    {
     "data": {
      "text/plain": [
       "(<fastapi.applications.FastAPI at 0x7fd47ff34410>,\n",
       " 'http://127.0.0.1:7860/',\n",
       " 'https://13520.gradio.app')"
      ]
     },
     "execution_count": 39,
     "metadata": {},
     "output_type": "execute_result"
    }
   ],
   "source": [
    "im = gr.inputs.Image(shape=(32,32))\n",
    "label = gr.outputs.Label(num_top_classes=3)\n",
    "\n",
    "gr.Interface(fn=predict_image, inputs=im, outputs=label, capture_session=True, title=\"CNN Demo\").launch(share=True)"
   ]
  },
  {
   "cell_type": "code",
   "execution_count": null,
   "metadata": {
    "id": "41560931",
    "outputId": "69ee4bfa-73da-47d9-a716-9e51c08bbfd8"
   },
   "outputs": [
    {
     "name": "stdout",
     "output_type": "stream",
     "text": [
      "2.0.0\n",
      "{'Buildings': 0.0, 'Forest': 0.012, 'Sea': 0.988}\n",
      "{'Buildings': 0.0, 'Forest': 0.012, 'Sea': 0.988}\n"
     ]
    }
   ],
   "source": [
    "import tensorflow as tf\n",
    "print(tf.__version__)"
   ]
  },
  {
   "cell_type": "code",
   "execution_count": null,
   "metadata": {
    "id": "1852442a"
   },
   "outputs": [],
   "source": []
  }
 ],
 "metadata": {
  "accelerator": "GPU",
  "colab": {
   "collapsed_sections": [],
   "name": "CNN DEMO.ipynb",
   "provenance": []
  },
  "kernelspec": {
   "display_name": "Python 3",
   "language": "python",
   "name": "python3"
  },
  "language_info": {
   "codemirror_mode": {
    "name": "ipython",
    "version": 3
   },
   "file_extension": ".py",
   "mimetype": "text/x-python",
   "name": "python",
   "nbconvert_exporter": "python",
   "pygments_lexer": "ipython3",
   "version": "3.7.6"
  },
  "widgets": {
   "application/vnd.jupyter.widget-state+json": {
    "13a60a6301094c438767022b014699d6": {
     "model_module": "@jupyter-widgets/base",
     "model_module_version": "1.2.0",
     "model_name": "LayoutModel",
     "state": {
      "_model_module": "@jupyter-widgets/base",
      "_model_module_version": "1.2.0",
      "_model_name": "LayoutModel",
      "_view_count": null,
      "_view_module": "@jupyter-widgets/base",
      "_view_module_version": "1.2.0",
      "_view_name": "LayoutView",
      "align_content": null,
      "align_items": null,
      "align_self": null,
      "border": null,
      "bottom": null,
      "display": null,
      "flex": null,
      "flex_flow": null,
      "grid_area": null,
      "grid_auto_columns": null,
      "grid_auto_flow": null,
      "grid_auto_rows": null,
      "grid_column": null,
      "grid_gap": null,
      "grid_row": null,
      "grid_template_areas": null,
      "grid_template_columns": null,
      "grid_template_rows": null,
      "height": null,
      "justify_content": null,
      "justify_items": null,
      "left": null,
      "margin": null,
      "max_height": null,
      "max_width": null,
      "min_height": null,
      "min_width": null,
      "object_fit": null,
      "object_position": null,
      "order": null,
      "overflow": null,
      "overflow_x": null,
      "overflow_y": null,
      "padding": null,
      "right": null,
      "top": null,
      "visibility": null,
      "width": null
     }
    },
    "1a9f62c6470b4b8ea4b448b85519971c": {
     "model_module": "@jupyter-widgets/controls",
     "model_module_version": "1.5.0",
     "model_name": "DescriptionStyleModel",
     "state": {
      "_model_module": "@jupyter-widgets/controls",
      "_model_module_version": "1.5.0",
      "_model_name": "DescriptionStyleModel",
      "_view_count": null,
      "_view_module": "@jupyter-widgets/base",
      "_view_module_version": "1.2.0",
      "_view_name": "StyleView",
      "description_width": ""
     }
    },
    "27156caebfef43b4b62ac54e97571fea": {
     "model_module": "@jupyter-widgets/base",
     "model_module_version": "1.2.0",
     "model_name": "LayoutModel",
     "state": {
      "_model_module": "@jupyter-widgets/base",
      "_model_module_version": "1.2.0",
      "_model_name": "LayoutModel",
      "_view_count": null,
      "_view_module": "@jupyter-widgets/base",
      "_view_module_version": "1.2.0",
      "_view_name": "LayoutView",
      "align_content": null,
      "align_items": null,
      "align_self": null,
      "border": null,
      "bottom": null,
      "display": null,
      "flex": null,
      "flex_flow": null,
      "grid_area": null,
      "grid_auto_columns": null,
      "grid_auto_flow": null,
      "grid_auto_rows": null,
      "grid_column": null,
      "grid_gap": null,
      "grid_row": null,
      "grid_template_areas": null,
      "grid_template_columns": null,
      "grid_template_rows": null,
      "height": null,
      "justify_content": null,
      "justify_items": null,
      "left": null,
      "margin": null,
      "max_height": null,
      "max_width": null,
      "min_height": null,
      "min_width": null,
      "object_fit": null,
      "object_position": null,
      "order": null,
      "overflow": null,
      "overflow_x": null,
      "overflow_y": null,
      "padding": null,
      "right": null,
      "top": null,
      "visibility": null,
      "width": null
     }
    },
    "2cbf2c37f78b4eb181856412ed192387": {
     "model_module": "@jupyter-widgets/controls",
     "model_module_version": "1.5.0",
     "model_name": "ProgressStyleModel",
     "state": {
      "_model_module": "@jupyter-widgets/controls",
      "_model_module_version": "1.5.0",
      "_model_name": "ProgressStyleModel",
      "_view_count": null,
      "_view_module": "@jupyter-widgets/base",
      "_view_module_version": "1.2.0",
      "_view_name": "StyleView",
      "bar_color": null,
      "description_width": ""
     }
    },
    "4360322ee2b14af0a45da9f82c97257c": {
     "model_module": "@jupyter-widgets/controls",
     "model_module_version": "1.5.0",
     "model_name": "ProgressStyleModel",
     "state": {
      "_model_module": "@jupyter-widgets/controls",
      "_model_module_version": "1.5.0",
      "_model_name": "ProgressStyleModel",
      "_view_count": null,
      "_view_module": "@jupyter-widgets/base",
      "_view_module_version": "1.2.0",
      "_view_name": "StyleView",
      "bar_color": null,
      "description_width": ""
     }
    },
    "44f6d30ad14c494c97b1ef43d32a93ce": {
     "model_module": "@jupyter-widgets/controls",
     "model_module_version": "1.5.0",
     "model_name": "DescriptionStyleModel",
     "state": {
      "_model_module": "@jupyter-widgets/controls",
      "_model_module_version": "1.5.0",
      "_model_name": "DescriptionStyleModel",
      "_view_count": null,
      "_view_module": "@jupyter-widgets/base",
      "_view_module_version": "1.2.0",
      "_view_name": "StyleView",
      "description_width": ""
     }
    },
    "49426bcab1b24963b5853d8e59e33686": {
     "model_module": "@jupyter-widgets/controls",
     "model_module_version": "1.5.0",
     "model_name": "HTMLModel",
     "state": {
      "_dom_classes": [],
      "_model_module": "@jupyter-widgets/controls",
      "_model_module_version": "1.5.0",
      "_model_name": "HTMLModel",
      "_view_count": null,
      "_view_module": "@jupyter-widgets/controls",
      "_view_module_version": "1.5.0",
      "_view_name": "HTMLView",
      "description": "",
      "description_tooltip": null,
      "layout": "IPY_MODEL_ec0ce834bce142c1ab990fcf14b249f7",
      "placeholder": "​",
      "style": "IPY_MODEL_1a9f62c6470b4b8ea4b448b85519971c",
      "value": "100%"
     }
    },
    "53f2c2b6cde247d2a1b3f5512c38f9ec": {
     "model_module": "@jupyter-widgets/base",
     "model_module_version": "1.2.0",
     "model_name": "LayoutModel",
     "state": {
      "_model_module": "@jupyter-widgets/base",
      "_model_module_version": "1.2.0",
      "_model_name": "LayoutModel",
      "_view_count": null,
      "_view_module": "@jupyter-widgets/base",
      "_view_module_version": "1.2.0",
      "_view_name": "LayoutView",
      "align_content": null,
      "align_items": null,
      "align_self": null,
      "border": null,
      "bottom": null,
      "display": null,
      "flex": null,
      "flex_flow": null,
      "grid_area": null,
      "grid_auto_columns": null,
      "grid_auto_flow": null,
      "grid_auto_rows": null,
      "grid_column": null,
      "grid_gap": null,
      "grid_row": null,
      "grid_template_areas": null,
      "grid_template_columns": null,
      "grid_template_rows": null,
      "height": null,
      "justify_content": null,
      "justify_items": null,
      "left": null,
      "margin": null,
      "max_height": null,
      "max_width": null,
      "min_height": null,
      "min_width": null,
      "object_fit": null,
      "object_position": null,
      "order": null,
      "overflow": null,
      "overflow_x": null,
      "overflow_y": null,
      "padding": null,
      "right": null,
      "top": null,
      "visibility": null,
      "width": null
     }
    },
    "5ab6cf3e25564371a397f04e379812ce": {
     "model_module": "@jupyter-widgets/base",
     "model_module_version": "1.2.0",
     "model_name": "LayoutModel",
     "state": {
      "_model_module": "@jupyter-widgets/base",
      "_model_module_version": "1.2.0",
      "_model_name": "LayoutModel",
      "_view_count": null,
      "_view_module": "@jupyter-widgets/base",
      "_view_module_version": "1.2.0",
      "_view_name": "LayoutView",
      "align_content": null,
      "align_items": null,
      "align_self": null,
      "border": null,
      "bottom": null,
      "display": null,
      "flex": null,
      "flex_flow": null,
      "grid_area": null,
      "grid_auto_columns": null,
      "grid_auto_flow": null,
      "grid_auto_rows": null,
      "grid_column": null,
      "grid_gap": null,
      "grid_row": null,
      "grid_template_areas": null,
      "grid_template_columns": null,
      "grid_template_rows": null,
      "height": null,
      "justify_content": null,
      "justify_items": null,
      "left": null,
      "margin": null,
      "max_height": null,
      "max_width": null,
      "min_height": null,
      "min_width": null,
      "object_fit": null,
      "object_position": null,
      "order": null,
      "overflow": null,
      "overflow_x": null,
      "overflow_y": null,
      "padding": null,
      "right": null,
      "top": null,
      "visibility": null,
      "width": null
     }
    },
    "5b61a5d49a2b41e6b6ba85cfb238d70d": {
     "model_module": "@jupyter-widgets/controls",
     "model_module_version": "1.5.0",
     "model_name": "HTMLModel",
     "state": {
      "_dom_classes": [],
      "_model_module": "@jupyter-widgets/controls",
      "_model_module_version": "1.5.0",
      "_model_name": "HTMLModel",
      "_view_count": null,
      "_view_module": "@jupyter-widgets/controls",
      "_view_module_version": "1.5.0",
      "_view_name": "HTMLView",
      "description": "",
      "description_tooltip": null,
      "layout": "IPY_MODEL_e2895695d2a24ac5ae28077b4029d99e",
      "placeholder": "​",
      "style": "IPY_MODEL_7fa46a72b9ff440aa615efde5661d032",
      "value": " 28/28 [00:01&lt;00:00, 20.05it/s]"
     }
    },
    "6006f4d43fa946b5945cab7fda3d69e9": {
     "model_module": "@jupyter-widgets/controls",
     "model_module_version": "1.5.0",
     "model_name": "HTMLModel",
     "state": {
      "_dom_classes": [],
      "_model_module": "@jupyter-widgets/controls",
      "_model_module_version": "1.5.0",
      "_model_name": "HTMLModel",
      "_view_count": null,
      "_view_module": "@jupyter-widgets/controls",
      "_view_module_version": "1.5.0",
      "_view_name": "HTMLView",
      "description": "",
      "description_tooltip": null,
      "layout": "IPY_MODEL_53f2c2b6cde247d2a1b3f5512c38f9ec",
      "placeholder": "​",
      "style": "IPY_MODEL_604e7b963a90472b942c0ec33f941fa4",
      "value": " 1326/1326 [00:04&lt;00:00, 307.75it/s]"
     }
    },
    "604e7b963a90472b942c0ec33f941fa4": {
     "model_module": "@jupyter-widgets/controls",
     "model_module_version": "1.5.0",
     "model_name": "DescriptionStyleModel",
     "state": {
      "_model_module": "@jupyter-widgets/controls",
      "_model_module_version": "1.5.0",
      "_model_name": "DescriptionStyleModel",
      "_view_count": null,
      "_view_module": "@jupyter-widgets/base",
      "_view_module_version": "1.2.0",
      "_view_name": "StyleView",
      "description_width": ""
     }
    },
    "62f6786c6c984cc2933ba5b03bbc8fda": {
     "model_module": "@jupyter-widgets/controls",
     "model_module_version": "1.5.0",
     "model_name": "FloatProgressModel",
     "state": {
      "_dom_classes": [],
      "_model_module": "@jupyter-widgets/controls",
      "_model_module_version": "1.5.0",
      "_model_name": "FloatProgressModel",
      "_view_count": null,
      "_view_module": "@jupyter-widgets/controls",
      "_view_module_version": "1.5.0",
      "_view_name": "ProgressView",
      "bar_style": "success",
      "description": "",
      "description_tooltip": null,
      "layout": "IPY_MODEL_9f0a584bf3d84eef9c160d77abbcf43d",
      "max": 28,
      "min": 0,
      "orientation": "horizontal",
      "style": "IPY_MODEL_2cbf2c37f78b4eb181856412ed192387",
      "value": 28
     }
    },
    "7fa46a72b9ff440aa615efde5661d032": {
     "model_module": "@jupyter-widgets/controls",
     "model_module_version": "1.5.0",
     "model_name": "DescriptionStyleModel",
     "state": {
      "_model_module": "@jupyter-widgets/controls",
      "_model_module_version": "1.5.0",
      "_model_name": "DescriptionStyleModel",
      "_view_count": null,
      "_view_module": "@jupyter-widgets/base",
      "_view_module_version": "1.2.0",
      "_view_name": "StyleView",
      "description_width": ""
     }
    },
    "8a458b0677314a67ad1e41da489a5e16": {
     "model_module": "@jupyter-widgets/base",
     "model_module_version": "1.2.0",
     "model_name": "LayoutModel",
     "state": {
      "_model_module": "@jupyter-widgets/base",
      "_model_module_version": "1.2.0",
      "_model_name": "LayoutModel",
      "_view_count": null,
      "_view_module": "@jupyter-widgets/base",
      "_view_module_version": "1.2.0",
      "_view_name": "LayoutView",
      "align_content": null,
      "align_items": null,
      "align_self": null,
      "border": null,
      "bottom": null,
      "display": null,
      "flex": null,
      "flex_flow": null,
      "grid_area": null,
      "grid_auto_columns": null,
      "grid_auto_flow": null,
      "grid_auto_rows": null,
      "grid_column": null,
      "grid_gap": null,
      "grid_row": null,
      "grid_template_areas": null,
      "grid_template_columns": null,
      "grid_template_rows": null,
      "height": null,
      "justify_content": null,
      "justify_items": null,
      "left": null,
      "margin": null,
      "max_height": null,
      "max_width": null,
      "min_height": null,
      "min_width": null,
      "object_fit": null,
      "object_position": null,
      "order": null,
      "overflow": null,
      "overflow_x": null,
      "overflow_y": null,
      "padding": null,
      "right": null,
      "top": null,
      "visibility": null,
      "width": null
     }
    },
    "8b24b703b3e14cd1b806b3d6697505de": {
     "model_module": "@jupyter-widgets/controls",
     "model_module_version": "1.5.0",
     "model_name": "HBoxModel",
     "state": {
      "_dom_classes": [],
      "_model_module": "@jupyter-widgets/controls",
      "_model_module_version": "1.5.0",
      "_model_name": "HBoxModel",
      "_view_count": null,
      "_view_module": "@jupyter-widgets/controls",
      "_view_module_version": "1.5.0",
      "_view_name": "HBoxView",
      "box_style": "",
      "children": [
       "IPY_MODEL_b328b79ea4a04f1a8ac1abef9567d18f",
       "IPY_MODEL_62f6786c6c984cc2933ba5b03bbc8fda",
       "IPY_MODEL_5b61a5d49a2b41e6b6ba85cfb238d70d"
      ],
      "layout": "IPY_MODEL_8a458b0677314a67ad1e41da489a5e16"
     }
    },
    "9f0a584bf3d84eef9c160d77abbcf43d": {
     "model_module": "@jupyter-widgets/base",
     "model_module_version": "1.2.0",
     "model_name": "LayoutModel",
     "state": {
      "_model_module": "@jupyter-widgets/base",
      "_model_module_version": "1.2.0",
      "_model_name": "LayoutModel",
      "_view_count": null,
      "_view_module": "@jupyter-widgets/base",
      "_view_module_version": "1.2.0",
      "_view_name": "LayoutView",
      "align_content": null,
      "align_items": null,
      "align_self": null,
      "border": null,
      "bottom": null,
      "display": null,
      "flex": null,
      "flex_flow": null,
      "grid_area": null,
      "grid_auto_columns": null,
      "grid_auto_flow": null,
      "grid_auto_rows": null,
      "grid_column": null,
      "grid_gap": null,
      "grid_row": null,
      "grid_template_areas": null,
      "grid_template_columns": null,
      "grid_template_rows": null,
      "height": null,
      "justify_content": null,
      "justify_items": null,
      "left": null,
      "margin": null,
      "max_height": null,
      "max_width": null,
      "min_height": null,
      "min_width": null,
      "object_fit": null,
      "object_position": null,
      "order": null,
      "overflow": null,
      "overflow_x": null,
      "overflow_y": null,
      "padding": null,
      "right": null,
      "top": null,
      "visibility": null,
      "width": null
     }
    },
    "a549e63755d44ea488147b8b47566e99": {
     "model_module": "@jupyter-widgets/controls",
     "model_module_version": "1.5.0",
     "model_name": "FloatProgressModel",
     "state": {
      "_dom_classes": [],
      "_model_module": "@jupyter-widgets/controls",
      "_model_module_version": "1.5.0",
      "_model_name": "FloatProgressModel",
      "_view_count": null,
      "_view_module": "@jupyter-widgets/controls",
      "_view_module_version": "1.5.0",
      "_view_name": "ProgressView",
      "bar_style": "success",
      "description": "",
      "description_tooltip": null,
      "layout": "IPY_MODEL_5ab6cf3e25564371a397f04e379812ce",
      "max": 1326,
      "min": 0,
      "orientation": "horizontal",
      "style": "IPY_MODEL_4360322ee2b14af0a45da9f82c97257c",
      "value": 1326
     }
    },
    "b328b79ea4a04f1a8ac1abef9567d18f": {
     "model_module": "@jupyter-widgets/controls",
     "model_module_version": "1.5.0",
     "model_name": "HTMLModel",
     "state": {
      "_dom_classes": [],
      "_model_module": "@jupyter-widgets/controls",
      "_model_module_version": "1.5.0",
      "_model_name": "HTMLModel",
      "_view_count": null,
      "_view_module": "@jupyter-widgets/controls",
      "_view_module_version": "1.5.0",
      "_view_name": "HTMLView",
      "description": "",
      "description_tooltip": null,
      "layout": "IPY_MODEL_13a60a6301094c438767022b014699d6",
      "placeholder": "​",
      "style": "IPY_MODEL_44f6d30ad14c494c97b1ef43d32a93ce",
      "value": "100%"
     }
    },
    "e2895695d2a24ac5ae28077b4029d99e": {
     "model_module": "@jupyter-widgets/base",
     "model_module_version": "1.2.0",
     "model_name": "LayoutModel",
     "state": {
      "_model_module": "@jupyter-widgets/base",
      "_model_module_version": "1.2.0",
      "_model_name": "LayoutModel",
      "_view_count": null,
      "_view_module": "@jupyter-widgets/base",
      "_view_module_version": "1.2.0",
      "_view_name": "LayoutView",
      "align_content": null,
      "align_items": null,
      "align_self": null,
      "border": null,
      "bottom": null,
      "display": null,
      "flex": null,
      "flex_flow": null,
      "grid_area": null,
      "grid_auto_columns": null,
      "grid_auto_flow": null,
      "grid_auto_rows": null,
      "grid_column": null,
      "grid_gap": null,
      "grid_row": null,
      "grid_template_areas": null,
      "grid_template_columns": null,
      "grid_template_rows": null,
      "height": null,
      "justify_content": null,
      "justify_items": null,
      "left": null,
      "margin": null,
      "max_height": null,
      "max_width": null,
      "min_height": null,
      "min_width": null,
      "object_fit": null,
      "object_position": null,
      "order": null,
      "overflow": null,
      "overflow_x": null,
      "overflow_y": null,
      "padding": null,
      "right": null,
      "top": null,
      "visibility": null,
      "width": null
     }
    },
    "e52ad6169792498a9a61670f0a778eb8": {
     "model_module": "@jupyter-widgets/controls",
     "model_module_version": "1.5.0",
     "model_name": "HBoxModel",
     "state": {
      "_dom_classes": [],
      "_model_module": "@jupyter-widgets/controls",
      "_model_module_version": "1.5.0",
      "_model_name": "HBoxModel",
      "_view_count": null,
      "_view_module": "@jupyter-widgets/controls",
      "_view_module_version": "1.5.0",
      "_view_name": "HBoxView",
      "box_style": "",
      "children": [
       "IPY_MODEL_49426bcab1b24963b5853d8e59e33686",
       "IPY_MODEL_a549e63755d44ea488147b8b47566e99",
       "IPY_MODEL_6006f4d43fa946b5945cab7fda3d69e9"
      ],
      "layout": "IPY_MODEL_27156caebfef43b4b62ac54e97571fea"
     }
    },
    "ec0ce834bce142c1ab990fcf14b249f7": {
     "model_module": "@jupyter-widgets/base",
     "model_module_version": "1.2.0",
     "model_name": "LayoutModel",
     "state": {
      "_model_module": "@jupyter-widgets/base",
      "_model_module_version": "1.2.0",
      "_model_name": "LayoutModel",
      "_view_count": null,
      "_view_module": "@jupyter-widgets/base",
      "_view_module_version": "1.2.0",
      "_view_name": "LayoutView",
      "align_content": null,
      "align_items": null,
      "align_self": null,
      "border": null,
      "bottom": null,
      "display": null,
      "flex": null,
      "flex_flow": null,
      "grid_area": null,
      "grid_auto_columns": null,
      "grid_auto_flow": null,
      "grid_auto_rows": null,
      "grid_column": null,
      "grid_gap": null,
      "grid_row": null,
      "grid_template_areas": null,
      "grid_template_columns": null,
      "grid_template_rows": null,
      "height": null,
      "justify_content": null,
      "justify_items": null,
      "left": null,
      "margin": null,
      "max_height": null,
      "max_width": null,
      "min_height": null,
      "min_width": null,
      "object_fit": null,
      "object_position": null,
      "order": null,
      "overflow": null,
      "overflow_x": null,
      "overflow_y": null,
      "padding": null,
      "right": null,
      "top": null,
      "visibility": null,
      "width": null
     }
    }
   }
  }
 },
 "nbformat": 4,
 "nbformat_minor": 5
}
