{
 "cells": [
  {
   "cell_type": "markdown",
   "metadata": {},
   "source": [
    "### Reading the image file"
   ]
  },
  {
   "cell_type": "code",
   "execution_count": null,
   "metadata": {},
   "outputs": [],
   "source": [
    "# pip install opencv-python\n",
    "# pip install opencv-contrib-python"
   ]
  },
  {
   "cell_type": "code",
   "execution_count": 2,
   "metadata": {},
   "outputs": [],
   "source": [
    "import cv2"
   ]
  },
  {
   "cell_type": "code",
   "execution_count": 3,
   "metadata": {},
   "outputs": [],
   "source": [
    "cv2.imread?"
   ]
  },
  {
   "cell_type": "code",
   "execution_count": null,
   "metadata": {},
   "outputs": [],
   "source": [
    "pwd"
   ]
  },
  {
   "cell_type": "code",
   "execution_count": 20,
   "metadata": {},
   "outputs": [],
   "source": [
    "# loading and converting the image into numpy array\n",
    "# printing the corresponding values\n",
    "image = cv2.imread(\"DATA/cat.jpeg\")"
   ]
  },
  {
   "cell_type": "code",
   "execution_count": 21,
   "metadata": {},
   "outputs": [
    {
     "data": {
      "text/plain": [
       "array([[[16, 15, 11],\n",
       "        [23, 22, 18],\n",
       "        [31, 30, 26],\n",
       "        ...,\n",
       "        [ 7,  8,  6],\n",
       "        [ 7,  8,  6],\n",
       "        [ 7,  8,  6]],\n",
       "\n",
       "       [[15, 14, 10],\n",
       "        [22, 21, 17],\n",
       "        [30, 29, 25],\n",
       "        ...,\n",
       "        [ 6,  7,  5],\n",
       "        [ 6,  7,  5],\n",
       "        [ 6,  7,  5]],\n",
       "\n",
       "       [[14, 13,  9],\n",
       "        [21, 20, 16],\n",
       "        [30, 29, 25],\n",
       "        ...,\n",
       "        [ 6,  7,  5],\n",
       "        [ 6,  7,  5],\n",
       "        [ 6,  7,  5]],\n",
       "\n",
       "       ...,\n",
       "\n",
       "       [[ 8,  8,  8],\n",
       "        [ 7,  7,  7],\n",
       "        [ 5,  5,  5],\n",
       "        ...,\n",
       "        [ 0,  0,  0],\n",
       "        [ 0,  0,  0],\n",
       "        [ 0,  0,  0]],\n",
       "\n",
       "       [[ 9,  9,  9],\n",
       "        [ 8,  8,  8],\n",
       "        [ 6,  6,  6],\n",
       "        ...,\n",
       "        [ 0,  0,  0],\n",
       "        [ 0,  0,  0],\n",
       "        [ 0,  0,  0]],\n",
       "\n",
       "       [[10, 10, 10],\n",
       "        [ 9,  9,  9],\n",
       "        [ 7,  7,  7],\n",
       "        ...,\n",
       "        [ 0,  0,  0],\n",
       "        [ 0,  0,  0],\n",
       "        [ 0,  0,  0]]], dtype=uint8)"
      ]
     },
     "execution_count": 21,
     "metadata": {},
     "output_type": "execute_result"
    }
   ],
   "source": [
    "image"
   ]
  },
  {
   "cell_type": "code",
   "execution_count": 22,
   "metadata": {},
   "outputs": [
    {
     "data": {
      "text/plain": [
       "(350, 528, 3)"
      ]
     },
     "execution_count": 22,
     "metadata": {},
     "output_type": "execute_result"
    }
   ],
   "source": [
    "image.shape"
   ]
  },
  {
   "cell_type": "code",
   "execution_count": 23,
   "metadata": {},
   "outputs": [
    {
     "data": {
      "text/plain": [
       "4800000000000"
      ]
     },
     "execution_count": 23,
     "metadata": {},
     "output_type": "execute_result"
    }
   ],
   "source": [
    "4000 * 4000 * 3 * 100000 "
   ]
  },
  {
   "cell_type": "code",
   "execution_count": 24,
   "metadata": {},
   "outputs": [
    {
     "data": {
      "text/plain": [
       "307200000"
      ]
     },
     "execution_count": 24,
     "metadata": {},
     "output_type": "execute_result"
    }
   ],
   "source": [
    "32 * 32 * 3 * 100000"
   ]
  },
  {
   "cell_type": "code",
   "execution_count": 25,
   "metadata": {},
   "outputs": [
    {
     "name": "stdout",
     "output_type": "stream",
     "text": [
      "width : 528\n",
      "height : 350\n",
      "channels : 3\n"
     ]
    }
   ],
   "source": [
    "print(\"width : {}\".format(image.shape[1]))\n",
    "print(\"height : {}\".format(image.shape[0]))\n",
    "print(\"channels : {}\".format(image.shape[2]))"
   ]
  },
  {
   "cell_type": "code",
   "execution_count": 15,
   "metadata": {},
   "outputs": [
    {
     "data": {
      "text/plain": [
       "13"
      ]
     },
     "execution_count": 15,
     "metadata": {},
     "output_type": "execute_result"
    }
   ],
   "source": [
    "# load image into cv2 window\n",
    "# wait for key press\n",
    "# write image into another format\n",
    "cv2.imshow(\"output\", image)\n",
    "cv2.waitKey()\n",
    "cv2.destroyAllWindows()"
   ]
  },
  {
   "cell_type": "code",
   "execution_count": 16,
   "metadata": {},
   "outputs": [],
   "source": [
    "cv2.destroyAllWindows()"
   ]
  },
  {
   "cell_type": "markdown",
   "metadata": {},
   "source": [
    "## writing the images to file"
   ]
  },
  {
   "cell_type": "code",
   "execution_count": 26,
   "metadata": {},
   "outputs": [
    {
     "data": {
      "text/plain": [
       "'C:\\\\Users\\\\Devdatta Supnekar\\\\Desktop\\\\Imarticus\\\\Trainings\\\\Image Processing\\\\OpenCv Basic'"
      ]
     },
     "execution_count": 26,
     "metadata": {},
     "output_type": "execute_result"
    }
   ],
   "source": [
    "pwd"
   ]
  },
  {
   "cell_type": "code",
   "execution_count": 27,
   "metadata": {},
   "outputs": [
    {
     "data": {
      "text/plain": [
       "True"
      ]
     },
     "execution_count": 27,
     "metadata": {},
     "output_type": "execute_result"
    }
   ],
   "source": [
    "cv2.imwrite(\"new_catasdfasd.jpg\", image)"
   ]
  },
  {
   "cell_type": "code",
   "execution_count": 28,
   "metadata": {
    "collapsed": true
   },
   "outputs": [
    {
     "name": "stdout",
     "output_type": "stream",
     "text": [
      " Volume in drive C is Windows \n",
      " Volume Serial Number is 5275-53B3\n",
      "\n",
      " Directory of C:\\Users\\Devdatta Supnekar\\Desktop\\Imarticus\\Trainings\\Image Processing\\OpenCv Basic\n",
      "\n",
      "26-03-2022  17:10    <DIR>          .\n",
      "26-03-2022  17:10    <DIR>          ..\n",
      "05-10-2021  13:10    <DIR>          .ipynb_checkpoints\n",
      "26-03-2022  17:10             9,097 1. Reading, writing and displaying images.ipynb\n",
      "25-03-2022  10:48             4,463 10. Cropping.ipynb\n",
      "25-03-2022  12:58            19,227 11. Video Processing.ipynb\n",
      "31-07-2021  08:03             4,434 12. Convolutions and Blurring.ipynb\n",
      "22-03-2022  11:52             3,957 13. Canny Edge Detectionm.ipynb\n",
      "23-03-2022  12:33            51,677 2. Drawing-on-Images.ipynb\n",
      "23-03-2022  12:40             4,419 3 .Grayscaling.ipynb\n",
      "23-03-2022  12:50             4,913 4. Color Spaces.ipynb\n",
      "24-03-2022  11:03           191,262 5. Histograms.ipynb\n",
      "24-03-2022  12:21             6,443 6. Translations.ipynb\n",
      "24-03-2022  12:45             4,847 7. Rotations.ipynb\n",
      "25-03-2022  10:43             7,970 8. Scaling, re-sizing and interpolations.ipynb\n",
      "25-03-2022  10:36             4,245 9. Bitwise Operations and Masking.ipynb\n",
      "05-10-2021  13:10    <DIR>          DATA\n",
      "30-07-2021  21:43            34,731 new_cat.jpg\n",
      "31-07-2021  10:28            34,731 new_cat2.jpg\n",
      "26-03-2022  17:12            34,731 new_catasdfasd.jpg\n",
      "              16 File(s)        421,147 bytes\n",
      "               4 Dir(s)  159,399,952,384 bytes free\n"
     ]
    }
   ],
   "source": [
    "!dir"
   ]
  },
  {
   "cell_type": "markdown",
   "metadata": {},
   "source": [
    "### Get and Set "
   ]
  },
  {
   "cell_type": "code",
   "execution_count": 29,
   "metadata": {},
   "outputs": [],
   "source": [
    "image = cv2.imread(\"DATA/cat.jpeg\")"
   ]
  },
  {
   "cell_type": "code",
   "execution_count": 31,
   "metadata": {},
   "outputs": [],
   "source": [
    "cv2.imshow(\"my asdfas image\", image)\n",
    "cv2.waitKey()\n",
    "cv2.destroyAllWindows()"
   ]
  },
  {
   "cell_type": "code",
   "execution_count": 32,
   "metadata": {},
   "outputs": [
    {
     "data": {
      "text/plain": [
       "array([16, 15, 11], dtype=uint8)"
      ]
     },
     "execution_count": 32,
     "metadata": {},
     "output_type": "execute_result"
    }
   ],
   "source": [
    "image[0,0]"
   ]
  },
  {
   "cell_type": "code",
   "execution_count": 33,
   "metadata": {},
   "outputs": [],
   "source": [
    "# grab the 0,0 pixel of the image and print color values\n",
    "(b, g, r) = image[0,0]"
   ]
  },
  {
   "cell_type": "code",
   "execution_count": 34,
   "metadata": {},
   "outputs": [
    {
     "name": "stdout",
     "output_type": "stream",
     "text": [
      "Pixel at (0,0) - Red:11 Green:15 Blue:16\n"
     ]
    }
   ],
   "source": [
    "print(\"Pixel at (0,0) - Red:{} Green:{} Blue:{}\".format(r,g,b))"
   ]
  },
  {
   "cell_type": "code",
   "execution_count": 37,
   "metadata": {},
   "outputs": [
    {
     "name": "stdout",
     "output_type": "stream",
     "text": [
      "Pixel at (0,0) - Red: 255, Green: 0, Blue: 0\n"
     ]
    }
   ],
   "source": [
    "# change the color of the pixel at 0,0 and print again\n",
    "image[0:100,0:100] = (0,0,255)\n",
    "(b,g,r) = image[0,0]\n",
    "print(\"Pixel at (0,0) - Red: {}, Green: {}, Blue: {}\".format(r,g,b))"
   ]
  },
  {
   "cell_type": "code",
   "execution_count": 38,
   "metadata": {},
   "outputs": [],
   "source": [
    "cv2.imshow(\"output\", image)\n",
    "cv2.waitKey(0)\n",
    "cv2.destroyAllWindows()"
   ]
  },
  {
   "cell_type": "code",
   "execution_count": null,
   "metadata": {},
   "outputs": [],
   "source": []
  },
  {
   "cell_type": "code",
   "execution_count": null,
   "metadata": {},
   "outputs": [],
   "source": [
    "# grab the region and show in cv2 window\n",
    "corner = image[0:100, 0:100] # [y:height , x:width  ]"
   ]
  },
  {
   "cell_type": "code",
   "execution_count": null,
   "metadata": {},
   "outputs": [],
   "source": [
    "corner.shape"
   ]
  },
  {
   "cell_type": "code",
   "execution_count": null,
   "metadata": {},
   "outputs": [],
   "source": [
    "cv2.imshow(\"corner image\", corner)\n",
    "cv2.waitKey(0)\n",
    "cv2.destroyAllWindows()"
   ]
  },
  {
   "cell_type": "code",
   "execution_count": null,
   "metadata": {},
   "outputs": [],
   "source": [
    "# change color of the area of image\n",
    "image[0:100, 0:100] = (0,0,0)"
   ]
  },
  {
   "cell_type": "code",
   "execution_count": null,
   "metadata": {},
   "outputs": [],
   "source": [
    "image.shape"
   ]
  },
  {
   "cell_type": "code",
   "execution_count": null,
   "metadata": {},
   "outputs": [],
   "source": [
    "cv2.imshow(\"Color area changed\", image)\n",
    "cv2.waitKey(0)\n",
    "cv2.destroyAllWindows()"
   ]
  },
  {
   "cell_type": "code",
   "execution_count": null,
   "metadata": {},
   "outputs": [],
   "source": [
    "# change the color of the pixel at 0,0 and print again\n",
    "image[:20, : ] = (0,255,0)\n"
   ]
  },
  {
   "cell_type": "code",
   "execution_count": null,
   "metadata": {},
   "outputs": [],
   "source": [
    "cv2.imshow(\"Color area changed\", image)\n",
    "cv2.waitKey(0)\n",
    "cv2.destroyAllWindows()"
   ]
  },
  {
   "cell_type": "code",
   "execution_count": null,
   "metadata": {},
   "outputs": [],
   "source": []
  }
 ],
 "metadata": {
  "kernelspec": {
   "display_name": "Python 3",
   "language": "python",
   "name": "python3"
  },
  "language_info": {
   "codemirror_mode": {
    "name": "ipython",
    "version": 3
   },
   "file_extension": ".py",
   "mimetype": "text/x-python",
   "name": "python",
   "nbconvert_exporter": "python",
   "pygments_lexer": "ipython3",
   "version": "3.7.6"
  }
 },
 "nbformat": 4,
 "nbformat_minor": 4
}
