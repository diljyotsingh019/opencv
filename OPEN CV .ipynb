{
 "cells": [
  {
   "cell_type": "code",
   "execution_count": 1,
   "metadata": {
    "ExecuteTime": {
     "end_time": "2022-05-21T15:45:28.978434Z",
     "start_time": "2022-05-21T15:45:25.908282Z"
    }
   },
   "outputs": [
    {
     "name": "stdout",
     "output_type": "stream",
     "text": [
      "Requirement already satisfied: opencv-python in c:\\users\\diljyot\\anaconda3\\lib\\site-packages (4.5.5.62)\n",
      "Note: you may need to restart the kernel to use updated packages.\n"
     ]
    },
    {
     "name": "stderr",
     "output_type": "stream",
     "text": [
      "WARNING: You are using pip version 22.0.4; however, version 22.1.1 is available.\n",
      "You should consider upgrading via the 'C:\\Users\\DILJYOT\\anaconda3\\python.exe -m pip install --upgrade pip' command.\n"
     ]
    },
    {
     "name": "stdout",
     "output_type": "stream",
     "text": [
      "Requirement already satisfied: numpy>=1.14.5 in c:\\users\\diljyot\\anaconda3\\lib\\site-packages (from opencv-python) (1.21.6)\n"
     ]
    }
   ],
   "source": [
    "pip install opencv-python"
   ]
  },
  {
   "cell_type": "code",
   "execution_count": 2,
   "metadata": {
    "ExecuteTime": {
     "end_time": "2022-05-21T15:46:04.399226Z",
     "start_time": "2022-05-21T15:45:56.178418Z"
    }
   },
   "outputs": [
    {
     "name": "stdout",
     "output_type": "stream",
     "text": [
      "Requirement already satisfied: pip in c:\\users\\diljyot\\anaconda3\\lib\\site-packages (22.0.4)\n",
      "Collecting pip\n",
      "  Downloading pip-22.1.1-py3-none-any.whl (2.1 MB)\n",
      "     ---------------------------------------- 2.1/2.1 MB 7.6 MB/s eta 0:00:00\n",
      "Installing collected packages: pip\n",
      "  Attempting uninstall: pip\n",
      "    Found existing installation: pip 22.0.4\n",
      "    Uninstalling pip-22.0.4:\n",
      "      Successfully uninstalled pip-22.0.4\n",
      "Successfully installed pip-22.1.1\n",
      "Note: you may need to restart the kernel to use updated packages.\n"
     ]
    }
   ],
   "source": [
    "pip install --upgrade pip"
   ]
  },
  {
   "cell_type": "code",
   "execution_count": 3,
   "metadata": {
    "ExecuteTime": {
     "end_time": "2022-05-21T15:46:21.694143Z",
     "start_time": "2022-05-21T15:46:19.353232Z"
    }
   },
   "outputs": [
    {
     "name": "stdout",
     "output_type": "stream",
     "text": [
      "Requirement already satisfied: opencv-contrib-python in c:\\users\\diljyot\\anaconda3\\lib\\site-packages (4.5.5.64)\n",
      "Requirement already satisfied: numpy>=1.14.5 in c:\\users\\diljyot\\anaconda3\\lib\\site-packages (from opencv-contrib-python) (1.21.6)\n",
      "Note: you may need to restart the kernel to use updated packages.\n"
     ]
    }
   ],
   "source": [
    "pip install opencv-contrib-python"
   ]
  },
  {
   "cell_type": "code",
   "execution_count": 5,
   "metadata": {
    "ExecuteTime": {
     "end_time": "2022-05-21T16:17:41.521186Z",
     "start_time": "2022-05-21T16:17:41.114642Z"
    }
   },
   "outputs": [],
   "source": [
    "import cv2"
   ]
  },
  {
   "cell_type": "code",
   "execution_count": 6,
   "metadata": {
    "ExecuteTime": {
     "end_time": "2022-05-21T16:18:15.528782Z",
     "start_time": "2022-05-21T16:18:15.492879Z"
    }
   },
   "outputs": [
    {
     "data": {
      "text/plain": [
       "array([[[16, 15, 11],\n",
       "        [23, 22, 18],\n",
       "        [31, 30, 26],\n",
       "        ...,\n",
       "        [ 7,  8,  6],\n",
       "        [ 7,  8,  6],\n",
       "        [ 7,  8,  6]],\n",
       "\n",
       "       [[15, 14, 10],\n",
       "        [22, 21, 17],\n",
       "        [30, 29, 25],\n",
       "        ...,\n",
       "        [ 6,  7,  5],\n",
       "        [ 6,  7,  5],\n",
       "        [ 6,  7,  5]],\n",
       "\n",
       "       [[14, 13,  9],\n",
       "        [21, 20, 16],\n",
       "        [30, 29, 25],\n",
       "        ...,\n",
       "        [ 6,  7,  5],\n",
       "        [ 6,  7,  5],\n",
       "        [ 6,  7,  5]],\n",
       "\n",
       "       ...,\n",
       "\n",
       "       [[ 8,  8,  8],\n",
       "        [ 7,  7,  7],\n",
       "        [ 5,  5,  5],\n",
       "        ...,\n",
       "        [ 0,  0,  0],\n",
       "        [ 0,  0,  0],\n",
       "        [ 0,  0,  0]],\n",
       "\n",
       "       [[ 9,  9,  9],\n",
       "        [ 8,  8,  8],\n",
       "        [ 6,  6,  6],\n",
       "        ...,\n",
       "        [ 0,  0,  0],\n",
       "        [ 0,  0,  0],\n",
       "        [ 0,  0,  0]],\n",
       "\n",
       "       [[10, 10, 10],\n",
       "        [ 9,  9,  9],\n",
       "        [ 7,  7,  7],\n",
       "        ...,\n",
       "        [ 0,  0,  0],\n",
       "        [ 0,  0,  0],\n",
       "        [ 0,  0,  0]]], dtype=uint8)"
      ]
     },
     "execution_count": 6,
     "metadata": {},
     "output_type": "execute_result"
    }
   ],
   "source": [
    "cv2.imread(\"DATA/cat.jpeg\")"
   ]
  },
  {
   "cell_type": "code",
   "execution_count": 8,
   "metadata": {
    "ExecuteTime": {
     "end_time": "2022-05-21T16:23:10.776592Z",
     "start_time": "2022-05-21T16:23:10.765629Z"
    }
   },
   "outputs": [
    {
     "data": {
      "text/plain": [
       "'C:\\\\Users\\\\DILJYOT\\\\Desktop\\\\OpenCV'"
      ]
     },
     "execution_count": 8,
     "metadata": {},
     "output_type": "execute_result"
    }
   ],
   "source": [
    "pwd"
   ]
  },
  {
   "cell_type": "code",
   "execution_count": 10,
   "metadata": {
    "ExecuteTime": {
     "end_time": "2022-05-21T16:28:37.132685Z",
     "start_time": "2022-05-21T16:28:37.123709Z"
    }
   },
   "outputs": [],
   "source": [
    "image = cv2.imread(\"DATA/cat.jpeg\")"
   ]
  },
  {
   "cell_type": "code",
   "execution_count": 11,
   "metadata": {
    "ExecuteTime": {
     "end_time": "2022-05-21T16:28:41.983203Z",
     "start_time": "2022-05-21T16:28:41.972234Z"
    },
    "collapsed": true
   },
   "outputs": [
    {
     "data": {
      "text/plain": [
       "array([[[16, 15, 11],\n",
       "        [23, 22, 18],\n",
       "        [31, 30, 26],\n",
       "        ...,\n",
       "        [ 7,  8,  6],\n",
       "        [ 7,  8,  6],\n",
       "        [ 7,  8,  6]],\n",
       "\n",
       "       [[15, 14, 10],\n",
       "        [22, 21, 17],\n",
       "        [30, 29, 25],\n",
       "        ...,\n",
       "        [ 6,  7,  5],\n",
       "        [ 6,  7,  5],\n",
       "        [ 6,  7,  5]],\n",
       "\n",
       "       [[14, 13,  9],\n",
       "        [21, 20, 16],\n",
       "        [30, 29, 25],\n",
       "        ...,\n",
       "        [ 6,  7,  5],\n",
       "        [ 6,  7,  5],\n",
       "        [ 6,  7,  5]],\n",
       "\n",
       "       ...,\n",
       "\n",
       "       [[ 8,  8,  8],\n",
       "        [ 7,  7,  7],\n",
       "        [ 5,  5,  5],\n",
       "        ...,\n",
       "        [ 0,  0,  0],\n",
       "        [ 0,  0,  0],\n",
       "        [ 0,  0,  0]],\n",
       "\n",
       "       [[ 9,  9,  9],\n",
       "        [ 8,  8,  8],\n",
       "        [ 6,  6,  6],\n",
       "        ...,\n",
       "        [ 0,  0,  0],\n",
       "        [ 0,  0,  0],\n",
       "        [ 0,  0,  0]],\n",
       "\n",
       "       [[10, 10, 10],\n",
       "        [ 9,  9,  9],\n",
       "        [ 7,  7,  7],\n",
       "        ...,\n",
       "        [ 0,  0,  0],\n",
       "        [ 0,  0,  0],\n",
       "        [ 0,  0,  0]]], dtype=uint8)"
      ]
     },
     "execution_count": 11,
     "metadata": {},
     "output_type": "execute_result"
    }
   ],
   "source": [
    "image"
   ]
  },
  {
   "cell_type": "code",
   "execution_count": 12,
   "metadata": {
    "ExecuteTime": {
     "end_time": "2022-05-21T16:28:51.271667Z",
     "start_time": "2022-05-21T16:28:51.251719Z"
    }
   },
   "outputs": [
    {
     "data": {
      "text/plain": [
       "(350, 528, 3)"
      ]
     },
     "execution_count": 12,
     "metadata": {},
     "output_type": "execute_result"
    }
   ],
   "source": [
    "image.shape"
   ]
  },
  {
   "cell_type": "code",
   "execution_count": 13,
   "metadata": {
    "ExecuteTime": {
     "end_time": "2022-05-21T16:31:33.251663Z",
     "start_time": "2022-05-21T16:31:33.243655Z"
    }
   },
   "outputs": [
    {
     "data": {
      "text/plain": [
       "554400"
      ]
     },
     "execution_count": 13,
     "metadata": {},
     "output_type": "execute_result"
    }
   ],
   "source": [
    "350*528*3"
   ]
  },
  {
   "cell_type": "code",
   "execution_count": 14,
   "metadata": {
    "ExecuteTime": {
     "end_time": "2022-05-21T16:32:10.567256Z",
     "start_time": "2022-05-21T16:32:10.563275Z"
    }
   },
   "outputs": [
    {
     "name": "stdout",
     "output_type": "stream",
     "text": [
      "Width : 350\n"
     ]
    }
   ],
   "source": [
    "print(\"Width : {}\".format(image.shape[0]))"
   ]
  },
  {
   "cell_type": "code",
   "execution_count": 15,
   "metadata": {
    "ExecuteTime": {
     "end_time": "2022-05-21T16:37:04.626189Z",
     "start_time": "2022-05-21T16:36:54.843715Z"
    }
   },
   "outputs": [],
   "source": [
    "cv2.imshow(\"output\", image)\n",
    "cv2.waitKey()\n",
    "cv2.destroyAllWindows()"
   ]
  },
  {
   "cell_type": "code",
   "execution_count": 16,
   "metadata": {
    "ExecuteTime": {
     "end_time": "2022-05-21T16:40:15.162634Z",
     "start_time": "2022-05-21T16:40:15.134709Z"
    },
    "collapsed": true
   },
   "outputs": [
    {
     "data": {
      "text/plain": [
       "array([[[ 29,  33,  91],\n",
       "        [ 24,  28,  86],\n",
       "        [ 20,  24,  82],\n",
       "        ...,\n",
       "        [148, 178, 189],\n",
       "        [153, 183, 194],\n",
       "        [157, 184, 194]],\n",
       "\n",
       "       [[ 29,  33,  91],\n",
       "        [ 24,  28,  86],\n",
       "        [ 21,  25,  83],\n",
       "        ...,\n",
       "        [149, 179, 190],\n",
       "        [154, 184, 195],\n",
       "        [158, 187, 196]],\n",
       "\n",
       "       [[ 29,  33,  91],\n",
       "        [ 24,  28,  86],\n",
       "        [ 21,  25,  83],\n",
       "        ...,\n",
       "        [148, 180, 191],\n",
       "        [154, 186, 197],\n",
       "        [160, 189, 198]],\n",
       "\n",
       "       ...,\n",
       "\n",
       "       [[ 14,  54, 129],\n",
       "        [ 14,  53, 128],\n",
       "        [ 13,  49, 125],\n",
       "        ...,\n",
       "        [103, 124, 155],\n",
       "        [100, 121, 152],\n",
       "        [100, 121, 152]],\n",
       "\n",
       "       [[ 16,  52, 128],\n",
       "        [ 15,  51, 127],\n",
       "        [ 15,  47, 123],\n",
       "        ...,\n",
       "        [109, 134, 166],\n",
       "        [107, 132, 164],\n",
       "        [106, 131, 163]],\n",
       "\n",
       "       [[ 18,  50, 126],\n",
       "        [ 20,  52, 128],\n",
       "        [ 17,  45, 122],\n",
       "        ...,\n",
       "        [113, 139, 169],\n",
       "        [108, 134, 164],\n",
       "        [106, 132, 162]]], dtype=uint8)"
      ]
     },
     "execution_count": 16,
     "metadata": {},
     "output_type": "execute_result"
    }
   ],
   "source": [
    "image = cv2.imread(\"DATA/obama.jpg\")\n",
    "image"
   ]
  },
  {
   "cell_type": "code",
   "execution_count": 17,
   "metadata": {
    "ExecuteTime": {
     "end_time": "2022-05-21T16:40:28.768358Z",
     "start_time": "2022-05-21T16:40:28.754393Z"
    }
   },
   "outputs": [
    {
     "data": {
      "text/plain": [
       "(1137, 910, 3)"
      ]
     },
     "execution_count": 17,
     "metadata": {},
     "output_type": "execute_result"
    }
   ],
   "source": [
    "image.shape"
   ]
  },
  {
   "cell_type": "code",
   "execution_count": 18,
   "metadata": {
    "ExecuteTime": {
     "end_time": "2022-05-21T16:41:25.497670Z",
     "start_time": "2022-05-21T16:41:17.673032Z"
    }
   },
   "outputs": [],
   "source": [
    "cv2.imshow(\"output\", image)\n",
    "cv2.waitKey()\n",
    "cv2.destroyAllWindows()"
   ]
  },
  {
   "cell_type": "code",
   "execution_count": 19,
   "metadata": {
    "ExecuteTime": {
     "end_time": "2022-05-21T16:43:08.908974Z",
     "start_time": "2022-05-21T16:43:08.874066Z"
    }
   },
   "outputs": [
    {
     "data": {
      "text/plain": [
       "True"
      ]
     },
     "execution_count": 19,
     "metadata": {},
     "output_type": "execute_result"
    }
   ],
   "source": [
    "cv2.imwrite(\"new_obama.jpg\", image)"
   ]
  },
  {
   "cell_type": "code",
   "execution_count": 20,
   "metadata": {
    "ExecuteTime": {
     "end_time": "2022-05-21T16:46:20.672478Z",
     "start_time": "2022-05-21T16:46:20.609640Z"
    }
   },
   "outputs": [
    {
     "name": "stdout",
     "output_type": "stream",
     "text": [
      " Volume in drive C is OS\n",
      " Volume Serial Number is BAF8-88DF\n",
      "\n",
      " Directory of C:\\Users\\DILJYOT\\Desktop\\OpenCV\n",
      "\n",
      "21-05-2022  22:14    <DIR>          .\n",
      "21-05-2022  22:14    <DIR>          ..\n",
      "21-05-2022  21:14    <DIR>          .ipynb_checkpoints\n",
      "21-05-2022  21:31    <DIR>          1. Face Recogntion and Detection\n",
      "21-05-2022  21:32            11,876 1. Reading, writing and displaying images.ipynb\n",
      "21-05-2022  21:32            32,619 11. Video Processing.ipynb\n",
      "21-05-2022  21:32            46,029 2. Drawing-on-Images.ipynb\n",
      "21-05-2022  21:31    <DIR>          2. Image Classification using OPENCV\n",
      "21-05-2022  21:32             5,576 3 .Grayscaling.ipynb\n",
      "21-05-2022  21:32    <DIR>          3. Transfer Learning Using VGG\n",
      "21-05-2022  21:32             6,293 4. Color Spaces.ipynb\n",
      "21-05-2022  21:32    <DIR>          4. OCR\n",
      "21-05-2022  21:32            67,444 5. Histograms.ipynb\n",
      "21-05-2022  21:32             8,913 6. Translations.ipynb\n",
      "21-05-2022  21:32             4,848 7. Rotations.ipynb\n",
      "21-05-2022  21:32             8,307 8. Scaling, re-sizing and interpolations.ipynb\n",
      "21-05-2022  21:32             4,248 9. Bitwise Operations and Masking.ipynb\n",
      "21-05-2022  21:32    <DIR>          DATA\n",
      "03-04-2022  18:11    <DIR>          Face Detection and Recognition\n",
      "21-05-2022  21:32    <DIR>          Face Recognition Github Version\n",
      "21-05-2022  22:13           298,657 new_obama.jpg\n",
      "26-03-2022  17:20            21,739 new_rainbow.jpg\n",
      "21-05-2022  22:14            13,178 OPEN CV .ipynb\n",
      "21-05-2022  21:14           185,144 Untitled.ipynb\n",
      "03-04-2022  16:57               793 Untitled1.ipynb\n",
      "              15 File(s)        715,664 bytes\n",
      "              10 Dir(s)  37,178,327,040 bytes free\n"
     ]
    }
   ],
   "source": [
    "!dir"
   ]
  },
  {
   "cell_type": "code",
   "execution_count": 23,
   "metadata": {
    "ExecuteTime": {
     "end_time": "2022-05-21T16:49:04.537386Z",
     "start_time": "2022-05-21T16:49:04.521275Z"
    }
   },
   "outputs": [
    {
     "data": {
      "text/plain": [
       "(910, 3)"
      ]
     },
     "execution_count": 23,
     "metadata": {},
     "output_type": "execute_result"
    }
   ],
   "source": [
    "image[0].shape"
   ]
  },
  {
   "cell_type": "code",
   "execution_count": 24,
   "metadata": {
    "ExecuteTime": {
     "end_time": "2022-05-21T16:50:10.420971Z",
     "start_time": "2022-05-21T16:50:10.400991Z"
    }
   },
   "outputs": [
    {
     "data": {
      "text/plain": [
       "array([29, 33, 91], dtype=uint8)"
      ]
     },
     "execution_count": 24,
     "metadata": {},
     "output_type": "execute_result"
    }
   ],
   "source": [
    "image[0,0]"
   ]
  },
  {
   "cell_type": "code",
   "execution_count": 25,
   "metadata": {
    "ExecuteTime": {
     "end_time": "2022-05-21T16:50:29.024573Z",
     "start_time": "2022-05-21T16:50:29.008617Z"
    },
    "collapsed": true
   },
   "outputs": [
    {
     "data": {
      "text/plain": [
       "array([[[29, 33, 91],\n",
       "        [24, 28, 86],\n",
       "        [20, 24, 82],\n",
       "        [20, 24, 82],\n",
       "        [21, 25, 83],\n",
       "        [21, 25, 83],\n",
       "        [21, 25, 83],\n",
       "        [22, 26, 84],\n",
       "        [20, 28, 87],\n",
       "        [24, 35, 93]],\n",
       "\n",
       "       [[29, 33, 91],\n",
       "        [24, 28, 86],\n",
       "        [21, 25, 83],\n",
       "        [20, 24, 82],\n",
       "        [21, 25, 83],\n",
       "        [21, 25, 83],\n",
       "        [21, 25, 83],\n",
       "        [23, 27, 85],\n",
       "        [20, 28, 87],\n",
       "        [24, 35, 93]],\n",
       "\n",
       "       [[29, 33, 91],\n",
       "        [24, 28, 86],\n",
       "        [21, 25, 83],\n",
       "        [21, 25, 83],\n",
       "        [21, 25, 83],\n",
       "        [21, 25, 83],\n",
       "        [21, 25, 83],\n",
       "        [23, 27, 85],\n",
       "        [21, 29, 88],\n",
       "        [24, 35, 93]],\n",
       "\n",
       "       [[29, 33, 91],\n",
       "        [25, 29, 87],\n",
       "        [21, 25, 83],\n",
       "        [21, 25, 83],\n",
       "        [22, 26, 84],\n",
       "        [21, 25, 83],\n",
       "        [22, 26, 84],\n",
       "        [23, 27, 85],\n",
       "        [21, 29, 88],\n",
       "        [23, 34, 92]],\n",
       "\n",
       "       [[28, 35, 92],\n",
       "        [23, 30, 87],\n",
       "        [19, 26, 83],\n",
       "        [19, 26, 83],\n",
       "        [20, 27, 84],\n",
       "        [20, 27, 84],\n",
       "        [20, 27, 84],\n",
       "        [21, 28, 85],\n",
       "        [21, 29, 88],\n",
       "        [23, 34, 92]],\n",
       "\n",
       "       [[28, 35, 92],\n",
       "        [23, 30, 87],\n",
       "        [19, 26, 83],\n",
       "        [19, 26, 83],\n",
       "        [20, 27, 84],\n",
       "        [20, 27, 84],\n",
       "        [20, 27, 84],\n",
       "        [21, 28, 85],\n",
       "        [22, 30, 89],\n",
       "        [22, 33, 91]],\n",
       "\n",
       "       [[28, 35, 92],\n",
       "        [23, 30, 87],\n",
       "        [19, 26, 83],\n",
       "        [19, 26, 83],\n",
       "        [20, 27, 84],\n",
       "        [20, 27, 84],\n",
       "        [20, 27, 84],\n",
       "        [21, 28, 85],\n",
       "        [22, 30, 89],\n",
       "        [22, 33, 91]],\n",
       "\n",
       "       [[28, 35, 92],\n",
       "        [23, 30, 87],\n",
       "        [20, 27, 84],\n",
       "        [19, 26, 83],\n",
       "        [20, 27, 84],\n",
       "        [20, 27, 84],\n",
       "        [20, 27, 84],\n",
       "        [21, 28, 85],\n",
       "        [22, 30, 89],\n",
       "        [22, 33, 91]],\n",
       "\n",
       "       [[28, 35, 92],\n",
       "        [24, 31, 88],\n",
       "        [21, 28, 85],\n",
       "        [20, 27, 84],\n",
       "        [20, 27, 84],\n",
       "        [19, 26, 83],\n",
       "        [20, 27, 84],\n",
       "        [21, 28, 85],\n",
       "        [19, 27, 86],\n",
       "        [21, 31, 91]],\n",
       "\n",
       "       [[28, 35, 92],\n",
       "        [24, 31, 88],\n",
       "        [21, 28, 85],\n",
       "        [20, 27, 84],\n",
       "        [20, 27, 84],\n",
       "        [19, 26, 83],\n",
       "        [20, 27, 84],\n",
       "        [21, 28, 85],\n",
       "        [20, 28, 87],\n",
       "        [21, 31, 91]]], dtype=uint8)"
      ]
     },
     "execution_count": 25,
     "metadata": {},
     "output_type": "execute_result"
    }
   ],
   "source": [
    "image[0:10, 0:10]"
   ]
  },
  {
   "cell_type": "code",
   "execution_count": 27,
   "metadata": {
    "ExecuteTime": {
     "end_time": "2022-05-21T16:54:17.377779Z",
     "start_time": "2022-05-21T16:54:11.089060Z"
    }
   },
   "outputs": [],
   "source": [
    "image[0:100][0:100] = (0,0,255)\n",
    "cv2.imshow(\"output\", image)\n",
    "cv2.waitKey()\n",
    "cv2.destroyAllWindows()"
   ]
  },
  {
   "cell_type": "code",
   "execution_count": 32,
   "metadata": {
    "ExecuteTime": {
     "end_time": "2022-05-21T20:56:47.315938Z",
     "start_time": "2022-05-21T20:56:45.154203Z"
    }
   },
   "outputs": [],
   "source": [
    "cv2.imshow(\"po\", image)\n",
    "cv2.waitKey()\n",
    "cv2.destroyAllWindows()"
   ]
  },
  {
   "cell_type": "code",
   "execution_count": 33,
   "metadata": {
    "ExecuteTime": {
     "end_time": "2022-05-21T20:56:50.275744Z",
     "start_time": "2022-05-21T20:56:50.266716Z"
    }
   },
   "outputs": [],
   "source": [
    "(b,g,r) = image[0,0]"
   ]
  },
  {
   "cell_type": "code",
   "execution_count": 34,
   "metadata": {
    "ExecuteTime": {
     "end_time": "2022-05-21T20:57:22.840762Z",
     "start_time": "2022-05-21T20:57:22.371176Z"
    }
   },
   "outputs": [],
   "source": [
    "import numpy as np\n",
    "import matplotlib.pyplot as plt\n",
    "import cv2"
   ]
  },
  {
   "cell_type": "code",
   "execution_count": 35,
   "metadata": {
    "ExecuteTime": {
     "end_time": "2022-05-21T20:58:04.468977Z",
     "start_time": "2022-05-21T20:58:04.451025Z"
    }
   },
   "outputs": [
    {
     "data": {
      "text/plain": [
       "array([[0, 0, 0],\n",
       "       [0, 0, 0],\n",
       "       [0, 0, 0]])"
      ]
     },
     "execution_count": 35,
     "metadata": {},
     "output_type": "execute_result"
    }
   ],
   "source": [
    "np.zeros(shape = (3,3), dtype =  int)"
   ]
  },
  {
   "cell_type": "code",
   "execution_count": 36,
   "metadata": {
    "ExecuteTime": {
     "end_time": "2022-05-21T20:59:00.594661Z",
     "start_time": "2022-05-21T20:59:00.586694Z"
    }
   },
   "outputs": [],
   "source": [
    "blank_img = np.zeros(shape = (512,512,3), dtype = np.int16)"
   ]
  },
  {
   "cell_type": "code",
   "execution_count": 37,
   "metadata": {
    "ExecuteTime": {
     "end_time": "2022-05-21T20:59:14.273668Z",
     "start_time": "2022-05-21T20:59:14.267713Z"
    }
   },
   "outputs": [
    {
     "data": {
      "text/plain": [
       "(512, 512, 3)"
      ]
     },
     "execution_count": 37,
     "metadata": {},
     "output_type": "execute_result"
    }
   ],
   "source": [
    "blank_img.shape"
   ]
  },
  {
   "cell_type": "code",
   "execution_count": 38,
   "metadata": {
    "ExecuteTime": {
     "end_time": "2022-05-21T20:59:35.842823Z",
     "start_time": "2022-05-21T20:59:35.659069Z"
    }
   },
   "outputs": [
    {
     "data": {
      "text/plain": [
       "<matplotlib.image.AxesImage at 0x1c2e6621848>"
      ]
     },
     "execution_count": 38,
     "metadata": {},
     "output_type": "execute_result"
    },
    {
     "data": {
      "image/png": "[encoded data removed]",
      "text/plain": [
       "<Figure size 432x288 with 1 Axes>"
      ]
     },
     "metadata": {
      "needs_background": "light"
     },
     "output_type": "display_data"
    }
   ],
   "source": [
    "plt.imshow(blank_img)"
   ]
  },
  {
   "cell_type": "code",
   "execution_count": 39,
   "metadata": {
    "ExecuteTime": {
     "end_time": "2022-05-21T21:00:41.964870Z",
     "start_time": "2022-05-21T21:00:38.232939Z"
    }
   },
   "outputs": [],
   "source": [
    "cv2.imshow(\"t\", blank_img)\n",
    "cv2.waitKey()\n",
    "cv2.destroyAllWindows()"
   ]
  },
  {
   "cell_type": "code",
   "execution_count": 40,
   "metadata": {
    "ExecuteTime": {
     "end_time": "2022-05-21T21:02:50.634468Z",
     "start_time": "2022-05-21T21:02:50.619508Z"
    },
    "collapsed": true
   },
   "outputs": [
    {
     "data": {
      "text/plain": [
       "array([[[  0,   0,   0],\n",
       "        [  0,   0,   0],\n",
       "        [  0,   0,   0],\n",
       "        ...,\n",
       "        [  0, 255,   0],\n",
       "        [  0, 255,   0],\n",
       "        [  0, 255,   0]],\n",
       "\n",
       "       [[  0,   0,   0],\n",
       "        [  0,   0,   0],\n",
       "        [  0,   0,   0],\n",
       "        ...,\n",
       "        [  0, 255,   0],\n",
       "        [  0, 255,   0],\n",
       "        [  0, 255,   0]],\n",
       "\n",
       "       [[  0,   0,   0],\n",
       "        [  0,   0,   0],\n",
       "        [  0,   0,   0],\n",
       "        ...,\n",
       "        [  0, 255,   0],\n",
       "        [  0, 255,   0],\n",
       "        [  0, 255,   0]],\n",
       "\n",
       "       ...,\n",
       "\n",
       "       [[  0,   0,   0],\n",
       "        [  0,   0,   0],\n",
       "        [  0,   0,   0],\n",
       "        ...,\n",
       "        [  0,   0,   0],\n",
       "        [  0,   0,   0],\n",
       "        [  0,   0,   0]],\n",
       "\n",
       "       [[  0,   0,   0],\n",
       "        [  0,   0,   0],\n",
       "        [  0,   0,   0],\n",
       "        ...,\n",
       "        [  0,   0,   0],\n",
       "        [  0,   0,   0],\n",
       "        [  0,   0,   0]],\n",
       "\n",
       "       [[  0,   0,   0],\n",
       "        [  0,   0,   0],\n",
       "        [  0,   0,   0],\n",
       "        ...,\n",
       "        [  0,   0,   0],\n",
       "        [  0,   0,   0],\n",
       "        [  0,   0,   0]]], dtype=int16)"
      ]
     },
     "execution_count": 40,
     "metadata": {},
     "output_type": "execute_result"
    }
   ],
   "source": [
    "cv2.rectangle(blank_img, pt1 = (384,0), pt2 = (510,128), color = (0,255,0), thickness= 5)"
   ]
  },
  {
   "cell_type": "code",
   "execution_count": 41,
   "metadata": {
    "ExecuteTime": {
     "end_time": "2022-05-21T21:03:12.009393Z",
     "start_time": "2022-05-21T21:03:11.866450Z"
    }
   },
   "outputs": [
    {
     "data": {
      "text/plain": [
       "<matplotlib.image.AxesImage at 0x1c2e86e5688>"
      ]
     },
     "execution_count": 41,
     "metadata": {},
     "output_type": "execute_result"
    },
    {
     "data": {
      "image/png": "[encoded data removed]",
      "text/plain": [
       "<Figure size 432x288 with 1 Axes>"
      ]
     },
     "metadata": {
      "needs_background": "light"
     },
     "output_type": "display_data"
    }
   ],
   "source": [
    "plt.imshow(blank_img)"
   ]
  },
  {
   "cell_type": "code",
   "execution_count": 42,
   "metadata": {
    "ExecuteTime": {
     "end_time": "2022-05-21T21:04:58.781401Z",
     "start_time": "2022-05-21T21:04:58.578940Z"
    }
   },
   "outputs": [
    {
     "data": {
      "text/plain": [
       "<matplotlib.image.AxesImage at 0x1c2e9a39208>"
      ]
     },
     "execution_count": 42,
     "metadata": {},
     "output_type": "execute_result"
    },
    {
     "data": {
      "image/png": "[encoded data removed]",
      "text/plain": [
       "<Figure size 432x288 with 1 Axes>"
      ]
     },
     "metadata": {
      "needs_background": "light"
     },
     "output_type": "display_data"
    }
   ],
   "source": [
    "cv2.circle(blank_img, center = (50,100), radius = 25, color = (255,0,0), thickness = 5)\n",
    "plt.imshow(blank_img)"
   ]
  },
  {
   "cell_type": "code",
   "execution_count": 43,
   "metadata": {
    "ExecuteTime": {
     "end_time": "2022-05-21T21:05:45.024766Z",
     "start_time": "2022-05-21T21:05:44.834099Z"
    }
   },
   "outputs": [
    {
     "data": {
      "text/plain": [
       "<matplotlib.image.AxesImage at 0x1c2e9a68688>"
      ]
     },
     "execution_count": 43,
     "metadata": {},
     "output_type": "execute_result"
    },
    {
     "data": {
      "image/png": "[encoded data removed]",
      "text/plain": [
       "<Figure size 432x288 with 1 Axes>"
      ]
     },
     "metadata": {
      "needs_background": "light"
     },
     "output_type": "display_data"
    }
   ],
   "source": [
    "cv2.circle(blank_img, center = (100,50), radius = 25, color = (255,0,0), thickness = -1)\n",
    "plt.imshow(blank_img)"
   ]
  },
  {
   "cell_type": "code",
   "execution_count": 44,
   "metadata": {
    "ExecuteTime": {
     "end_time": "2022-05-21T21:07:34.401002Z",
     "start_time": "2022-05-21T21:07:34.241433Z"
    }
   },
   "outputs": [
    {
     "data": {
      "text/plain": [
       "<matplotlib.image.AxesImage at 0x1c2e9d10988>"
      ]
     },
     "execution_count": 44,
     "metadata": {},
     "output_type": "execute_result"
    },
    {
     "data": {
      "image/png": "[encoded data removed]",
      "text/plain": [
       "<Figure size 432x288 with 1 Axes>"
      ]
     },
     "metadata": {
      "needs_background": "light"
     },
     "output_type": "display_data"
    }
   ],
   "source": [
    "cv2.line(blank_img, pt1 = (0,500),pt2 = (500,0), color = (0,0,255),thickness = 5)\n",
    "plt.imshow(blank_img)"
   ]
  },
  {
   "cell_type": "code",
   "execution_count": 46,
   "metadata": {
    "ExecuteTime": {
     "end_time": "2022-05-21T21:11:09.564033Z",
     "start_time": "2022-05-21T21:11:09.418423Z"
    }
   },
   "outputs": [
    {
     "data": {
      "text/plain": [
       "<matplotlib.image.AxesImage at 0x1c2e97849c8>"
      ]
     },
     "execution_count": 46,
     "metadata": {},
     "output_type": "execute_result"
    },
    {
     "data": {
      "image/png": "[encoded data removed]",
      "text/plain": [
       "<Figure size 432x288 with 1 Axes>"
      ]
     },
     "metadata": {
      "needs_background": "light"
     },
     "output_type": "display_data"
    }
   ],
   "source": [
    "font = cv2.FONT_HERSHEY_COMPLEX\n",
    "cv2.putText(blank_img, text = \"HEllp\", org = (10,500), fontFace = font, fontScale = 2, color = (255,255,255), thickness= 5)\n",
    "plt.imshow(blank_img)"
   ]
  },
  {
   "cell_type": "code",
   "execution_count": 47,
   "metadata": {
    "ExecuteTime": {
     "end_time": "2022-05-21T21:12:05.492811Z",
     "start_time": "2022-05-21T21:12:05.322266Z"
    }
   },
   "outputs": [
    {
     "data": {
      "text/plain": [
       "<matplotlib.image.AxesImage at 0x1c2ea0eba48>"
      ]
     },
     "execution_count": 47,
     "metadata": {},
     "output_type": "execute_result"
    },
    {
     "data": {
      "image/png": "[encoded data removed]",
      "text/plain": [
       "<Figure size 432x288 with 1 Axes>"
      ]
     },
     "metadata": {
      "needs_background": "light"
     },
     "output_type": "display_data"
    }
   ],
   "source": [
    "img = cv2.imread(\"DATA/cat.jpeg\")\n",
    "plt.imshow(img)"
   ]
  },
  {
   "cell_type": "code",
   "execution_count": 48,
   "metadata": {
    "ExecuteTime": {
     "end_time": "2022-05-21T21:13:07.823461Z",
     "start_time": "2022-05-21T21:13:07.680894Z"
    }
   },
   "outputs": [
    {
     "data": {
      "text/plain": [
       "<matplotlib.image.AxesImage at 0x1c2e9cbd5c8>"
      ]
     },
     "execution_count": 48,
     "metadata": {},
     "output_type": "execute_result"
    },
    {
     "data": {
      "image/png": "[encoded data removed]",
      "text/plain": [
       "<Figure size 432x288 with 1 Axes>"
      ]
     },
     "metadata": {
      "needs_background": "light"
     },
     "output_type": "display_data"
    }
   ],
   "source": [
    "eye = img[100:180, 200:250]\n",
    "plt.imshow(eye)"
   ]
  },
  {
   "cell_type": "code",
   "execution_count": 49,
   "metadata": {
    "ExecuteTime": {
     "end_time": "2022-05-21T21:13:21.709939Z",
     "start_time": "2022-05-21T21:13:21.704946Z"
    }
   },
   "outputs": [
    {
     "data": {
      "text/plain": [
       "(80, 50, 3)"
      ]
     },
     "execution_count": 49,
     "metadata": {},
     "output_type": "execute_result"
    }
   ],
   "source": [
    "eye.shape"
   ]
  },
  {
   "cell_type": "code",
   "execution_count": 60,
   "metadata": {
    "ExecuteTime": {
     "end_time": "2022-05-21T21:19:01.174676Z",
     "start_time": "2022-05-21T21:19:01.168664Z"
    }
   },
   "outputs": [],
   "source": [
    "blank_img = np.zeros(shape=(512,512,3), dtype =int)"
   ]
  },
  {
   "cell_type": "code",
   "execution_count": 53,
   "metadata": {
    "ExecuteTime": {
     "end_time": "2022-05-21T21:15:47.228765Z",
     "start_time": "2022-05-21T21:15:47.217820Z"
    }
   },
   "outputs": [],
   "source": [
    "vertices = np.array([[100,300],[200,200],[400,300],[200,400]], np.int32)"
   ]
  },
  {
   "cell_type": "code",
   "execution_count": 54,
   "metadata": {
    "ExecuteTime": {
     "end_time": "2022-05-21T21:15:48.935293Z",
     "start_time": "2022-05-21T21:15:48.929310Z"
    }
   },
   "outputs": [],
   "source": [
    "pts = vertices.reshape((-1,1,2))"
   ]
  },
  {
   "cell_type": "code",
   "execution_count": 56,
   "metadata": {
    "ExecuteTime": {
     "end_time": "2022-05-21T21:16:53.276565Z",
     "start_time": "2022-05-21T21:16:53.257593Z"
    }
   },
   "outputs": [
    {
     "data": {
      "text/plain": [
       "(4, 1, 2)"
      ]
     },
     "execution_count": 56,
     "metadata": {},
     "output_type": "execute_result"
    }
   ],
   "source": [
    "pts.shape"
   ]
  },
  {
   "cell_type": "code",
   "execution_count": 65,
   "metadata": {
    "ExecuteTime": {
     "end_time": "2022-05-21T21:21:20.420285Z",
     "start_time": "2022-05-21T21:21:20.232750Z"
    }
   },
   "outputs": [
    {
     "data": {
      "text/plain": [
       "<matplotlib.image.AxesImage at 0x1c2e9a6da48>"
      ]
     },
     "execution_count": 65,
     "metadata": {},
     "output_type": "execute_result"
    },
    {
     "data": {
      "image/png": "[encoded data removed]",
      "text/plain": [
       "<Figure size 432x288 with 1 Axes>"
      ]
     },
     "metadata": {
      "needs_background": "light"
     },
     "output_type": "display_data"
    }
   ],
   "source": [
    "cv2.polylines(blank_img, pts = [pts], isClosed = True, color = (0,255,0), thickness = 5)\n",
    "plt.imshow(blank_img)"
   ]
  },
  {
   "cell_type": "code",
   "execution_count": 71,
   "metadata": {
    "ExecuteTime": {
     "end_time": "2022-05-21T21:23:48.332372Z",
     "start_time": "2022-05-21T21:23:48.320415Z"
    }
   },
   "outputs": [],
   "source": [
    "# generate random radius, center point, color\n",
    "# draw circles in for loop\n",
    "canvas = np.zeros((500,500,3), dtype=\"uint8\")\n",
    "\n",
    "for i in range(25):\n",
    "    r = np.random.randint(5,200)\n",
    "    c = np.random.randint(0,255, size = (3,)).tolist()\n",
    "    pt = np.random.randint(0,400, size = (2,))\n",
    "    cv2.circle(canvas, tuple(pt), r, c, -1)"
   ]
  },
  {
   "cell_type": "code",
   "execution_count": 72,
   "metadata": {
    "ExecuteTime": {
     "end_time": "2022-05-21T21:23:54.251930Z",
     "start_time": "2022-05-21T21:23:51.184631Z"
    }
   },
   "outputs": [],
   "source": [
    "cv2.imshow(\"Random Circle\", canvas)\n",
    "cv2.waitKey(0)\n",
    "cv2.destroyAllWindows()"
   ]
  },
  {
   "cell_type": "code",
   "execution_count": 75,
   "metadata": {
    "ExecuteTime": {
     "end_time": "2022-05-21T21:24:15.900784Z",
     "start_time": "2022-05-21T21:24:15.880840Z"
    }
   },
   "outputs": [
    {
     "data": {
      "text/plain": [
       "array([115, 173])"
      ]
     },
     "execution_count": 75,
     "metadata": {},
     "output_type": "execute_result"
    }
   ],
   "source": [
    "c = np.random.randint(0,255, size = 2)\n",
    "c"
   ]
  },
  {
   "cell_type": "code",
   "execution_count": 76,
   "metadata": {
    "ExecuteTime": {
     "end_time": "2022-05-21T21:29:53.944599Z",
     "start_time": "2022-05-21T21:28:29.658021Z"
    }
   },
   "outputs": [],
   "source": [
    "img = cv2.imread(\"DATA/cat.jpeg\")\n",
    "grey_scale = cv2.cvtColor(img, cv2.COLOR_BGR2GRAY)\n",
    "cv2.imshow(\"t\", grey_scale)\n",
    "cv2.waitKey()\n",
    "cv2.destroyAllWindows()"
   ]
  },
  {
   "cell_type": "code",
   "execution_count": 82,
   "metadata": {
    "ExecuteTime": {
     "end_time": "2022-05-21T21:30:52.427937Z",
     "start_time": "2022-05-21T21:30:52.408017Z"
    }
   },
   "outputs": [
    {
     "data": {
      "text/plain": [
       "array([[11, 18, 26, ...,  6,  6,  6],\n",
       "       [10, 17, 25, ...,  5,  5,  5],\n",
       "       [ 9, 16, 25, ...,  5,  5,  5],\n",
       "       ...,\n",
       "       [ 8,  7,  5, ...,  0,  0,  0],\n",
       "       [ 9,  8,  6, ...,  0,  0,  0],\n",
       "       [10,  9,  7, ...,  0,  0,  0]], dtype=uint8)"
      ]
     },
     "execution_count": 82,
     "metadata": {},
     "output_type": "execute_result"
    }
   ],
   "source": [
    "grey = img[:,:,2]\n",
    "grey"
   ]
  },
  {
   "cell_type": "code",
   "execution_count": 83,
   "metadata": {
    "ExecuteTime": {
     "end_time": "2022-05-21T21:31:03.278913Z",
     "start_time": "2022-05-21T21:30:55.974286Z"
    }
   },
   "outputs": [],
   "source": [
    "cv2.imshow(\"t\", grey)\n",
    "cv2.waitKey()\n",
    "cv2.destroyAllWindows()"
   ]
  },
  {
   "cell_type": "code",
   "execution_count": 85,
   "metadata": {
    "ExecuteTime": {
     "end_time": "2022-05-21T23:20:45.646596Z",
     "start_time": "2022-05-21T23:20:27.373024Z"
    }
   },
   "outputs": [],
   "source": [
    "image = cv2.imread(\"DATA/cat.jpeg\")\n",
    "hsv = cv2.cvtColor(image, cv2.COLOR_BGR2HSV)\n",
    "h = hsv[:,:,0]\n",
    "s = hsv[:,:,1]\n",
    "v = hsv[:,:,2]\n",
    "cv2.imshow(\"hsv\",hsv)\n",
    "cv2.imshow(\"h\",h)\n",
    "cv2.imshow(\"s\",s)\n",
    "cv2.imshow(\"v\",v)\n",
    "cv2.waitKey()\n",
    "cv2.destroyAllWindows()"
   ]
  },
  {
   "cell_type": "code",
   "execution_count": 2,
   "metadata": {
    "ExecuteTime": {
     "end_time": "2022-05-22T00:08:21.151294Z",
     "start_time": "2022-05-22T00:08:20.678815Z"
    }
   },
   "outputs": [],
   "source": [
    "import cv2\n",
    "import numpy as np\n",
    "import matplotlib.pyplot as plt"
   ]
  },
  {
   "cell_type": "code",
   "execution_count": 12,
   "metadata": {
    "ExecuteTime": {
     "end_time": "2022-05-22T00:10:32.881685Z",
     "start_time": "2022-05-22T00:10:32.870716Z"
    }
   },
   "outputs": [],
   "source": [
    "image = cv2.imread(\"DATA/cat.jpeg\")\n",
    "(b,g,r) = cv2.split(image)\n",
    "z = np.zeros(shape = (image.shape[:2]), dtype = \"uint8\")"
   ]
  },
  {
   "cell_type": "code",
   "execution_count": 14,
   "metadata": {
    "ExecuteTime": {
     "end_time": "2022-05-22T00:11:17.375311Z",
     "start_time": "2022-05-22T00:10:39.071112Z"
    }
   },
   "outputs": [],
   "source": [
    "cv2.imshow(\"rgb\", image)\n",
    "cv2.imshow(\"b\",cv2.merge([b,z,z]))\n",
    "cv2.imshow(\"g\",cv2.merge([z,g,z]))\n",
    "cv2.imshow(\"r\",cv2.merge([z,z,r]))\n",
    "cv2.waitKey()\n",
    "cv2.destroyAllWindows()"
   ]
  },
  {
   "cell_type": "code",
   "execution_count": 92,
   "metadata": {
    "ExecuteTime": {
     "end_time": "2022-05-22T00:05:27.201997Z",
     "start_time": "2022-05-22T00:05:27.184020Z"
    }
   },
   "outputs": [],
   "source": [
    "cv2.destroyAllWindows()"
   ]
  },
  {
   "cell_type": "code",
   "execution_count": 5,
   "metadata": {
    "ExecuteTime": {
     "end_time": "2022-05-22T00:08:46.071529Z",
     "start_time": "2022-05-22T00:08:46.054572Z"
    }
   },
   "outputs": [
    {
     "data": {
      "text/plain": [
       "(350, 528)"
      ]
     },
     "execution_count": 5,
     "metadata": {},
     "output_type": "execute_result"
    }
   ],
   "source": [
    "z.shape"
   ]
  },
  {
   "cell_type": "code",
   "execution_count": 7,
   "metadata": {
    "ExecuteTime": {
     "end_time": "2022-05-22T00:09:01.909987Z",
     "start_time": "2022-05-22T00:09:01.891012Z"
    }
   },
   "outputs": [
    {
     "data": {
      "text/plain": [
       "(350, 528)"
      ]
     },
     "execution_count": 7,
     "metadata": {},
     "output_type": "execute_result"
    }
   ],
   "source": [
    "r.shape"
   ]
  },
  {
   "cell_type": "code",
   "execution_count": 13,
   "metadata": {
    "ExecuteTime": {
     "end_time": "2022-05-22T00:10:35.487250Z",
     "start_time": "2022-05-22T00:10:35.478274Z"
    }
   },
   "outputs": [],
   "source": [
    "i = cv2.merge([r,z,z])"
   ]
  },
  {
   "cell_type": "code",
   "execution_count": 9,
   "metadata": {
    "ExecuteTime": {
     "end_time": "2022-05-22T00:09:40.648747Z",
     "start_time": "2022-05-22T00:09:40.631790Z"
    }
   },
   "outputs": [],
   "source": [
    "z = np.zeros(shape=(image.shape[:2]),dtype=\"uint8\")"
   ]
  },
  {
   "cell_type": "code",
   "execution_count": 1,
   "metadata": {
    "ExecuteTime": {
     "end_time": "2022-05-22T15:07:38.572243Z",
     "start_time": "2022-05-22T15:07:37.646597Z"
    }
   },
   "outputs": [],
   "source": [
    "import cv2\n",
    "import matplotlib.pyplot as plt\n",
    "import numpy as np"
   ]
  },
  {
   "cell_type": "code",
   "execution_count": 16,
   "metadata": {
    "ExecuteTime": {
     "end_time": "2022-05-22T14:26:39.076072Z",
     "start_time": "2022-05-22T14:26:39.058120Z"
    }
   },
   "outputs": [
    {
     "data": {
      "text/plain": [
       "array([[[16, 15, 11],\n",
       "        [23, 22, 18],\n",
       "        [31, 30, 26],\n",
       "        ...,\n",
       "        [ 7,  8,  6],\n",
       "        [ 7,  8,  6],\n",
       "        [ 7,  8,  6]],\n",
       "\n",
       "       [[15, 14, 10],\n",
       "        [22, 21, 17],\n",
       "        [30, 29, 25],\n",
       "        ...,\n",
       "        [ 6,  7,  5],\n",
       "        [ 6,  7,  5],\n",
       "        [ 6,  7,  5]],\n",
       "\n",
       "       [[14, 13,  9],\n",
       "        [21, 20, 16],\n",
       "        [30, 29, 25],\n",
       "        ...,\n",
       "        [ 6,  7,  5],\n",
       "        [ 6,  7,  5],\n",
       "        [ 6,  7,  5]],\n",
       "\n",
       "       ...,\n",
       "\n",
       "       [[ 8,  8,  8],\n",
       "        [ 7,  7,  7],\n",
       "        [ 5,  5,  5],\n",
       "        ...,\n",
       "        [ 0,  0,  0],\n",
       "        [ 0,  0,  0],\n",
       "        [ 0,  0,  0]],\n",
       "\n",
       "       [[ 9,  9,  9],\n",
       "        [ 8,  8,  8],\n",
       "        [ 6,  6,  6],\n",
       "        ...,\n",
       "        [ 0,  0,  0],\n",
       "        [ 0,  0,  0],\n",
       "        [ 0,  0,  0]],\n",
       "\n",
       "       [[10, 10, 10],\n",
       "        [ 9,  9,  9],\n",
       "        [ 7,  7,  7],\n",
       "        ...,\n",
       "        [ 0,  0,  0],\n",
       "        [ 0,  0,  0],\n",
       "        [ 0,  0,  0]]], dtype=uint8)"
      ]
     },
     "execution_count": 16,
     "metadata": {},
     "output_type": "execute_result"
    }
   ],
   "source": [
    "image = cv2.imread(\"DATA/cat.jpeg\")\n",
    "image"
   ]
  },
  {
   "cell_type": "code",
   "execution_count": 17,
   "metadata": {
    "ExecuteTime": {
     "end_time": "2022-05-22T14:28:09.634928Z",
     "start_time": "2022-05-22T14:28:09.603979Z"
    }
   },
   "outputs": [
    {
     "data": {
      "text/plain": [
       "array([[1.9482e+04],\n",
       "       [8.4020e+03],\n",
       "       [8.4210e+03],\n",
       "       [7.5540e+03],\n",
       "       [9.3750e+03],\n",
       "       [8.3590e+03],\n",
       "       [9.0310e+03],\n",
       "       [7.6060e+03],\n",
       "       [6.5440e+03],\n",
       "       [6.4020e+03],\n",
       "       [5.4690e+03],\n",
       "       [4.4620e+03],\n",
       "       [3.9070e+03],\n",
       "       [3.6290e+03],\n",
       "       [3.6530e+03],\n",
       "       [3.2700e+03],\n",
       "       [2.8460e+03],\n",
       "       [2.6760e+03],\n",
       "       [2.3790e+03],\n",
       "       [2.1950e+03],\n",
       "       [2.2540e+03],\n",
       "       [2.2540e+03],\n",
       "       [1.8000e+03],\n",
       "       [1.5310e+03],\n",
       "       [1.3540e+03],\n",
       "       [1.2440e+03],\n",
       "       [1.1050e+03],\n",
       "       [1.0120e+03],\n",
       "       [1.0050e+03],\n",
       "       [9.8100e+02],\n",
       "       [9.4100e+02],\n",
       "       [7.8100e+02],\n",
       "       [8.4700e+02],\n",
       "       [8.5500e+02],\n",
       "       [7.6500e+02],\n",
       "       [7.8800e+02],\n",
       "       [7.1500e+02],\n",
       "       [6.5800e+02],\n",
       "       [5.8500e+02],\n",
       "       [5.5900e+02],\n",
       "       [6.1800e+02],\n",
       "       [5.0900e+02],\n",
       "       [5.7100e+02],\n",
       "       [4.9300e+02],\n",
       "       [5.7900e+02],\n",
       "       [5.2200e+02],\n",
       "       [5.4400e+02],\n",
       "       [5.5600e+02],\n",
       "       [4.8400e+02],\n",
       "       [4.8600e+02],\n",
       "       [5.2200e+02],\n",
       "       [4.8400e+02],\n",
       "       [4.5500e+02],\n",
       "       [4.6500e+02],\n",
       "       [4.8200e+02],\n",
       "       [4.4600e+02],\n",
       "       [4.7300e+02],\n",
       "       [4.8900e+02],\n",
       "       [4.7900e+02],\n",
       "       [3.9900e+02],\n",
       "       [4.7200e+02],\n",
       "       [4.1000e+02],\n",
       "       [4.2600e+02],\n",
       "       [4.1000e+02],\n",
       "       [3.8400e+02],\n",
       "       [3.7100e+02],\n",
       "       [3.8700e+02],\n",
       "       [3.8400e+02],\n",
       "       [3.2400e+02],\n",
       "       [3.6000e+02],\n",
       "       [3.4600e+02],\n",
       "       [3.4000e+02],\n",
       "       [3.4800e+02],\n",
       "       [3.4400e+02],\n",
       "       [3.2600e+02],\n",
       "       [3.6200e+02],\n",
       "       [3.2100e+02],\n",
       "       [3.2600e+02],\n",
       "       [3.2600e+02],\n",
       "       [2.8500e+02],\n",
       "       [3.0000e+02],\n",
       "       [2.9800e+02],\n",
       "       [2.6500e+02],\n",
       "       [2.7600e+02],\n",
       "       [2.7600e+02],\n",
       "       [2.6000e+02],\n",
       "       [2.5900e+02],\n",
       "       [2.8300e+02],\n",
       "       [2.6400e+02],\n",
       "       [2.5200e+02],\n",
       "       [2.5600e+02],\n",
       "       [2.3400e+02],\n",
       "       [2.3100e+02],\n",
       "       [2.4800e+02],\n",
       "       [2.5700e+02],\n",
       "       [2.3800e+02],\n",
       "       [2.2500e+02],\n",
       "       [2.1500e+02],\n",
       "       [2.1100e+02],\n",
       "       [2.1300e+02],\n",
       "       [2.1400e+02],\n",
       "       [2.3500e+02],\n",
       "       [2.1900e+02],\n",
       "       [1.8700e+02],\n",
       "       [2.0700e+02],\n",
       "       [2.2500e+02],\n",
       "       [1.6700e+02],\n",
       "       [1.9600e+02],\n",
       "       [1.7800e+02],\n",
       "       [2.0500e+02],\n",
       "       [1.9000e+02],\n",
       "       [1.9300e+02],\n",
       "       [1.8900e+02],\n",
       "       [1.6700e+02],\n",
       "       [1.7200e+02],\n",
       "       [1.7900e+02],\n",
       "       [1.7900e+02],\n",
       "       [1.6300e+02],\n",
       "       [1.8200e+02],\n",
       "       [1.4700e+02],\n",
       "       [1.5800e+02],\n",
       "       [1.5700e+02],\n",
       "       [1.6800e+02],\n",
       "       [1.3900e+02],\n",
       "       [1.2600e+02],\n",
       "       [1.3900e+02],\n",
       "       [1.2100e+02],\n",
       "       [1.1600e+02],\n",
       "       [1.3600e+02],\n",
       "       [1.2300e+02],\n",
       "       [1.3400e+02],\n",
       "       [1.4400e+02],\n",
       "       [1.3900e+02],\n",
       "       [1.1700e+02],\n",
       "       [1.2300e+02],\n",
       "       [1.4200e+02],\n",
       "       [1.0500e+02],\n",
       "       [1.1500e+02],\n",
       "       [1.1700e+02],\n",
       "       [1.2700e+02],\n",
       "       [1.2800e+02],\n",
       "       [1.0500e+02],\n",
       "       [1.1800e+02],\n",
       "       [1.1500e+02],\n",
       "       [1.1200e+02],\n",
       "       [1.1900e+02],\n",
       "       [1.1600e+02],\n",
       "       [9.6000e+01],\n",
       "       [9.8000e+01],\n",
       "       [1.1200e+02],\n",
       "       [1.2400e+02],\n",
       "       [1.2400e+02],\n",
       "       [1.0600e+02],\n",
       "       [1.0500e+02],\n",
       "       [1.2100e+02],\n",
       "       [1.1200e+02],\n",
       "       [9.8000e+01],\n",
       "       [1.2900e+02],\n",
       "       [1.1500e+02],\n",
       "       [1.1500e+02],\n",
       "       [1.2500e+02],\n",
       "       [9.7000e+01],\n",
       "       [1.0300e+02],\n",
       "       [8.8000e+01],\n",
       "       [9.8000e+01],\n",
       "       [1.1500e+02],\n",
       "       [1.0600e+02],\n",
       "       [8.0000e+01],\n",
       "       [7.2000e+01],\n",
       "       [9.7000e+01],\n",
       "       [8.8000e+01],\n",
       "       [1.0300e+02],\n",
       "       [7.4000e+01],\n",
       "       [8.3000e+01],\n",
       "       [7.9000e+01],\n",
       "       [7.5000e+01],\n",
       "       [1.0200e+02],\n",
       "       [7.1000e+01],\n",
       "       [9.2000e+01],\n",
       "       [1.0300e+02],\n",
       "       [9.4000e+01],\n",
       "       [8.6000e+01],\n",
       "       [1.0200e+02],\n",
       "       [8.0000e+01],\n",
       "       [8.5000e+01],\n",
       "       [1.1000e+02],\n",
       "       [1.0200e+02],\n",
       "       [8.9000e+01],\n",
       "       [1.0400e+02],\n",
       "       [1.0600e+02],\n",
       "       [9.9000e+01],\n",
       "       [9.3000e+01],\n",
       "       [9.7000e+01],\n",
       "       [9.0000e+01],\n",
       "       [1.0200e+02],\n",
       "       [9.1000e+01],\n",
       "       [7.9000e+01],\n",
       "       [5.9000e+01],\n",
       "       [8.9000e+01],\n",
       "       [6.3000e+01],\n",
       "       [7.1000e+01],\n",
       "       [6.7000e+01],\n",
       "       [5.7000e+01],\n",
       "       [7.2000e+01],\n",
       "       [7.2000e+01],\n",
       "       [6.9000e+01],\n",
       "       [4.7000e+01],\n",
       "       [6.4000e+01],\n",
       "       [5.2000e+01],\n",
       "       [6.1000e+01],\n",
       "       [4.9000e+01],\n",
       "       [5.2000e+01],\n",
       "       [5.4000e+01],\n",
       "       [6.2000e+01],\n",
       "       [5.1000e+01],\n",
       "       [6.8000e+01],\n",
       "       [4.5000e+01],\n",
       "       [4.4000e+01],\n",
       "       [3.7000e+01],\n",
       "       [4.4000e+01],\n",
       "       [3.4000e+01],\n",
       "       [3.5000e+01],\n",
       "       [4.8000e+01],\n",
       "       [4.3000e+01],\n",
       "       [3.8000e+01],\n",
       "       [5.4000e+01],\n",
       "       [4.9000e+01],\n",
       "       [3.5000e+01],\n",
       "       [2.9000e+01],\n",
       "       [4.1000e+01],\n",
       "       [3.3000e+01],\n",
       "       [2.0000e+01],\n",
       "       [3.8000e+01],\n",
       "       [4.1000e+01],\n",
       "       [2.5000e+01],\n",
       "       [3.8000e+01],\n",
       "       [1.9000e+01],\n",
       "       [3.7000e+01],\n",
       "       [3.3000e+01],\n",
       "       [3.2000e+01],\n",
       "       [4.1000e+01],\n",
       "       [4.0000e+01],\n",
       "       [4.2000e+01],\n",
       "       [3.3000e+01],\n",
       "       [4.3000e+01],\n",
       "       [3.9000e+01],\n",
       "       [3.8000e+01],\n",
       "       [4.3000e+01],\n",
       "       [2.8000e+01],\n",
       "       [2.0000e+01],\n",
       "       [2.1000e+01],\n",
       "       [2.5000e+01],\n",
       "       [1.3000e+01],\n",
       "       [1.3000e+01],\n",
       "       [1.5000e+01],\n",
       "       [4.2000e+01]], dtype=float32)"
      ]
     },
     "execution_count": 17,
     "metadata": {},
     "output_type": "execute_result"
    }
   ],
   "source": [
    "hist = cv2.calcHist([image],[0], None,[256], [0,256])\n",
    "hist"
   ]
  },
  {
   "cell_type": "code",
   "execution_count": 19,
   "metadata": {
    "ExecuteTime": {
     "end_time": "2022-05-22T14:28:27.111025Z",
     "start_time": "2022-05-22T14:28:27.105041Z"
    }
   },
   "outputs": [
    {
     "data": {
      "text/plain": [
       "array([16, 15, 11, ...,  0,  0,  0], dtype=uint8)"
      ]
     },
     "execution_count": 19,
     "metadata": {},
     "output_type": "execute_result"
    }
   ],
   "source": [
    "image.ravel()"
   ]
  },
  {
   "cell_type": "code",
   "execution_count": 21,
   "metadata": {
    "ExecuteTime": {
     "end_time": "2022-05-22T14:28:54.253156Z",
     "start_time": "2022-05-22T14:28:54.242185Z"
    }
   },
   "outputs": [
    {
     "data": {
      "text/plain": [
       "(554400,)"
      ]
     },
     "execution_count": 21,
     "metadata": {},
     "output_type": "execute_result"
    }
   ],
   "source": [
    "np.shape(image.ravel())"
   ]
  },
  {
   "cell_type": "code",
   "execution_count": 23,
   "metadata": {
    "ExecuteTime": {
     "end_time": "2022-05-22T14:30:16.750502Z",
     "start_time": "2022-05-22T14:30:16.322205Z"
    }
   },
   "outputs": [
    {
     "data": {
      "image/png": "[encoded data removed]",
      "text/plain": [
       "<Figure size 432x288 with 1 Axes>"
      ]
     },
     "metadata": {
      "needs_background": "light"
     },
     "output_type": "display_data"
    }
   ],
   "source": [
    "plt.hist(image.ravel(), 256, [0,256])\n",
    "plt.show()"
   ]
  },
  {
   "cell_type": "code",
   "execution_count": 30,
   "metadata": {
    "ExecuteTime": {
     "end_time": "2022-05-22T14:39:05.257783Z",
     "start_time": "2022-05-22T14:39:04.224371Z"
    }
   },
   "outputs": [
    {
     "data": {
      "image/png": "[encoded data removed]",
      "text/plain": [
       "<Figure size 432x288 with 1 Axes>"
      ]
     },
     "metadata": {
      "needs_background": "light"
     },
     "output_type": "display_data"
    }
   ],
   "source": [
    "(b, g, r) = cv2.split(image)\n",
    "plt.hist(b.ravel(), color = \"b\", bins = 256, range = [0,256],density = False)\n",
    "plt.hist(g.ravel(), color = \"g\", bins = 256, range = [0,256], density = False)\n",
    "plt.hist(r.ravel(), color = \"r\", bins = 256, range = [0,256], density = False)\n",
    "plt.show()"
   ]
  },
  {
   "cell_type": "code",
   "execution_count": 2,
   "metadata": {
    "ExecuteTime": {
     "end_time": "2022-05-22T15:13:47.475438Z",
     "start_time": "2022-05-22T15:13:47.456493Z"
    }
   },
   "outputs": [],
   "source": [
    "image = cv2.imread(\"DATA/DOGS.jpeg\")\n"
   ]
  },
  {
   "cell_type": "code",
   "execution_count": 3,
   "metadata": {
    "ExecuteTime": {
     "end_time": "2022-05-22T15:13:55.944266Z",
     "start_time": "2022-05-22T15:13:55.928283Z"
    }
   },
   "outputs": [
    {
     "data": {
      "text/plain": [
       "(733, 1100, 3)"
      ]
     },
     "execution_count": 3,
     "metadata": {},
     "output_type": "execute_result"
    }
   ],
   "source": [
    "image.shape "
   ]
  },
  {
   "cell_type": "code",
   "execution_count": 4,
   "metadata": {
    "ExecuteTime": {
     "end_time": "2022-05-22T15:14:41.428497Z",
     "start_time": "2022-05-22T15:14:41.417527Z"
    }
   },
   "outputs": [
    {
     "data": {
      "text/plain": [
       "733"
      ]
     },
     "execution_count": 4,
     "metadata": {},
     "output_type": "execute_result"
    }
   ],
   "source": [
    "height, width = image.shape[0:2]\n",
    "height"
   ]
  },
  {
   "cell_type": "code",
   "execution_count": 5,
   "metadata": {
    "ExecuteTime": {
     "end_time": "2022-05-22T15:14:45.267890Z",
     "start_time": "2022-05-22T15:14:45.257915Z"
    }
   },
   "outputs": [
    {
     "data": {
      "text/plain": [
       "1100"
      ]
     },
     "execution_count": 5,
     "metadata": {},
     "output_type": "execute_result"
    }
   ],
   "source": [
    "width"
   ]
  },
  {
   "cell_type": "code",
   "execution_count": 11,
   "metadata": {
    "ExecuteTime": {
     "end_time": "2022-05-22T15:20:25.565620Z",
     "start_time": "2022-05-22T15:20:25.540688Z"
    }
   },
   "outputs": [
    {
     "data": {
      "text/plain": [
       "array([[   1.  ,    0.  ,    0.  ],\n",
       "       [   0.  ,    1.  , -183.25]], dtype=float32)"
      ]
     },
     "execution_count": 11,
     "metadata": {},
     "output_type": "execute_result"
    }
   ],
   "source": [
    "q_h = height/4\n",
    "T = np.float32([[1,0,0], [0,1,-q_h]])\n",
    "T"
   ]
  },
  {
   "cell_type": "code",
   "execution_count": 29,
   "metadata": {
    "ExecuteTime": {
     "end_time": "2022-05-22T22:11:06.487730Z",
     "start_time": "2022-05-22T22:11:03.601351Z"
    }
   },
   "outputs": [],
   "source": [
    "cv2.imshow(\"i\", image)\n",
    "cv2.imshow(\"o\",cv2.warpAffine(image, T, (width, height)))\n",
    "cv2.waitKey(0)\n",
    "cv2.destroyAllWindows()"
   ]
  },
  {
   "cell_type": "code",
   "execution_count": 9,
   "metadata": {
    "ExecuteTime": {
     "end_time": "2022-05-22T15:19:18.612683Z",
     "start_time": "2022-05-22T15:19:18.586718Z"
    }
   },
   "outputs": [],
   "source": [
    "cv2.destroyAllWindows()"
   ]
  },
  {
   "cell_type": "code",
   "execution_count": 14,
   "metadata": {
    "ExecuteTime": {
     "end_time": "2022-05-22T15:27:43.730247Z",
     "start_time": "2022-05-22T15:27:43.717283Z"
    }
   },
   "outputs": [],
   "source": [
    "def show(image):\n",
    "    cv2.imshow(\"o\", image)\n",
    "    cv2.waitKey(0)\n",
    "    cv2.destroyAllWindows()"
   ]
  },
  {
   "cell_type": "code",
   "execution_count": 21,
   "metadata": {
    "ExecuteTime": {
     "end_time": "2022-05-22T15:29:56.204008Z",
     "start_time": "2022-05-22T15:29:56.197025Z"
    }
   },
   "outputs": [],
   "source": [
    "def translate(image, x, y):\n",
    "    T = np.float32([[1,0,x], [0,1,y]])\n",
    "    img = cv2.warpAffine(image, T, (image.shape[1], image.shape[0]))\n",
    "    return img"
   ]
  },
  {
   "cell_type": "code",
   "execution_count": 22,
   "metadata": {
    "ExecuteTime": {
     "end_time": "2022-05-22T15:29:59.990007Z",
     "start_time": "2022-05-22T15:29:57.286416Z"
    }
   },
   "outputs": [],
   "source": [
    "show(translate(image, x = 100, y = 250))"
   ]
  },
  {
   "cell_type": "code",
   "execution_count": 26,
   "metadata": {
    "ExecuteTime": {
     "end_time": "2022-05-22T15:59:02.857430Z",
     "start_time": "2022-05-22T15:58:58.298519Z"
    }
   },
   "outputs": [],
   "source": [
    "rotation = cv2.getRotationMatrix2D((image.shape[1]/2,image.shape[0]/2), 50, 1)\n",
    "warp = cv2.warpAffine(image, rotation, (image.shape[1], image.shape[0]))\n",
    "cv2.imshow(\"i\", warp)\n",
    "cv2.waitKey()\n",
    "cv2.destroyAllWindows()                                   "
   ]
  },
  {
   "cell_type": "code",
   "execution_count": 28,
   "metadata": {
    "ExecuteTime": {
     "end_time": "2022-05-22T16:01:23.537193Z",
     "start_time": "2022-05-22T16:01:23.522226Z"
    }
   },
   "outputs": [
    {
     "data": {
      "text/plain": [
       "(1, 2)"
      ]
     },
     "execution_count": 28,
     "metadata": {},
     "output_type": "execute_result"
    }
   ],
   "source": [
    "h =  3\n",
    "w = 4\n",
    "c = (h//2,w//2)\n",
    "c"
   ]
  },
  {
   "cell_type": "code",
   "execution_count": 1,
   "metadata": {
    "ExecuteTime": {
     "end_time": "2022-05-22T22:39:18.135424Z",
     "start_time": "2022-05-22T22:39:17.608012Z"
    }
   },
   "outputs": [],
   "source": [
    "import cv2\n",
    "import matplotlib.pyplot as plt \n",
    "import numpy as np"
   ]
  },
  {
   "cell_type": "code",
   "execution_count": 33,
   "metadata": {
    "ExecuteTime": {
     "end_time": "2022-05-22T22:14:19.078754Z",
     "start_time": "2022-05-22T22:14:19.066786Z"
    }
   },
   "outputs": [
    {
     "data": {
      "text/plain": [
       "(366, 550, 3)"
      ]
     },
     "execution_count": 33,
     "metadata": {},
     "output_type": "execute_result"
    }
   ],
   "source": [
    "ir = cv2.resize(image, None, fx = 0.5, fy=0.5, interpolation = cv2.INTER_CUBIC)\n",
    "ir.shape"
   ]
  },
  {
   "cell_type": "code",
   "execution_count": 34,
   "metadata": {
    "ExecuteTime": {
     "end_time": "2022-05-22T22:14:33.393463Z",
     "start_time": "2022-05-22T22:14:33.378470Z"
    }
   },
   "outputs": [
    {
     "data": {
      "text/plain": [
       "(733, 1100, 3)"
      ]
     },
     "execution_count": 34,
     "metadata": {},
     "output_type": "execute_result"
    }
   ],
   "source": [
    "image.shape"
   ]
  },
  {
   "cell_type": "code",
   "execution_count": 36,
   "metadata": {
    "ExecuteTime": {
     "end_time": "2022-05-22T22:23:38.099519Z",
     "start_time": "2022-05-22T22:23:23.778122Z"
    }
   },
   "outputs": [],
   "source": [
    "square = np.zeros(shape =(300,300), dtype = np.uint8)\n",
    "cv2.rectangle(square, (50,50), (250,250),color = 255, thickness = -2)\n",
    "cv2.imshow(\"square\", square)\n",
    "cv2.waitKey()\n",
    "\n",
    "ellipse = np.zeros(shape = (300,300), dtype = np.uint8)\n",
    "cv2.ellipse(ellipse,(ellipse.shape[1]//2, ellipse.shape[0]//2), (150,150), 30,0,180, 255, -1)\n",
    "\n",
    "cv2.imshow(\"ellipse\",ellipse)\n",
    "cv2.waitKey()\n",
    "cv2.destroyAllWindows()\n"
   ]
  },
  {
   "cell_type": "code",
   "execution_count": 39,
   "metadata": {
    "ExecuteTime": {
     "end_time": "2022-05-22T22:30:01.449142Z",
     "start_time": "2022-05-22T22:29:34.441640Z"
    }
   },
   "outputs": [],
   "source": [
    "cv2.imshow(\"square\", square)\n",
    "cv2.waitKey()\n",
    "cv2.imshow(\"ellipse\", ellipse)\n",
    "cv2.waitKey()\n",
    "AND = cv2.bitwise_and(square, ellipse)\n",
    "cv2.imshow(\"AND\", AND)\n",
    "cv2.waitKey()\n",
    "OR = cv2.bitwise_or(square, ellipse)\n",
    "cv2.imshow(\"OR\", OR)\n",
    "cv2.waitKey()\n",
    "\n",
    "XOR = cv2.bitwise_xor(square, ellipse)\n",
    "cv2.imshow(\"XOR\", XOR)\n",
    "cv2.waitKey()\n",
    "\n",
    "cv2.destroyAllWindows()"
   ]
  },
  {
   "cell_type": "code",
   "execution_count": 2,
   "metadata": {
    "ExecuteTime": {
     "end_time": "2022-05-22T22:39:21.336946Z",
     "start_time": "2022-05-22T22:39:21.326973Z"
    }
   },
   "outputs": [],
   "source": [
    "import time"
   ]
  },
  {
   "cell_type": "code",
   "execution_count": 9,
   "metadata": {
    "ExecuteTime": {
     "end_time": "2022-05-22T22:45:41.033837Z",
     "start_time": "2022-05-22T22:45:33.969642Z"
    },
    "collapsed": true
   },
   "outputs": [
    {
     "name": "stdout",
     "output_type": "stream",
     "text": [
      "ret True\n",
      "ret True\n",
      "ret True\n",
      "ret True\n",
      "ret True\n",
      "ret True\n",
      "ret True\n",
      "ret True\n",
      "ret True\n",
      "ret True\n",
      "ret True\n",
      "ret True\n",
      "ret True\n",
      "ret True\n",
      "ret True\n",
      "ret True\n",
      "ret True\n",
      "ret True\n",
      "ret True\n",
      "ret True\n",
      "ret True\n",
      "ret True\n",
      "ret True\n",
      "ret True\n",
      "ret True\n",
      "ret True\n",
      "ret True\n",
      "ret True\n",
      "ret True\n",
      "ret True\n",
      "ret True\n",
      "ret True\n",
      "ret True\n",
      "ret True\n",
      "ret True\n",
      "ret True\n",
      "ret True\n",
      "ret True\n",
      "ret True\n",
      "ret True\n",
      "ret True\n",
      "ret True\n",
      "ret True\n",
      "ret True\n",
      "ret True\n",
      "ret True\n",
      "ret True\n",
      "ret True\n",
      "ret True\n",
      "ret True\n",
      "ret True\n",
      "ret True\n",
      "ret True\n",
      "ret True\n",
      "ret True\n",
      "ret True\n",
      "ret True\n",
      "ret True\n",
      "ret True\n",
      "ret True\n",
      "ret True\n",
      "ret True\n",
      "ret True\n",
      "ret True\n",
      "ret True\n",
      "ret True\n",
      "ret True\n",
      "ret True\n",
      "ret True\n",
      "ret True\n",
      "ret True\n",
      "ret True\n",
      "ret True\n",
      "ret True\n",
      "ret True\n",
      "113\n"
     ]
    }
   ],
   "source": [
    "cap = cv2.VideoCapture(\"DATA/vid2.mp4\")\n",
    "time.sleep(2)\n",
    "while True:\n",
    "    ret, frame = cap.read()\n",
    "    print(\"ret\", ret)\n",
    "    \n",
    "    if ret == False:\n",
    "        break\n",
    "    cv2.imshow(\"frame\", frame)\n",
    "    if cv2.waitKey(1) & 0xFF == ord('q'):\n",
    "        break\n",
    "    \n",
    "cap.release()\n",
    "cv2.destroyAllWindows()"
   ]
  },
  {
   "cell_type": "code",
   "execution_count": 13,
   "metadata": {
    "ExecuteTime": {
     "end_time": "2022-05-22T22:56:56.992193Z",
     "start_time": "2022-05-22T22:55:25.045259Z"
    },
    "collapsed": true
   },
   "outputs": [
    {
     "name": "stdout",
     "output_type": "stream",
     "text": [
      "ret True\n",
      "ret True\n",
      "ret True\n",
      "ret True\n",
      "ret True\n",
      "ret True\n",
      "ret True\n",
      "ret True\n",
      "ret True\n",
      "ret True\n",
      "ret True\n",
      "ret True\n",
      "ret True\n",
      "ret True\n",
      "ret True\n",
      "ret True\n",
      "ret True\n",
      "ret True\n",
      "ret True\n",
      "ret True\n",
      "ret True\n",
      "ret True\n",
      "ret True\n",
      "ret True\n",
      "ret True\n",
      "ret True\n",
      "ret True\n",
      "ret True\n",
      "ret True\n",
      "ret True\n",
      "ret True\n",
      "ret True\n",
      "ret True\n",
      "ret True\n",
      "ret True\n",
      "ret True\n",
      "ret True\n",
      "ret True\n",
      "ret True\n",
      "ret True\n",
      "ret True\n",
      "ret True\n",
      "ret True\n",
      "ret True\n",
      "ret True\n",
      "ret True\n",
      "ret True\n",
      "ret True\n",
      "ret True\n",
      "ret True\n",
      "ret True\n",
      "ret True\n",
      "ret True\n",
      "ret True\n",
      "ret True\n",
      "ret True\n",
      "ret True\n",
      "ret True\n",
      "ret True\n",
      "ret True\n",
      "ret True\n",
      "ret True\n",
      "ret True\n",
      "ret True\n",
      "ret True\n",
      "ret True\n",
      "ret True\n",
      "ret True\n",
      "ret True\n",
      "ret True\n",
      "ret True\n",
      "ret True\n",
      "ret True\n",
      "ret True\n",
      "ret True\n",
      "ret True\n",
      "ret True\n",
      "ret True\n",
      "ret True\n",
      "ret True\n",
      "ret True\n",
      "ret True\n",
      "ret True\n",
      "ret True\n",
      "ret True\n",
      "ret True\n",
      "ret True\n",
      "ret True\n",
      "ret True\n",
      "ret True\n",
      "ret True\n",
      "ret True\n",
      "ret True\n",
      "ret True\n",
      "ret True\n",
      "ret True\n",
      "ret True\n",
      "ret True\n",
      "ret True\n",
      "ret True\n",
      "ret True\n",
      "ret True\n",
      "ret True\n",
      "ret True\n",
      "ret True\n",
      "ret True\n",
      "ret True\n",
      "ret True\n",
      "ret True\n",
      "ret True\n",
      "ret True\n",
      "ret True\n",
      "ret True\n",
      "ret True\n",
      "ret True\n",
      "ret True\n",
      "ret True\n",
      "ret True\n",
      "ret True\n",
      "ret True\n",
      "ret True\n",
      "ret True\n",
      "ret True\n",
      "ret True\n",
      "ret True\n",
      "ret True\n",
      "ret True\n",
      "ret True\n",
      "ret True\n",
      "ret True\n",
      "ret True\n",
      "ret True\n",
      "ret True\n",
      "ret True\n",
      "ret True\n",
      "ret True\n",
      "ret True\n",
      "ret True\n",
      "ret True\n",
      "ret True\n",
      "ret True\n",
      "ret True\n",
      "ret True\n",
      "ret True\n",
      "ret True\n",
      "ret True\n",
      "ret True\n",
      "ret True\n",
      "ret True\n",
      "ret True\n",
      "ret True\n",
      "ret True\n",
      "ret True\n",
      "ret True\n",
      "ret True\n",
      "ret True\n",
      "ret True\n",
      "ret True\n",
      "ret True\n",
      "ret True\n",
      "ret True\n",
      "ret True\n",
      "ret True\n",
      "ret True\n",
      "ret True\n",
      "ret True\n",
      "ret True\n",
      "ret True\n",
      "ret True\n",
      "ret True\n",
      "ret True\n",
      "ret True\n",
      "ret True\n",
      "ret True\n",
      "ret True\n",
      "ret True\n",
      "ret True\n",
      "ret True\n",
      "ret True\n",
      "ret True\n",
      "ret True\n",
      "ret True\n",
      "ret True\n",
      "ret True\n",
      "ret True\n",
      "ret True\n",
      "ret True\n",
      "ret True\n",
      "ret True\n",
      "ret True\n",
      "ret True\n",
      "ret True\n",
      "ret True\n",
      "ret True\n",
      "ret True\n",
      "ret True\n",
      "ret True\n",
      "ret True\n",
      "ret True\n",
      "ret True\n",
      "ret True\n",
      "ret True\n",
      "ret True\n",
      "ret True\n",
      "ret True\n",
      "ret True\n",
      "ret True\n",
      "ret True\n",
      "ret True\n",
      "ret True\n",
      "ret True\n",
      "ret True\n",
      "ret True\n",
      "ret True\n",
      "ret True\n",
      "ret True\n",
      "ret True\n",
      "ret True\n",
      "ret True\n",
      "ret True\n",
      "ret True\n",
      "ret True\n",
      "ret True\n",
      "ret True\n",
      "ret True\n",
      "ret True\n",
      "ret True\n",
      "ret True\n",
      "ret True\n",
      "ret True\n",
      "ret True\n",
      "ret True\n",
      "ret True\n",
      "ret True\n",
      "ret True\n",
      "ret True\n",
      "ret True\n",
      "ret True\n",
      "ret True\n",
      "ret True\n",
      "ret True\n",
      "ret True\n",
      "ret True\n",
      "ret True\n",
      "ret True\n",
      "ret True\n",
      "ret True\n",
      "ret True\n",
      "ret True\n",
      "ret True\n",
      "ret True\n",
      "ret True\n",
      "ret True\n",
      "ret True\n",
      "ret True\n",
      "ret True\n",
      "ret True\n",
      "ret True\n",
      "ret True\n",
      "ret True\n",
      "ret True\n",
      "ret True\n",
      "ret True\n",
      "ret True\n",
      "ret True\n",
      "ret True\n",
      "ret True\n",
      "ret True\n",
      "ret True\n",
      "ret True\n",
      "ret True\n",
      "ret True\n",
      "ret True\n",
      "ret True\n",
      "ret True\n",
      "ret True\n",
      "ret True\n",
      "ret True\n",
      "ret True\n",
      "ret True\n",
      "ret True\n",
      "ret True\n",
      "ret True\n",
      "ret True\n",
      "ret True\n",
      "ret True\n",
      "ret True\n",
      "ret True\n",
      "ret True\n",
      "ret True\n",
      "ret True\n",
      "ret True\n",
      "ret True\n",
      "ret True\n",
      "ret True\n",
      "ret True\n",
      "ret True\n",
      "ret True\n",
      "ret True\n",
      "ret True\n",
      "ret True\n",
      "ret True\n",
      "ret True\n",
      "ret True\n",
      "ret True\n",
      "ret True\n",
      "ret True\n",
      "ret True\n",
      "ret True\n",
      "ret True\n",
      "ret True\n",
      "ret True\n",
      "ret True\n",
      "ret True\n",
      "ret True\n",
      "ret True\n",
      "ret True\n",
      "ret True\n",
      "ret True\n",
      "ret True\n",
      "ret True\n",
      "ret True\n",
      "ret True\n",
      "ret True\n",
      "ret True\n",
      "ret True\n",
      "ret True\n",
      "ret True\n",
      "ret True\n",
      "ret True\n",
      "ret True\n",
      "ret True\n",
      "ret True\n",
      "ret True\n",
      "ret True\n",
      "ret True\n",
      "ret True\n",
      "ret True\n",
      "ret True\n",
      "ret True\n",
      "ret True\n",
      "ret True\n",
      "ret True\n",
      "ret True\n",
      "ret True\n",
      "ret True\n",
      "ret True\n",
      "ret True\n",
      "ret True\n",
      "ret True\n",
      "ret True\n",
      "ret True\n",
      "ret True\n",
      "ret True\n",
      "ret True\n",
      "ret True\n",
      "ret True\n",
      "ret True\n",
      "ret True\n",
      "ret True\n",
      "ret True\n",
      "ret True\n",
      "ret True\n",
      "ret True\n",
      "ret True\n",
      "ret True\n",
      "ret True\n",
      "ret True\n",
      "ret True\n",
      "ret True\n",
      "ret True\n",
      "ret True\n",
      "ret True\n",
      "ret True\n",
      "ret True\n",
      "ret True\n",
      "ret True\n",
      "ret True\n",
      "ret True\n",
      "ret True\n",
      "ret True\n",
      "ret True\n",
      "ret True\n",
      "ret True\n",
      "ret True\n",
      "ret True\n",
      "ret True\n",
      "ret True\n",
      "ret True\n",
      "ret True\n",
      "ret True\n",
      "ret True\n",
      "ret True\n",
      "ret True\n",
      "ret True\n",
      "ret True\n",
      "ret True\n",
      "ret True\n",
      "ret True\n",
      "ret True\n",
      "ret True\n",
      "ret True\n",
      "ret True\n",
      "ret True\n",
      "ret True\n",
      "ret True\n",
      "ret True\n",
      "ret True\n",
      "ret True\n",
      "ret True\n",
      "ret True\n",
      "ret True\n",
      "ret True\n",
      "ret True\n",
      "ret True\n",
      "ret True\n",
      "ret True\n",
      "ret True\n",
      "ret True\n",
      "ret True\n",
      "ret True\n",
      "ret True\n",
      "ret True\n",
      "ret True\n",
      "ret True\n",
      "ret True\n",
      "ret True\n",
      "ret True\n",
      "ret True\n",
      "ret True\n",
      "ret True\n",
      "ret True\n",
      "ret True\n",
      "ret True\n",
      "ret True\n",
      "ret True\n",
      "ret True\n",
      "ret True\n",
      "ret True\n",
      "ret True\n",
      "ret True\n",
      "ret True\n",
      "ret True\n",
      "ret True\n",
      "ret True\n",
      "ret True\n",
      "ret True\n",
      "ret True\n",
      "ret True\n",
      "ret True\n",
      "ret True\n",
      "ret True\n",
      "ret True\n",
      "ret True\n",
      "ret True\n",
      "ret True\n",
      "ret True\n",
      "ret True\n",
      "ret True\n",
      "ret True\n",
      "ret True\n",
      "ret True\n",
      "ret True\n",
      "ret True\n",
      "ret True\n",
      "ret True\n",
      "ret True\n",
      "ret True\n",
      "ret True\n",
      "ret True\n",
      "ret True\n",
      "ret True\n",
      "ret True\n",
      "ret True\n",
      "ret True\n",
      "ret True\n",
      "ret True\n",
      "ret True\n",
      "ret True\n",
      "ret True\n",
      "ret True\n",
      "ret True\n",
      "ret True\n",
      "ret True\n",
      "ret True\n",
      "ret True\n",
      "ret True\n",
      "ret True\n",
      "ret True\n",
      "ret True\n",
      "ret True\n",
      "ret True\n",
      "ret True\n",
      "ret True\n",
      "ret True\n",
      "ret True\n",
      "ret True\n",
      "ret True\n",
      "ret True\n",
      "ret True\n",
      "ret True\n",
      "ret True\n",
      "ret True\n",
      "ret True\n",
      "ret True\n",
      "ret True\n",
      "ret True\n",
      "ret True\n",
      "ret True\n",
      "ret True\n",
      "ret True\n",
      "ret True\n",
      "ret True\n",
      "ret True\n",
      "ret True\n",
      "ret True\n",
      "ret True\n",
      "ret True\n",
      "ret True\n",
      "ret True\n",
      "ret True\n",
      "ret True\n",
      "ret True\n",
      "ret True\n",
      "ret True\n",
      "ret True\n",
      "ret True\n",
      "ret True\n",
      "ret True\n",
      "ret True\n",
      "ret True\n",
      "ret True\n",
      "ret True\n",
      "ret True\n",
      "ret True\n",
      "ret True\n",
      "ret True\n",
      "ret True\n",
      "ret True\n",
      "ret True\n",
      "ret True\n",
      "ret True\n",
      "ret True\n",
      "ret True\n",
      "ret True\n",
      "ret True\n",
      "ret True\n",
      "ret True\n",
      "ret True\n",
      "ret True\n",
      "ret True\n",
      "ret True\n",
      "ret True\n",
      "ret True\n",
      "ret True\n",
      "ret True\n",
      "ret True\n",
      "ret True\n",
      "ret True\n",
      "ret True\n",
      "ret True\n",
      "ret True\n",
      "ret True\n",
      "ret True\n",
      "ret True\n",
      "ret True\n",
      "ret True\n",
      "ret True\n",
      "ret True\n",
      "ret True\n",
      "ret True\n",
      "ret True\n",
      "ret True\n",
      "ret True\n",
      "ret True\n",
      "ret True\n",
      "ret True\n",
      "ret True\n",
      "ret True\n",
      "ret True\n",
      "ret True\n",
      "ret True\n",
      "ret True\n",
      "ret True\n",
      "ret True\n",
      "ret True\n",
      "ret True\n",
      "ret True\n",
      "ret True\n",
      "ret True\n",
      "ret True\n",
      "ret True\n",
      "ret True\n",
      "ret True\n",
      "ret True\n",
      "ret True\n",
      "ret True\n",
      "ret True\n",
      "ret True\n",
      "ret True\n",
      "ret True\n",
      "ret True\n",
      "ret True\n",
      "ret True\n",
      "ret True\n",
      "ret True\n",
      "ret True\n",
      "ret True\n",
      "ret True\n",
      "ret True\n",
      "ret True\n",
      "ret True\n",
      "ret True\n",
      "ret True\n",
      "ret True\n",
      "ret True\n",
      "ret True\n",
      "ret True\n",
      "ret True\n",
      "ret True\n",
      "ret True\n",
      "ret True\n",
      "ret True\n",
      "ret True\n",
      "ret True\n",
      "ret True\n",
      "ret True\n",
      "ret True\n",
      "ret True\n",
      "ret True\n",
      "ret True\n",
      "ret True\n",
      "ret True\n",
      "ret True\n",
      "ret True\n",
      "ret True\n",
      "ret True\n",
      "ret True\n",
      "ret True\n",
      "ret True\n",
      "ret True\n",
      "ret True\n",
      "ret True\n",
      "ret True\n",
      "ret True\n",
      "ret True\n",
      "ret True\n",
      "ret True\n",
      "ret True\n",
      "ret True\n",
      "ret True\n",
      "ret True\n",
      "ret True\n",
      "ret True\n",
      "ret True\n",
      "ret True\n",
      "ret True\n",
      "ret True\n",
      "ret True\n",
      "ret True\n",
      "ret True\n",
      "ret True\n",
      "ret True\n",
      "ret True\n",
      "ret True\n",
      "ret True\n",
      "ret True\n",
      "ret True\n",
      "ret True\n",
      "ret True\n",
      "ret True\n",
      "ret True\n",
      "ret True\n",
      "ret True\n",
      "ret True\n",
      "ret True\n",
      "ret True\n",
      "ret True\n",
      "ret True\n",
      "ret True\n",
      "ret True\n",
      "ret True\n",
      "ret True\n",
      "ret True\n",
      "ret True\n",
      "ret True\n",
      "ret True\n",
      "ret True\n",
      "ret True\n",
      "ret True\n",
      "ret True\n",
      "ret True\n",
      "ret True\n",
      "ret True\n",
      "ret True\n",
      "ret True\n",
      "ret True\n",
      "ret True\n",
      "ret True\n",
      "ret True\n",
      "ret True\n",
      "ret True\n",
      "ret True\n",
      "ret True\n",
      "ret True\n",
      "ret True\n",
      "ret True\n",
      "ret True\n",
      "ret True\n",
      "ret True\n",
      "ret True\n",
      "ret True\n",
      "ret True\n",
      "ret True\n",
      "ret True\n",
      "ret True\n",
      "ret True\n",
      "ret True\n",
      "ret True\n",
      "ret True\n",
      "ret True\n",
      "ret True\n",
      "ret True\n",
      "ret True\n",
      "ret True\n",
      "ret True\n",
      "ret True\n",
      "ret True\n",
      "ret True\n",
      "ret True\n",
      "ret True\n",
      "ret True\n",
      "ret True\n",
      "ret True\n",
      "ret True\n",
      "ret True\n",
      "ret True\n",
      "ret True\n",
      "ret True\n",
      "ret True\n",
      "ret True\n",
      "ret True\n",
      "ret True\n",
      "ret True\n",
      "ret True\n",
      "ret True\n",
      "ret True\n",
      "ret True\n",
      "ret True\n",
      "ret True\n",
      "ret True\n",
      "ret True\n",
      "ret True\n",
      "ret True\n",
      "ret True\n",
      "ret True\n",
      "ret True\n",
      "ret True\n",
      "ret True\n",
      "ret True\n",
      "ret True\n",
      "ret True\n",
      "ret True\n",
      "ret True\n",
      "ret True\n",
      "ret True\n",
      "ret True\n",
      "ret True\n",
      "ret True\n",
      "ret True\n",
      "ret True\n",
      "ret True\n",
      "ret True\n",
      "ret True\n",
      "ret True\n",
      "ret True\n",
      "ret True\n",
      "ret True\n",
      "ret True\n",
      "ret True\n",
      "ret True\n",
      "ret True\n",
      "ret True\n",
      "ret True\n",
      "ret True\n",
      "ret True\n",
      "ret True\n",
      "ret True\n",
      "ret True\n",
      "ret True\n",
      "ret True\n",
      "ret True\n",
      "ret True\n",
      "ret True\n",
      "ret True\n",
      "ret True\n",
      "ret True\n",
      "ret True\n",
      "ret True\n",
      "ret True\n",
      "ret True\n",
      "ret True\n",
      "ret True\n",
      "ret True\n",
      "ret True\n",
      "ret True\n",
      "ret True\n",
      "ret True\n",
      "ret True\n",
      "ret True\n",
      "ret True\n",
      "ret True\n",
      "ret True\n",
      "ret True\n",
      "ret True\n",
      "ret True\n",
      "ret True\n",
      "ret True\n",
      "ret True\n",
      "ret True\n",
      "ret True\n",
      "ret True\n",
      "ret True\n",
      "ret True\n",
      "ret True\n",
      "ret True\n",
      "ret True\n",
      "ret True\n",
      "ret True\n",
      "ret True\n",
      "ret True\n",
      "ret True\n",
      "ret True\n",
      "ret True\n",
      "ret True\n",
      "ret True\n",
      "ret True\n",
      "ret True\n",
      "ret True\n",
      "ret True\n",
      "ret True\n",
      "ret True\n",
      "ret True\n",
      "ret True\n",
      "ret True\n",
      "ret True\n",
      "ret True\n",
      "ret True\n",
      "ret True\n",
      "ret True\n",
      "ret True\n",
      "ret True\n",
      "ret True\n",
      "ret True\n",
      "ret True\n",
      "ret True\n",
      "ret True\n",
      "ret True\n",
      "ret True\n",
      "ret True\n",
      "ret True\n",
      "ret True\n",
      "ret True\n",
      "ret True\n",
      "ret True\n",
      "ret True\n",
      "ret True\n",
      "ret True\n",
      "ret True\n",
      "ret True\n",
      "ret True\n",
      "ret True\n",
      "ret True\n",
      "ret True\n",
      "ret True\n",
      "ret True\n",
      "ret True\n",
      "ret True\n",
      "ret True\n",
      "ret True\n",
      "ret True\n",
      "ret True\n",
      "ret True\n",
      "ret True\n",
      "ret True\n",
      "ret True\n",
      "ret True\n",
      "ret True\n",
      "ret True\n",
      "ret True\n",
      "ret True\n",
      "ret True\n",
      "ret True\n",
      "ret True\n",
      "ret True\n",
      "ret True\n",
      "ret True\n",
      "ret True\n",
      "ret True\n",
      "ret True\n",
      "ret True\n",
      "ret True\n",
      "ret True\n",
      "ret True\n",
      "ret True\n",
      "ret True\n",
      "ret True\n",
      "ret True\n",
      "ret True\n",
      "ret True\n",
      "ret True\n",
      "ret True\n"
     ]
    },
    {
     "name": "stdout",
     "output_type": "stream",
     "text": [
      "ret True\n",
      "ret True\n",
      "ret True\n",
      "ret True\n",
      "ret True\n",
      "ret True\n",
      "ret True\n",
      "ret True\n",
      "ret True\n",
      "ret True\n",
      "ret True\n",
      "ret True\n",
      "ret True\n",
      "ret True\n",
      "ret True\n",
      "ret True\n",
      "ret True\n",
      "ret True\n",
      "ret True\n",
      "ret True\n",
      "ret True\n",
      "ret True\n",
      "ret True\n",
      "ret True\n",
      "ret True\n",
      "ret True\n",
      "ret True\n",
      "ret True\n",
      "ret True\n",
      "ret True\n",
      "ret True\n",
      "ret True\n",
      "ret True\n",
      "ret True\n",
      "ret True\n",
      "ret True\n",
      "ret True\n",
      "ret True\n",
      "ret True\n",
      "ret True\n",
      "ret True\n",
      "ret True\n",
      "ret True\n",
      "ret True\n",
      "ret True\n",
      "ret True\n",
      "ret True\n",
      "ret True\n",
      "ret True\n",
      "ret True\n",
      "ret True\n",
      "ret True\n",
      "ret True\n",
      "ret True\n",
      "ret True\n",
      "ret True\n",
      "ret True\n",
      "ret True\n",
      "ret True\n",
      "ret True\n",
      "ret True\n",
      "ret True\n",
      "ret True\n",
      "ret True\n",
      "ret True\n",
      "ret True\n",
      "ret True\n",
      "ret True\n",
      "ret True\n",
      "ret True\n",
      "ret True\n",
      "ret True\n",
      "ret True\n",
      "ret True\n",
      "ret True\n",
      "ret True\n",
      "ret True\n",
      "ret True\n",
      "ret True\n",
      "ret True\n",
      "ret True\n",
      "ret True\n",
      "ret True\n",
      "ret True\n",
      "ret True\n",
      "ret True\n",
      "ret True\n",
      "ret True\n",
      "ret True\n",
      "ret True\n",
      "ret True\n",
      "ret True\n",
      "ret True\n",
      "ret True\n",
      "ret True\n",
      "ret True\n",
      "ret True\n",
      "ret True\n",
      "ret True\n",
      "ret True\n",
      "ret True\n",
      "ret True\n",
      "ret True\n",
      "ret True\n",
      "ret True\n",
      "ret True\n",
      "ret True\n",
      "ret True\n",
      "ret True\n",
      "ret True\n",
      "ret True\n",
      "ret True\n",
      "ret True\n",
      "ret True\n",
      "ret True\n",
      "ret True\n",
      "ret True\n",
      "ret True\n",
      "ret True\n",
      "ret True\n",
      "ret True\n",
      "ret True\n",
      "ret True\n",
      "ret True\n",
      "ret True\n",
      "ret True\n",
      "ret True\n",
      "ret True\n",
      "ret True\n",
      "ret True\n",
      "ret True\n",
      "ret True\n",
      "ret True\n",
      "ret True\n",
      "ret True\n",
      "ret True\n",
      "ret True\n",
      "ret True\n",
      "ret True\n",
      "ret True\n",
      "ret True\n",
      "ret True\n",
      "ret True\n",
      "ret True\n",
      "ret True\n",
      "ret True\n",
      "ret True\n",
      "ret True\n",
      "ret True\n",
      "ret True\n",
      "ret True\n",
      "ret True\n",
      "ret True\n",
      "ret True\n",
      "ret True\n",
      "ret True\n",
      "ret True\n",
      "ret True\n",
      "ret True\n",
      "ret True\n",
      "ret True\n",
      "ret True\n",
      "ret True\n",
      "ret True\n",
      "ret True\n",
      "ret True\n",
      "ret True\n",
      "ret True\n",
      "ret True\n",
      "ret True\n",
      "ret True\n",
      "ret True\n",
      "ret True\n",
      "ret True\n",
      "ret True\n",
      "ret True\n",
      "ret True\n",
      "ret True\n",
      "ret True\n",
      "ret True\n",
      "ret True\n",
      "ret True\n",
      "ret True\n",
      "ret True\n",
      "ret True\n",
      "ret True\n",
      "ret True\n",
      "ret True\n",
      "ret True\n",
      "ret True\n",
      "ret True\n",
      "ret True\n",
      "ret True\n",
      "ret True\n",
      "ret True\n",
      "ret True\n",
      "ret True\n",
      "ret True\n",
      "ret True\n",
      "ret True\n",
      "ret True\n",
      "ret True\n",
      "ret True\n",
      "ret True\n",
      "ret True\n",
      "ret True\n",
      "ret True\n",
      "ret True\n",
      "ret True\n",
      "ret True\n",
      "ret True\n",
      "ret True\n",
      "ret True\n",
      "ret True\n",
      "ret True\n",
      "ret True\n",
      "ret True\n",
      "ret True\n",
      "ret True\n",
      "ret True\n",
      "ret True\n",
      "ret True\n",
      "ret True\n",
      "ret True\n",
      "ret True\n",
      "ret True\n",
      "ret True\n",
      "ret True\n",
      "ret True\n",
      "ret True\n",
      "ret True\n",
      "ret True\n",
      "ret True\n",
      "ret True\n",
      "ret True\n",
      "ret True\n",
      "ret True\n",
      "ret True\n",
      "ret True\n",
      "ret True\n",
      "ret True\n",
      "ret True\n",
      "ret True\n",
      "ret True\n",
      "ret True\n",
      "ret True\n",
      "ret True\n",
      "ret True\n",
      "ret True\n",
      "ret True\n",
      "ret True\n",
      "ret True\n",
      "ret True\n",
      "ret True\n",
      "ret True\n",
      "ret True\n",
      "ret True\n",
      "ret True\n",
      "ret True\n",
      "ret True\n",
      "ret True\n",
      "ret True\n",
      "ret True\n",
      "ret True\n",
      "ret True\n",
      "ret True\n",
      "ret True\n",
      "ret True\n",
      "ret True\n",
      "ret True\n",
      "ret True\n",
      "ret True\n",
      "ret True\n",
      "ret True\n",
      "ret True\n",
      "ret True\n",
      "ret True\n",
      "ret True\n",
      "ret True\n",
      "ret True\n",
      "ret True\n",
      "ret True\n",
      "ret True\n",
      "ret True\n",
      "ret True\n",
      "ret True\n",
      "ret True\n",
      "ret True\n",
      "ret True\n",
      "ret True\n",
      "ret True\n",
      "ret True\n",
      "ret True\n",
      "ret True\n",
      "ret True\n",
      "ret True\n",
      "ret True\n",
      "ret True\n",
      "ret True\n",
      "ret True\n",
      "ret True\n",
      "ret True\n",
      "ret True\n",
      "ret True\n",
      "ret True\n",
      "ret True\n",
      "ret True\n",
      "ret True\n",
      "ret True\n",
      "ret True\n",
      "ret True\n",
      "ret True\n",
      "ret True\n",
      "ret True\n",
      "ret True\n",
      "ret True\n",
      "ret True\n",
      "ret True\n",
      "ret True\n",
      "ret True\n",
      "ret True\n",
      "ret True\n",
      "ret True\n",
      "ret True\n",
      "ret True\n",
      "ret True\n",
      "ret True\n",
      "ret True\n",
      "ret True\n",
      "ret True\n",
      "ret True\n",
      "ret True\n",
      "ret True\n",
      "ret True\n",
      "ret True\n",
      "ret True\n",
      "ret True\n",
      "ret True\n",
      "ret True\n",
      "ret True\n",
      "ret True\n",
      "ret True\n",
      "ret True\n",
      "ret True\n",
      "ret True\n",
      "ret True\n",
      "ret True\n",
      "ret True\n",
      "ret True\n",
      "ret True\n",
      "ret True\n",
      "ret True\n",
      "ret True\n",
      "ret True\n",
      "ret True\n",
      "ret True\n",
      "ret True\n",
      "ret True\n",
      "ret True\n",
      "ret True\n",
      "ret True\n",
      "ret True\n",
      "ret True\n",
      "ret True\n",
      "ret True\n",
      "ret True\n",
      "ret True\n",
      "ret True\n",
      "ret True\n",
      "ret True\n",
      "ret True\n",
      "ret True\n",
      "ret True\n",
      "ret True\n",
      "ret True\n",
      "ret True\n",
      "ret True\n",
      "ret True\n",
      "ret True\n",
      "ret True\n",
      "ret True\n",
      "ret True\n",
      "ret True\n",
      "ret True\n",
      "ret True\n",
      "ret True\n",
      "ret True\n",
      "ret True\n",
      "ret True\n",
      "ret True\n",
      "ret True\n",
      "ret True\n",
      "ret True\n",
      "ret True\n",
      "ret True\n",
      "ret True\n",
      "ret True\n",
      "ret True\n",
      "ret True\n",
      "ret True\n",
      "ret True\n",
      "ret True\n",
      "ret True\n",
      "ret True\n",
      "ret True\n",
      "ret True\n",
      "ret True\n",
      "ret True\n",
      "ret True\n",
      "ret True\n",
      "ret True\n",
      "ret True\n",
      "ret True\n",
      "ret True\n",
      "ret True\n",
      "ret True\n",
      "ret True\n",
      "ret True\n",
      "ret True\n",
      "ret True\n",
      "ret True\n",
      "ret True\n",
      "ret True\n",
      "ret True\n",
      "ret True\n",
      "ret True\n",
      "ret True\n",
      "ret True\n",
      "ret True\n",
      "ret True\n",
      "ret True\n",
      "ret True\n",
      "ret True\n",
      "ret True\n",
      "ret True\n",
      "ret True\n",
      "ret True\n",
      "ret True\n",
      "ret True\n",
      "ret True\n",
      "ret True\n",
      "ret True\n",
      "ret True\n",
      "ret True\n",
      "ret True\n",
      "ret True\n",
      "ret True\n",
      "ret True\n",
      "ret True\n",
      "ret True\n",
      "ret True\n",
      "ret True\n",
      "ret True\n",
      "ret True\n",
      "ret True\n",
      "ret True\n",
      "ret True\n",
      "ret True\n",
      "ret True\n",
      "ret True\n",
      "ret True\n",
      "ret True\n",
      "ret True\n",
      "ret True\n",
      "ret True\n",
      "ret True\n",
      "ret True\n",
      "ret True\n",
      "ret True\n",
      "ret True\n",
      "ret True\n",
      "ret True\n",
      "ret True\n",
      "ret True\n",
      "ret True\n",
      "ret True\n",
      "ret True\n",
      "ret True\n",
      "ret True\n",
      "ret True\n",
      "ret True\n",
      "ret True\n",
      "ret True\n",
      "ret True\n",
      "ret True\n",
      "ret True\n",
      "ret True\n",
      "ret True\n",
      "ret True\n",
      "ret True\n",
      "ret True\n",
      "ret True\n",
      "ret True\n",
      "ret True\n",
      "ret True\n",
      "ret True\n",
      "ret True\n",
      "ret True\n",
      "ret True\n",
      "ret True\n",
      "ret True\n",
      "ret True\n",
      "ret True\n",
      "ret True\n",
      "ret True\n",
      "ret True\n",
      "ret True\n",
      "ret True\n",
      "ret True\n",
      "ret True\n",
      "ret True\n",
      "ret True\n",
      "ret True\n",
      "ret True\n",
      "ret True\n",
      "ret True\n",
      "ret True\n",
      "ret True\n",
      "ret True\n",
      "ret True\n",
      "ret True\n",
      "ret True\n",
      "ret True\n",
      "ret True\n",
      "ret True\n",
      "ret True\n",
      "ret True\n",
      "ret True\n",
      "ret True\n",
      "ret True\n",
      "ret True\n",
      "ret True\n",
      "ret True\n",
      "ret True\n",
      "ret True\n",
      "ret True\n",
      "ret True\n",
      "ret True\n",
      "ret True\n",
      "ret True\n",
      "ret True\n",
      "ret True\n",
      "ret True\n",
      "ret True\n",
      "ret True\n",
      "ret True\n",
      "ret True\n",
      "ret True\n",
      "ret True\n",
      "ret True\n",
      "ret True\n",
      "ret True\n",
      "ret True\n",
      "ret True\n",
      "ret True\n",
      "ret True\n",
      "ret True\n",
      "ret True\n",
      "ret True\n",
      "ret True\n",
      "ret True\n",
      "ret True\n",
      "ret True\n",
      "ret True\n",
      "ret True\n",
      "ret True\n",
      "ret True\n",
      "ret True\n",
      "ret True\n",
      "ret True\n",
      "ret True\n",
      "ret True\n",
      "ret True\n",
      "ret True\n",
      "ret True\n",
      "ret True\n",
      "ret True\n",
      "ret True\n",
      "ret True\n",
      "ret True\n",
      "ret True\n",
      "ret True\n",
      "ret True\n",
      "ret True\n",
      "ret True\n",
      "ret True\n",
      "ret True\n",
      "ret True\n",
      "ret True\n",
      "ret True\n",
      "ret True\n",
      "ret True\n",
      "ret True\n",
      "ret True\n",
      "ret True\n",
      "ret True\n",
      "ret True\n",
      "ret True\n",
      "ret True\n",
      "ret True\n",
      "ret True\n",
      "ret True\n",
      "ret True\n",
      "ret True\n",
      "ret True\n",
      "ret True\n",
      "ret True\n",
      "ret True\n",
      "ret True\n",
      "ret True\n",
      "ret True\n",
      "ret True\n",
      "ret True\n",
      "ret True\n",
      "ret True\n",
      "ret True\n",
      "ret True\n",
      "ret True\n",
      "ret True\n",
      "ret True\n",
      "ret True\n",
      "ret True\n",
      "ret True\n",
      "ret True\n",
      "ret True\n",
      "ret True\n",
      "ret True\n",
      "ret True\n",
      "ret True\n",
      "ret True\n",
      "ret True\n",
      "ret True\n",
      "ret True\n",
      "ret True\n",
      "ret True\n",
      "ret True\n",
      "ret True\n",
      "ret True\n",
      "ret True\n",
      "ret True\n",
      "ret True\n",
      "ret True\n",
      "ret True\n",
      "ret True\n",
      "ret True\n",
      "ret True\n",
      "ret True\n",
      "ret True\n",
      "ret True\n",
      "ret True\n",
      "ret True\n",
      "ret True\n",
      "ret True\n",
      "ret True\n",
      "ret True\n",
      "ret True\n",
      "ret True\n",
      "ret True\n",
      "ret True\n",
      "ret True\n",
      "ret True\n",
      "ret True\n",
      "ret True\n",
      "ret True\n",
      "ret True\n",
      "ret True\n",
      "ret True\n",
      "ret True\n",
      "ret True\n",
      "ret True\n",
      "ret True\n",
      "ret True\n",
      "ret True\n",
      "ret True\n",
      "ret True\n",
      "ret True\n",
      "ret True\n",
      "ret True\n",
      "ret True\n",
      "ret True\n",
      "ret True\n",
      "ret True\n",
      "ret True\n",
      "ret True\n",
      "ret True\n",
      "ret True\n",
      "ret True\n",
      "ret True\n",
      "ret True\n",
      "ret True\n",
      "ret True\n",
      "ret True\n",
      "ret True\n",
      "ret True\n",
      "ret True\n",
      "ret True\n",
      "ret True\n",
      "ret True\n",
      "ret True\n",
      "ret True\n",
      "ret True\n",
      "ret True\n",
      "ret True\n",
      "ret True\n",
      "ret True\n",
      "ret True\n",
      "ret True\n",
      "ret True\n",
      "ret True\n",
      "ret True\n",
      "ret True\n",
      "ret True\n",
      "ret True\n",
      "ret True\n",
      "ret True\n",
      "ret True\n",
      "ret True\n",
      "ret True\n",
      "ret True\n",
      "ret True\n",
      "ret True\n",
      "ret True\n",
      "ret True\n",
      "ret True\n",
      "ret True\n",
      "ret True\n",
      "ret True\n",
      "ret True\n",
      "ret True\n",
      "ret True\n",
      "ret True\n",
      "ret True\n",
      "ret True\n",
      "ret True\n",
      "ret True\n",
      "ret True\n",
      "ret True\n",
      "ret True\n",
      "ret True\n",
      "ret True\n",
      "ret True\n",
      "ret True\n",
      "ret True\n",
      "ret True\n",
      "ret True\n",
      "ret True\n",
      "ret True\n",
      "ret True\n",
      "ret True\n",
      "ret True\n",
      "ret True\n",
      "ret True\n",
      "ret True\n",
      "ret True\n",
      "ret True\n",
      "ret True\n",
      "ret True\n",
      "ret True\n",
      "ret True\n",
      "ret True\n",
      "ret True\n",
      "ret True\n",
      "ret True\n",
      "ret True\n",
      "ret True\n",
      "ret True\n",
      "ret True\n",
      "ret True\n",
      "ret True\n",
      "ret True\n",
      "ret True\n",
      "ret True\n",
      "ret True\n",
      "ret True\n",
      "ret True\n",
      "ret True\n",
      "ret True\n",
      "ret True\n",
      "ret True\n",
      "ret True\n",
      "ret True\n",
      "ret True\n",
      "ret True\n",
      "ret True\n",
      "ret True\n",
      "ret True\n",
      "ret True\n",
      "ret True\n",
      "ret True\n",
      "ret True\n",
      "ret True\n",
      "ret True\n",
      "ret True\n",
      "ret True\n",
      "ret True\n",
      "ret True\n",
      "ret True\n",
      "ret True\n",
      "ret True\n",
      "ret True\n",
      "ret True\n",
      "ret True\n",
      "ret True\n",
      "ret True\n",
      "ret True\n",
      "ret True\n",
      "ret True\n",
      "ret True\n",
      "ret True\n",
      "ret True\n",
      "ret True\n",
      "ret True\n",
      "ret True\n",
      "ret True\n",
      "ret True\n",
      "ret True\n",
      "ret True\n",
      "ret True\n",
      "ret True\n",
      "ret True\n",
      "ret True\n",
      "ret True\n",
      "ret True\n",
      "ret True\n",
      "ret True\n",
      "ret True\n",
      "ret True\n",
      "ret True\n",
      "ret True\n",
      "ret True\n",
      "ret True\n",
      "ret True\n",
      "ret True\n",
      "ret True\n",
      "ret True\n",
      "ret True\n",
      "ret True\n",
      "ret True\n",
      "ret True\n",
      "ret True\n",
      "ret True\n",
      "ret True\n",
      "ret True\n",
      "ret True\n",
      "ret True\n",
      "ret True\n",
      "ret True\n",
      "ret True\n",
      "ret True\n",
      "ret True\n",
      "ret True\n",
      "ret True\n",
      "ret True\n",
      "ret True\n",
      "ret True\n",
      "ret True\n",
      "ret True\n",
      "ret True\n",
      "ret True\n",
      "ret True\n",
      "ret True\n",
      "ret True\n",
      "ret True\n",
      "ret True\n",
      "ret True\n",
      "ret True\n",
      "ret True\n",
      "ret True\n",
      "ret True\n",
      "ret True\n",
      "ret True\n",
      "ret True\n",
      "ret True\n",
      "ret True\n",
      "ret True\n",
      "ret True\n",
      "ret True\n",
      "ret True\n",
      "ret True\n",
      "ret True\n",
      "ret True\n",
      "ret True\n",
      "ret True\n",
      "ret True\n",
      "ret True\n",
      "ret True\n",
      "ret True\n",
      "ret True\n",
      "ret True\n",
      "ret True\n",
      "ret True\n",
      "ret True\n",
      "ret True\n",
      "ret True\n",
      "ret True\n",
      "ret True\n",
      "ret True\n",
      "ret True\n",
      "ret True\n",
      "ret True\n",
      "ret True\n",
      "ret True\n",
      "ret True\n",
      "ret True\n",
      "ret True\n",
      "ret True\n",
      "ret True\n",
      "ret True\n",
      "ret True\n",
      "ret True\n",
      "ret True\n",
      "ret True\n",
      "ret True\n",
      "ret True\n"
     ]
    },
    {
     "name": "stdout",
     "output_type": "stream",
     "text": [
      "ret True\n",
      "ret True\n",
      "ret True\n",
      "ret True\n",
      "ret True\n",
      "ret True\n",
      "ret True\n",
      "ret True\n",
      "ret True\n",
      "ret True\n",
      "ret True\n",
      "ret True\n",
      "ret True\n",
      "ret True\n",
      "ret True\n",
      "ret True\n",
      "ret True\n",
      "ret True\n",
      "ret True\n",
      "ret True\n",
      "ret True\n",
      "ret True\n",
      "ret True\n",
      "ret True\n",
      "ret True\n",
      "ret True\n",
      "ret True\n",
      "ret True\n",
      "ret True\n",
      "ret True\n",
      "ret True\n",
      "ret True\n",
      "ret True\n",
      "ret True\n",
      "ret True\n",
      "ret True\n",
      "ret True\n",
      "ret True\n",
      "ret True\n",
      "ret True\n",
      "ret True\n",
      "ret True\n",
      "ret True\n",
      "ret True\n",
      "ret True\n",
      "ret True\n",
      "ret True\n",
      "ret True\n",
      "ret True\n",
      "ret True\n",
      "ret True\n",
      "ret True\n",
      "ret True\n",
      "ret True\n",
      "ret True\n",
      "ret True\n",
      "ret True\n",
      "ret True\n",
      "ret True\n",
      "ret True\n",
      "ret True\n",
      "ret True\n",
      "ret True\n",
      "ret True\n",
      "ret True\n",
      "ret True\n",
      "ret True\n",
      "ret True\n",
      "ret True\n",
      "ret True\n",
      "ret True\n",
      "ret True\n",
      "ret True\n",
      "ret True\n",
      "ret True\n",
      "ret True\n",
      "ret True\n",
      "ret True\n",
      "ret True\n",
      "ret True\n",
      "ret True\n",
      "ret True\n",
      "ret True\n",
      "ret True\n",
      "ret True\n",
      "ret True\n",
      "ret True\n",
      "ret True\n",
      "ret True\n",
      "ret True\n",
      "ret True\n",
      "ret True\n",
      "ret True\n",
      "ret True\n",
      "ret True\n",
      "ret True\n",
      "ret True\n",
      "ret True\n",
      "ret True\n",
      "ret True\n",
      "ret True\n",
      "ret True\n",
      "ret True\n",
      "ret True\n",
      "ret True\n",
      "ret True\n",
      "ret True\n",
      "ret True\n",
      "ret True\n",
      "ret True\n",
      "ret True\n",
      "ret True\n",
      "ret True\n",
      "ret True\n",
      "ret True\n",
      "ret True\n",
      "ret True\n",
      "ret True\n",
      "ret True\n",
      "ret True\n",
      "ret True\n",
      "ret True\n",
      "ret True\n",
      "ret True\n",
      "ret True\n",
      "ret True\n",
      "ret True\n",
      "ret True\n",
      "ret True\n",
      "ret True\n",
      "ret True\n",
      "ret True\n",
      "ret True\n",
      "ret True\n",
      "ret True\n",
      "ret True\n",
      "ret True\n",
      "ret True\n",
      "ret True\n",
      "ret True\n",
      "ret True\n",
      "ret True\n",
      "ret True\n",
      "ret True\n",
      "ret True\n",
      "ret True\n",
      "ret True\n",
      "ret True\n",
      "ret True\n",
      "ret True\n",
      "ret True\n",
      "ret True\n",
      "ret True\n",
      "ret True\n",
      "ret True\n",
      "ret True\n",
      "ret True\n",
      "ret True\n",
      "ret True\n",
      "ret True\n",
      "ret True\n",
      "ret True\n",
      "ret True\n",
      "ret True\n",
      "ret True\n",
      "ret True\n",
      "ret True\n",
      "ret True\n",
      "ret True\n",
      "ret True\n",
      "ret True\n",
      "ret True\n",
      "ret True\n",
      "ret True\n",
      "ret True\n",
      "ret True\n",
      "ret True\n",
      "ret True\n",
      "ret True\n",
      "ret True\n",
      "ret True\n",
      "ret True\n",
      "ret True\n",
      "ret True\n",
      "ret True\n",
      "ret True\n",
      "ret True\n",
      "ret True\n",
      "ret True\n",
      "ret True\n",
      "ret True\n",
      "ret True\n",
      "ret True\n",
      "ret True\n",
      "ret True\n",
      "ret True\n",
      "ret True\n",
      "ret True\n",
      "ret True\n",
      "ret True\n",
      "ret True\n",
      "ret True\n",
      "ret True\n",
      "ret True\n",
      "ret True\n",
      "ret True\n",
      "ret True\n",
      "ret True\n",
      "ret True\n",
      "ret True\n",
      "ret True\n",
      "ret True\n",
      "ret True\n",
      "ret True\n",
      "ret True\n",
      "ret True\n",
      "ret True\n",
      "ret True\n",
      "ret True\n",
      "ret True\n",
      "ret True\n",
      "ret True\n",
      "ret True\n",
      "ret True\n",
      "ret True\n",
      "ret True\n",
      "ret True\n",
      "ret True\n",
      "ret True\n",
      "ret True\n",
      "ret True\n",
      "ret True\n",
      "ret True\n",
      "ret True\n",
      "ret True\n",
      "ret True\n",
      "ret True\n",
      "ret True\n",
      "ret True\n",
      "ret True\n",
      "ret True\n",
      "ret True\n",
      "ret True\n",
      "ret True\n",
      "ret True\n",
      "ret True\n",
      "ret True\n",
      "ret True\n",
      "ret True\n",
      "ret True\n",
      "ret True\n",
      "ret True\n",
      "ret True\n",
      "ret True\n",
      "ret True\n",
      "ret True\n",
      "ret True\n",
      "ret True\n",
      "ret True\n",
      "ret True\n",
      "ret True\n",
      "ret True\n",
      "ret True\n",
      "ret True\n",
      "ret True\n",
      "ret True\n",
      "ret True\n",
      "ret True\n",
      "ret True\n",
      "ret True\n",
      "ret True\n",
      "ret True\n",
      "ret True\n",
      "ret True\n",
      "ret True\n",
      "ret True\n",
      "ret True\n",
      "ret True\n",
      "ret True\n",
      "ret True\n",
      "ret True\n",
      "ret True\n",
      "ret True\n",
      "ret True\n",
      "ret True\n",
      "ret True\n",
      "ret True\n",
      "ret True\n",
      "ret True\n",
      "ret True\n",
      "ret True\n",
      "ret True\n",
      "ret True\n",
      "ret True\n",
      "ret True\n",
      "ret True\n",
      "ret True\n",
      "ret True\n",
      "ret True\n",
      "ret True\n",
      "ret True\n",
      "ret True\n",
      "ret True\n",
      "ret True\n",
      "ret True\n",
      "ret True\n",
      "ret True\n",
      "ret True\n",
      "ret True\n",
      "ret True\n",
      "ret True\n",
      "ret True\n",
      "ret True\n",
      "ret True\n",
      "ret True\n",
      "ret True\n",
      "ret True\n",
      "ret True\n",
      "ret True\n",
      "ret True\n",
      "ret True\n",
      "ret True\n",
      "ret True\n",
      "ret True\n",
      "ret True\n",
      "ret True\n",
      "ret True\n",
      "ret True\n",
      "ret True\n",
      "ret True\n",
      "ret True\n",
      "ret True\n",
      "ret True\n",
      "ret True\n",
      "ret True\n",
      "ret True\n",
      "ret True\n",
      "ret True\n",
      "ret True\n",
      "ret True\n",
      "ret True\n",
      "ret True\n",
      "ret True\n",
      "ret True\n",
      "ret True\n",
      "ret True\n",
      "ret True\n",
      "ret True\n",
      "ret True\n",
      "ret True\n",
      "ret True\n",
      "ret True\n",
      "ret True\n",
      "ret True\n",
      "ret True\n",
      "ret True\n",
      "ret True\n",
      "ret True\n",
      "ret True\n",
      "ret True\n",
      "ret True\n",
      "ret True\n",
      "ret True\n",
      "ret True\n",
      "ret True\n",
      "ret True\n",
      "ret True\n",
      "ret True\n",
      "ret True\n",
      "ret True\n",
      "ret True\n",
      "ret True\n",
      "ret True\n",
      "ret True\n",
      "ret True\n",
      "ret True\n",
      "ret True\n",
      "ret True\n",
      "ret True\n",
      "ret True\n",
      "ret True\n",
      "ret True\n",
      "ret True\n",
      "ret True\n",
      "ret True\n",
      "ret True\n",
      "ret True\n",
      "ret True\n",
      "ret True\n",
      "ret True\n",
      "ret True\n",
      "ret True\n",
      "ret True\n",
      "ret True\n",
      "ret True\n",
      "ret True\n",
      "ret True\n",
      "ret True\n",
      "ret True\n",
      "ret True\n",
      "ret True\n",
      "ret True\n",
      "ret True\n",
      "ret True\n",
      "ret True\n",
      "ret True\n",
      "ret True\n",
      "ret True\n",
      "ret True\n",
      "ret True\n",
      "ret True\n",
      "ret True\n",
      "ret True\n",
      "ret True\n",
      "ret True\n",
      "ret True\n",
      "ret True\n",
      "ret True\n",
      "ret True\n",
      "ret True\n",
      "ret True\n",
      "ret True\n",
      "ret True\n",
      "ret True\n",
      "ret True\n",
      "ret True\n",
      "ret True\n",
      "ret True\n",
      "ret True\n",
      "ret True\n",
      "ret True\n",
      "ret True\n",
      "ret True\n",
      "ret True\n",
      "ret True\n",
      "ret True\n",
      "ret True\n",
      "ret True\n",
      "ret True\n",
      "ret True\n",
      "ret True\n",
      "ret True\n",
      "ret True\n",
      "ret True\n",
      "ret True\n",
      "ret True\n",
      "ret True\n",
      "ret True\n",
      "ret True\n",
      "ret True\n",
      "ret True\n",
      "ret True\n",
      "ret True\n",
      "ret True\n",
      "ret True\n",
      "ret True\n",
      "ret True\n",
      "ret True\n",
      "ret True\n",
      "ret True\n",
      "ret True\n",
      "ret True\n",
      "ret True\n",
      "ret True\n",
      "ret True\n",
      "ret True\n",
      "ret True\n",
      "ret True\n",
      "ret True\n",
      "ret True\n",
      "ret True\n",
      "ret True\n",
      "ret True\n",
      "ret True\n",
      "ret True\n",
      "ret True\n",
      "ret True\n",
      "ret True\n",
      "ret True\n",
      "ret True\n",
      "ret True\n",
      "ret True\n",
      "ret True\n",
      "ret True\n",
      "ret True\n",
      "ret True\n",
      "ret True\n",
      "ret True\n",
      "ret True\n",
      "ret True\n",
      "ret True\n",
      "ret True\n",
      "ret True\n",
      "ret True\n",
      "ret True\n",
      "ret True\n",
      "ret True\n",
      "ret True\n",
      "ret True\n",
      "ret True\n",
      "ret True\n",
      "ret True\n",
      "ret True\n",
      "ret True\n",
      "ret True\n",
      "ret True\n",
      "ret True\n",
      "ret True\n"
     ]
    }
   ],
   "source": [
    "cap = cv2.VideoCapture(0)\n",
    "time.sleep(2)\n",
    "while True:\n",
    "    ret, frame = cap.read()\n",
    "    print(\"ret\", ret)\n",
    "    \n",
    "    if ret == False:\n",
    "        break\n",
    "    z = np.zeros(shape =  frame.shape[:2], dtype = np.uint8)\n",
    "    (b, g, r) = cv2.split(frame)\n",
    "\n",
    "    cv2.imshow(\"frame\", frame)\n",
    "    cv2.imshow(\"Blue\", cv2.merge([b,z,z]))\n",
    "    cv2.imshow(\"Green\", cv2.merge([z,g,z]))\n",
    "    cv2.imshow(\"Red\", cv2.merge([z,z,r]))\n",
    "    cv2.imshow(\"grey\", b)\n",
    "    if cv2.waitKey(1) & 0xFF == ord('q'):\n",
    "        break\n",
    "    \n",
    "cap.release()\n",
    "cv2.destroyAllWindows()"
   ]
  },
  {
   "cell_type": "code",
   "execution_count": 11,
   "metadata": {
    "ExecuteTime": {
     "end_time": "2022-05-22T22:51:05.364677Z",
     "start_time": "2022-05-22T22:51:04.550032Z"
    }
   },
   "outputs": [],
   "source": [
    "cap.release()\n",
    "cv2.destroyAllWindows()"
   ]
  },
  {
   "cell_type": "code",
   "execution_count": null,
   "metadata": {},
   "outputs": [],
   "source": []
  }
 ],
 "metadata": {
  "kernelspec": {
   "display_name": "Python 3",
   "language": "python",
   "name": "python3"
  },
  "language_info": {
   "codemirror_mode": {
    "name": "ipython",
    "version": 3
   },
   "file_extension": ".py",
   "mimetype": "text/x-python",
   "name": "python",
   "nbconvert_exporter": "python",
   "pygments_lexer": "ipython3",
   "version": "3.7.6"
  }
 },
 "nbformat": 4,
 "nbformat_minor": 4
}
