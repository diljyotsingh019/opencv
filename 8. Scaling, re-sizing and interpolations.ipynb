{
 "cells": [
  {
   "cell_type": "markdown",
   "metadata": {},
   "source": [
    "## Scaling, re-sizing and interpolations\n",
    "\n",
    "Re-sizing is very easy using the cv2.resize function, it's arguments are:\n",
    "\n",
    "cv2.resize(image, dsize(output image size), x scale, y scale, interpolation)\n"
   ]
  },
  {
   "cell_type": "code",
   "execution_count": null,
   "metadata": {},
   "outputs": [],
   "source": [
    "4000 * 4000 * 3 * 100000"
   ]
  },
  {
   "cell_type": "code",
   "execution_count": null,
   "metadata": {},
   "outputs": [],
   "source": [
    "32 * 32 * 3 * 100000"
   ]
  },
  {
   "cell_type": "code",
   "execution_count": 1,
   "metadata": {
    "ExecuteTime": {
     "end_time": "2022-05-22T16:03:29.558234Z",
     "start_time": "2022-05-22T16:03:29.304704Z"
    }
   },
   "outputs": [],
   "source": [
    "import cv2\n",
    "import numpy as np\n",
    "\n",
    "# load our input image\n",
    "image = cv2.imread('DATA/cat.jpeg')"
   ]
  },
  {
   "cell_type": "code",
   "execution_count": 2,
   "metadata": {
    "ExecuteTime": {
     "end_time": "2022-05-22T16:03:30.101424Z",
     "start_time": "2022-05-22T16:03:30.081444Z"
    }
   },
   "outputs": [
    {
     "data": {
      "text/plain": [
       "(350, 528, 3)"
      ]
     },
     "execution_count": 2,
     "metadata": {},
     "output_type": "execute_result"
    }
   ],
   "source": [
    "image.shape"
   ]
  },
  {
   "cell_type": "code",
   "execution_count": 5,
   "metadata": {
    "ExecuteTime": {
     "end_time": "2022-05-22T16:03:54.228465Z",
     "start_time": "2022-05-22T16:03:54.223486Z"
    }
   },
   "outputs": [],
   "source": [
    "# Let's make our image 1/2 of it's original size\n",
    "image_scaled = cv2.resize(image, None, fx=0.50, fy=0.50)"
   ]
  },
  {
   "cell_type": "code",
   "execution_count": 6,
   "metadata": {
    "ExecuteTime": {
     "end_time": "2022-05-22T16:04:02.135823Z",
     "start_time": "2022-05-22T16:04:02.128839Z"
    }
   },
   "outputs": [
    {
     "data": {
      "text/plain": [
       "(175, 264, 3)"
      ]
     },
     "execution_count": 6,
     "metadata": {},
     "output_type": "execute_result"
    }
   ],
   "source": [
    "image_scaled.shape"
   ]
  },
  {
   "cell_type": "code",
   "execution_count": 7,
   "metadata": {
    "ExecuteTime": {
     "end_time": "2022-05-22T16:04:28.473046Z",
     "start_time": "2022-05-22T16:04:04.240796Z"
    }
   },
   "outputs": [],
   "source": [
    "cv2.imshow('Scaling - Linear Interpolation', image_scaled) \n",
    "cv2.waitKey()\n",
    "cv2.destroyAllWindows()"
   ]
  },
  {
   "cell_type": "markdown",
   "metadata": {},
   "source": [
    "- interpolation method is the algorithm working bhehind the scens to handle how the actual image is resized"
   ]
  },
  {
   "cell_type": "code",
   "execution_count": 8,
   "metadata": {
    "ExecuteTime": {
     "end_time": "2022-05-22T16:04:43.568286Z",
     "start_time": "2022-05-22T16:04:43.544342Z"
    }
   },
   "outputs": [],
   "source": [
    "# Let's double the size of our image\n",
    "img_scaled = cv2.resize(image, None, fx=2, fy=2, interpolation = cv2.INTER_CUBIC)"
   ]
  },
  {
   "cell_type": "code",
   "execution_count": 9,
   "metadata": {
    "ExecuteTime": {
     "end_time": "2022-05-22T16:04:44.573282Z",
     "start_time": "2022-05-22T16:04:44.560295Z"
    }
   },
   "outputs": [
    {
     "data": {
      "text/plain": [
       "(700, 1056, 3)"
      ]
     },
     "execution_count": 9,
     "metadata": {},
     "output_type": "execute_result"
    }
   ],
   "source": [
    "img_scaled.shape"
   ]
  },
  {
   "cell_type": "code",
   "execution_count": 10,
   "metadata": {
    "ExecuteTime": {
     "end_time": "2022-05-22T16:04:49.484949Z",
     "start_time": "2022-05-22T16:04:45.744412Z"
    }
   },
   "outputs": [],
   "source": [
    "cv2.imshow('Scaling - Cubic Interpolation', img_scaled)\n",
    "cv2.waitKey()\n",
    "cv2.destroyAllWindows()"
   ]
  },
  {
   "cell_type": "code",
   "execution_count": 11,
   "metadata": {
    "ExecuteTime": {
     "end_time": "2022-05-22T16:05:52.783277Z",
     "start_time": "2022-05-22T16:05:41.258487Z"
    }
   },
   "outputs": [],
   "source": [
    "# Let's skew the re-sizing by setting exact dimensions\n",
    "img_scaled = cv2.resize(image, (95, 400), interpolation = cv2.INTER_AREA)\n",
    "cv2.imshow('Scaling - Skewed Size', img_scaled) \n",
    "cv2.waitKey()\n",
    "cv2.destroyAllWindows()"
   ]
  },
  {
   "cell_type": "markdown",
   "metadata": {
    "collapsed": true
   },
   "source": [
    "- Resizing is the changing of size of image. we need to take care of aspect ratio too.\n",
    "- The aspect ration is the proportional relationship of the width and the height of the image"
   ]
  },
  {
   "cell_type": "markdown",
   "metadata": {
    "collapsed": true
   },
   "source": [
    "we define our ratio r to be the new width(150 pixels) divided by the old width.\n",
    "compute the new dimensions of the image, width of the nnew image will be 150 pixels. the height is computed by multiplying the old height by our ratio and converting it to and integer\n",
    "\n"
   ]
  },
  {
   "cell_type": "code",
   "execution_count": 12,
   "metadata": {
    "ExecuteTime": {
     "end_time": "2022-05-22T16:06:25.472542Z",
     "start_time": "2022-05-22T16:06:25.464563Z"
    }
   },
   "outputs": [
    {
     "data": {
      "text/plain": [
       "(350, 528, 3)"
      ]
     },
     "execution_count": 12,
     "metadata": {},
     "output_type": "execute_result"
    }
   ],
   "source": [
    "image.shape"
   ]
  },
  {
   "cell_type": "code",
   "execution_count": 13,
   "metadata": {
    "ExecuteTime": {
     "end_time": "2022-05-22T16:06:52.163037Z",
     "start_time": "2022-05-22T16:06:52.153064Z"
    }
   },
   "outputs": [],
   "source": [
    "r = 150 / image.shape[1] # 150/1245 = 0.12\n",
    "dim = (150, int(image.shape[0] * r )) # 830 * 0.12 = 99.6"
   ]
  },
  {
   "cell_type": "code",
   "execution_count": 14,
   "metadata": {
    "ExecuteTime": {
     "end_time": "2022-05-22T16:06:52.988018Z",
     "start_time": "2022-05-22T16:06:52.977023Z"
    }
   },
   "outputs": [
    {
     "data": {
      "text/plain": [
       "(350, 528, 3)"
      ]
     },
     "execution_count": 14,
     "metadata": {},
     "output_type": "execute_result"
    }
   ],
   "source": [
    "image.shape # old dimention"
   ]
  },
  {
   "cell_type": "code",
   "execution_count": 15,
   "metadata": {
    "ExecuteTime": {
     "end_time": "2022-05-22T16:06:53.375235Z",
     "start_time": "2022-05-22T16:06:53.367251Z"
    }
   },
   "outputs": [
    {
     "data": {
      "text/plain": [
       "(150, 99)"
      ]
     },
     "execution_count": 15,
     "metadata": {},
     "output_type": "execute_result"
    }
   ],
   "source": [
    "dim # new scale dimention"
   ]
  },
  {
   "cell_type": "code",
   "execution_count": 18,
   "metadata": {
    "ExecuteTime": {
     "end_time": "2022-05-22T16:07:29.971963Z",
     "start_time": "2022-05-22T16:07:29.952016Z"
    }
   },
   "outputs": [],
   "source": [
    "image = cv2.imread('DATA/cat.jpeg')"
   ]
  },
  {
   "cell_type": "code",
   "execution_count": 19,
   "metadata": {
    "ExecuteTime": {
     "end_time": "2022-05-22T16:07:36.146837Z",
     "start_time": "2022-05-22T16:07:32.016282Z"
    }
   },
   "outputs": [],
   "source": [
    "res = cv2.resize(image, dim, interpolation = cv2.INTER_AREA)\n",
    "cv2.imshow('scaled', res) \n",
    "cv2.waitKey()\n",
    "cv2.destroyAllWindows()"
   ]
  },
  {
   "cell_type": "markdown",
   "metadata": {},
   "source": [
    "### Create Funtions"
   ]
  },
  {
   "cell_type": "code",
   "execution_count": 21,
   "metadata": {
    "ExecuteTime": {
     "end_time": "2022-05-22T16:08:05.184188Z",
     "start_time": "2022-05-22T16:08:05.168215Z"
    }
   },
   "outputs": [],
   "source": [
    "def resize(img, width = None, height = None , inter = cv2.INTER_AREA):\n",
    "    \n",
    "    dim = None\n",
    "    \n",
    "    (h,w) = img.shape[:2]\n",
    "    \n",
    "    if width is None and height is None:\n",
    "        return img\n",
    "    \n",
    "    # cal new dim based on height given\n",
    "    elif width is None:\n",
    "        r = height/float(h)\n",
    "        dim = (int(w*r), height)\n",
    "        \n",
    "    # calculate new dim based on width given\n",
    "    elif height is None:\n",
    "        r = width/float(w)\n",
    "        dim = (width, int(h*r))\n",
    "        \n",
    "    res = cv2.resize(img, dim , interpolation= inter)\n",
    "    \n",
    "    return res"
   ]
  },
  {
   "cell_type": "code",
   "execution_count": 24,
   "metadata": {
    "ExecuteTime": {
     "end_time": "2022-05-22T16:08:26.677286Z",
     "start_time": "2022-05-22T16:08:26.656342Z"
    }
   },
   "outputs": [],
   "source": [
    "image = cv2.imread('DATA/cat.jpeg')"
   ]
  },
  {
   "cell_type": "code",
   "execution_count": 25,
   "metadata": {
    "ExecuteTime": {
     "end_time": "2022-05-22T16:08:31.846673Z",
     "start_time": "2022-05-22T16:08:27.167866Z"
    }
   },
   "outputs": [
    {
     "name": "stdout",
     "output_type": "stream",
     "text": [
      "width given : h - 66, w - 100 \n"
     ]
    }
   ],
   "source": [
    "resized = resize(image, width = 100)\n",
    "cv2.imshow(\" width resized \", resized)\n",
    "cv2.waitKey(0)\n",
    "cv2.destroyAllWindows()\n",
    "\n",
    "print(\"width given : h - {}, w - {} \".format(resized.shape[0],resized.shape[1]))"
   ]
  },
  {
   "cell_type": "code",
   "execution_count": 26,
   "metadata": {
    "ExecuteTime": {
     "end_time": "2022-05-22T16:08:38.316723Z",
     "start_time": "2022-05-22T16:08:35.882283Z"
    }
   },
   "outputs": [
    {
     "name": "stdout",
     "output_type": "stream",
     "text": [
      "height given : h - 400, w - 603 \n"
     ]
    }
   ],
   "source": [
    "resized = resize(image, height = 400)\n",
    "cv2.imshow(\" height resized \", resized)\n",
    "cv2.waitKey(0)\n",
    "cv2.destroyAllWindows()\n",
    "\n",
    "print(\"height given : h - {}, w - {} \".format(resized.shape[0],resized.shape[1]))"
   ]
  },
  {
   "cell_type": "code",
   "execution_count": null,
   "metadata": {},
   "outputs": [],
   "source": []
  }
 ],
 "metadata": {
  "kernelspec": {
   "display_name": "Python 3",
   "language": "python",
   "name": "python3"
  },
  "language_info": {
   "codemirror_mode": {
    "name": "ipython",
    "version": 3
   },
   "file_extension": ".py",
   "mimetype": "text/x-python",
   "name": "python",
   "nbconvert_exporter": "python",
   "pygments_lexer": "ipython3",
   "version": "3.7.6"
  }
 },
 "nbformat": 4,
 "nbformat_minor": 1
}
