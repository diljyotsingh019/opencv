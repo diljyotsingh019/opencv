{
 "cells": [
  {
   "cell_type": "code",
   "execution_count": 1,
   "id": "daa30926",
   "metadata": {
    "ExecuteTime": {
     "end_time": "2024-01-14T13:21:14.765933Z",
     "start_time": "2024-01-14T13:21:14.354222Z"
    }
   },
   "outputs": [],
   "source": [
    "import cv2"
   ]
  },
  {
   "cell_type": "code",
   "execution_count": 2,
   "id": "133df971",
   "metadata": {
    "ExecuteTime": {
     "end_time": "2024-01-14T13:45:17.169528Z",
     "start_time": "2024-01-14T13:21:15.029617Z"
    }
   },
   "outputs": [],
   "source": [
    "cap = cv2.VideoCapture(\"http://192.168.1.4:8080/video\")\n",
    "while True:\n",
    "    ret, frame = cap.read()\n",
    "    if ret == False:\n",
    "        break\n",
    "    \n",
    "    cv2.imshow(\"Face\", frame)\n",
    "    \n",
    "    if cv2.waitKey(1) & 0xFF == ord(\"q\"):\n",
    "        break\n",
    "\n",
    "cap.release()\n",
    "cv2.destroyAllWindows()"
   ]
  },
  {
   "cell_type": "code",
   "execution_count": null,
   "id": "17cd68e1",
   "metadata": {
    "ExecuteTime": {
     "start_time": "2024-01-14T13:21:53.867Z"
    }
   },
   "outputs": [],
   "source": [
    "cap.release()\n",
    "cv2.destroyAllWindows()"
   ]
  },
  {
   "cell_type": "code",
   "execution_count": null,
   "id": "605f0a9f",
   "metadata": {},
   "outputs": [],
   "source": []
  }
 ],
 "metadata": {
  "kernelspec": {
   "display_name": "Python [conda env:object_detection]",
   "language": "python",
   "name": "conda-env-object_detection-py"
  },
  "language_info": {
   "codemirror_mode": {
    "name": "ipython",
    "version": 3
   },
   "file_extension": ".py",
   "mimetype": "text/x-python",
   "name": "python",
   "nbconvert_exporter": "python",
   "pygments_lexer": "ipython3",
   "version": "3.8.18"
  }
 },
 "nbformat": 4,
 "nbformat_minor": 5
}
