{
 "cells": [
  {
   "cell_type": "markdown",
   "metadata": {},
   "source": [
    "## Rotations\n",
    "\n",
    "cv2.getRotationMatrix2D(rotation_center_x, rotation_center_y, angle of rotation, scale)\n"
   ]
  },
  {
   "cell_type": "code",
   "execution_count": 1,
   "metadata": {
    "ExecuteTime": {
     "end_time": "2022-05-22T15:32:26.688512Z",
     "start_time": "2022-05-22T15:32:26.512419Z"
    }
   },
   "outputs": [],
   "source": [
    "import cv2\n",
    "import numpy as np"
   ]
  },
  {
   "cell_type": "code",
   "execution_count": 3,
   "metadata": {
    "ExecuteTime": {
     "end_time": "2022-05-22T15:32:40.704103Z",
     "start_time": "2022-05-22T15:32:40.691138Z"
    }
   },
   "outputs": [],
   "source": [
    "image = cv2.imread('DATA/cat.jpeg')\n",
    "height, width = image.shape[:2]"
   ]
  },
  {
   "cell_type": "code",
   "execution_count": 4,
   "metadata": {
    "ExecuteTime": {
     "end_time": "2022-05-22T15:32:44.662386Z",
     "start_time": "2022-05-22T15:32:44.652420Z"
    }
   },
   "outputs": [
    {
     "data": {
      "text/plain": [
       "(350, 528, 3)"
      ]
     },
     "execution_count": 4,
     "metadata": {},
     "output_type": "execute_result"
    }
   ],
   "source": [
    "image.shape"
   ]
  },
  {
   "cell_type": "code",
   "execution_count": 25,
   "metadata": {
    "ExecuteTime": {
     "end_time": "2022-05-22T15:36:05.312170Z",
     "start_time": "2022-05-22T15:36:05.292220Z"
    }
   },
   "outputs": [],
   "source": [
    "# Divide by two to rototate the image around its centre\n",
    "rotation_matrix = cv2.getRotationMatrix2D((width/2, height/2), 120, 1)\n"
   ]
  },
  {
   "cell_type": "code",
   "execution_count": 26,
   "metadata": {
    "ExecuteTime": {
     "end_time": "2022-05-22T15:36:06.102506Z",
     "start_time": "2022-05-22T15:36:06.091535Z"
    }
   },
   "outputs": [
    {
     "data": {
      "text/plain": [
       "array([[ -0.5       ,   0.8660254 , 244.44555434],\n",
       "       [ -0.8660254 ,  -0.5       , 491.1307066 ]])"
      ]
     },
     "execution_count": 26,
     "metadata": {},
     "output_type": "execute_result"
    }
   ],
   "source": [
    "rotation_matrix"
   ]
  },
  {
   "cell_type": "code",
   "execution_count": 27,
   "metadata": {
    "ExecuteTime": {
     "end_time": "2022-05-22T15:36:08.391906Z",
     "start_time": "2022-05-22T15:36:06.476999Z"
    }
   },
   "outputs": [],
   "source": [
    "rotated_image = cv2.warpAffine(image, rotation_matrix, (width, height))\n",
    "cv2.imshow('Rotated Image', rotated_image)\n",
    "cv2.waitKey()\n",
    "cv2.destroyAllWindows()"
   ]
  },
  {
   "cell_type": "markdown",
   "metadata": {},
   "source": [
    "### Notice all the black space surrounding the image.\n",
    "\n",
    "We could now crop the image as we can calculate it's new size\n",
    "\n",
    "But here's another method for simple rotations that uses the cv2.transpose function"
   ]
  },
  {
   "cell_type": "code",
   "execution_count": 14,
   "metadata": {
    "ExecuteTime": {
     "end_time": "2022-05-22T15:35:07.617972Z",
     "start_time": "2022-05-22T15:35:05.453222Z"
    }
   },
   "outputs": [],
   "source": [
    "#Other Option to Rotate\n",
    "img = cv2.imread('DATA/cat.jpeg')\n",
    "\n",
    "rotated_image = cv2.transpose(img)\n",
    "\n",
    "cv2.imshow('Rotated Image - Method 2', rotated_image)\n",
    "cv2.waitKey()\n",
    "cv2.destroyAllWindows()"
   ]
  },
  {
   "cell_type": "code",
   "execution_count": 15,
   "metadata": {
    "ExecuteTime": {
     "end_time": "2022-05-22T15:35:13.021842Z",
     "start_time": "2022-05-22T15:35:11.460254Z"
    }
   },
   "outputs": [],
   "source": [
    "# Let's now to a horizontal flip.\n",
    "flipped = cv2.flip(image, 0)\n",
    "cv2.imshow('Horizontal Flip', flipped) \n",
    "cv2.waitKey()\n",
    "cv2.destroyAllWindows()"
   ]
  },
  {
   "cell_type": "code",
   "execution_count": null,
   "metadata": {},
   "outputs": [],
   "source": []
  },
  {
   "cell_type": "markdown",
   "metadata": {
    "collapsed": true
   },
   "source": [
    "### Create custom function to rotate images in any point(default is center)"
   ]
  },
  {
   "cell_type": "code",
   "execution_count": 10,
   "metadata": {},
   "outputs": [],
   "source": [
    "def rotate(image, angel, center=None, scale=1.0):\n",
    "    \n",
    "    (h,w) = image.shape[:2]\n",
    "    \n",
    "    if center==None:\n",
    "        center = (w//2, h//2)\n",
    "        \n",
    "    # create matrix for rotation\n",
    "    M = cv2.getRotationMatrix2D(center, angel, scale)\n",
    "    rotated = cv2.warpAffine(image, M, (w, h))\n",
    "    \n",
    "    return rotated"
   ]
  },
  {
   "cell_type": "code",
   "execution_count": 11,
   "metadata": {},
   "outputs": [],
   "source": [
    "# rotate the image by 120 deg in center point\n",
    "rot = rotate(image, 120)\n",
    "cv2.imshow('Rotated image', rot) \n",
    "cv2.waitKey()\n",
    "cv2.destroyAllWindows()"
   ]
  },
  {
   "cell_type": "code",
   "execution_count": 12,
   "metadata": {},
   "outputs": [],
   "source": [
    "# rotate the image by 20 deg in y middle point\n",
    "rot = rotate(image, angel = 12, center = (43, 0))\n",
    "cv2.imshow('Rotated image', rot) \n",
    "cv2.waitKey()\n",
    "cv2.destroyAllWindows()"
   ]
  },
  {
   "cell_type": "code",
   "execution_count": null,
   "metadata": {},
   "outputs": [],
   "source": []
  }
 ],
 "metadata": {
  "kernelspec": {
   "display_name": "Python 3",
   "language": "python",
   "name": "python3"
  },
  "language_info": {
   "codemirror_mode": {
    "name": "ipython",
    "version": 3
   },
   "file_extension": ".py",
   "mimetype": "text/x-python",
   "name": "python",
   "nbconvert_exporter": "python",
   "pygments_lexer": "ipython3",
   "version": "3.7.6"
  }
 },
 "nbformat": 4,
 "nbformat_minor": 1
}
